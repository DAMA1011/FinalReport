{
 "cells": [
  {
   "cell_type": "code",
   "execution_count": null,
   "id": "4573eec1",
   "metadata": {},
   "outputs": [],
   "source": [
    "import pandas as pd\n",
    "import numpy as np\n",
    "import re\n",
    "# https://regex101.com/r/7R3y4i/1"
   ]
  },
  {
   "cell_type": "code",
   "execution_count": null,
   "id": "554df9f0",
   "metadata": {},
   "outputs": [],
   "source": [
    "# df = pd.read_csv(\"Data/raw_data/restaurant/review/review_clean/1.csv\")\n",
    "df = pd.read_csv(\"raw_data/attraction/review_clean/a0.csv\")\n",
    "df.head(2)"
   ]
  },
  {
   "cell_type": "code",
   "execution_count": null,
   "id": "1e373536",
   "metadata": {},
   "outputs": [],
   "source": [
    "# c = df[\"review_text\"][df.loc[:,\"personal_rating\"] == 1].sample(n=1,random_state=1)\n",
    "# d = c.index[0]"
   ]
  },
  {
   "cell_type": "code",
   "execution_count": null,
   "id": "11e3b383",
   "metadata": {},
   "outputs": [],
   "source": [
    "pd.set_option(\"display.max_colwidth\",999)\n",
    "pd.set_option(\"display.max_rows\",999)"
   ]
  },
  {
   "cell_type": "code",
   "execution_count": null,
   "id": "9d31904b",
   "metadata": {
    "scrolled": true
   },
   "outputs": [],
   "source": [
    "df.loc[:,\"review_text\"]"
   ]
  },
  {
   "cell_type": "code",
   "execution_count": null,
   "id": "e9fe817d",
   "metadata": {},
   "outputs": [],
   "source": [
    "sre = \"(由 Google 提供翻譯)\\n食物質量很好。我得到的chirashi的部分有點太小了。然後，如果我想訂購其他東西，我必須使用花哨的機器來這樣做，所以沒有打擾。  \\n  \\n(原始評論)  \\nFood was good quality. The portion of the chirashi I got was a bit too small.\\nAnd then if I wanted to order something else I had to use the gimmicky machine\\nto do so so didn’t bother.\\n\\n\"\n",
    "regex = r\"\\\\|\\n|[a-zA-Z]|\\(原始評論\\)|\\.|\\’|[\\u0800-\\u4e00]|\\(由 Google 提供翻譯\\)\"\n",
    "strResult = re.sub(regex, \"\", sre)\n",
    "strResult"
   ]
  },
  {
   "cell_type": "code",
   "execution_count": null,
   "id": "65016d87",
   "metadata": {},
   "outputs": [],
   "source": [
    "sre1 = \"국학대사 전목 선생의 기념관은 인상적이었습니다 더 많은 관람객의 방문이 있었으면 합니다\"\n",
    "regex = r\"\\\\|\\n|[a-zA-Z]|\\(原始評論\\)|\\.|\\’|[\\u0800-\\u4e00]|\\(由 Google 提供翻譯\\)|[\\uAC00-\\uD7A3]\"\n",
    "strResult = re.sub(regex, \"\", sre1)\n",
    "strResult"
   ]
  },
  {
   "cell_type": "markdown",
   "id": "44ed7540",
   "metadata": {},
   "source": [
    "# 景點,隨機選30個csv裡的隨機10則評論"
   ]
  },
  {
   "cell_type": "code",
   "execution_count": 2,
   "id": "76fcf945",
   "metadata": {},
   "outputs": [],
   "source": [
    "import pandas as pd\n",
    "import numpy as np\n",
    "import re ,os,random"
   ]
  },
  {
   "cell_type": "code",
   "execution_count": null,
   "id": "122e1437",
   "metadata": {},
   "outputs": [],
   "source": [
    "# 選300個檔案,每個檔案 評論 1~5星各1筆\n",
    "file = os.listdir(\"Data/raw_data/attraction/review/review_clean/\")\n",
    "# 隨機抽取30個整數,return nparray\n",
    "random_ = np.random.choice(len(file),1,replace=False)\n",
    "print(random_)"
   ]
  },
  {
   "cell_type": "code",
   "execution_count": null,
   "id": "946e610c",
   "metadata": {},
   "outputs": [],
   "source": [
    "# [\\u0800-\\u4e00] 日語\n",
    "# [\\uAC00-\\uD7A3] 韓語\n",
    "folderPath = \"random_review_text_attraction\"\n",
    "listReview=[]\n",
    "ratinglist=[]\n",
    "for i in random_:\n",
    "    df = pd.read_csv(f\"raw_data/attraction/review_clean/{file[i]}\")\n",
    "    # 隨機抽取各個檔案裡 評論 1~5星各1筆\n",
    "    rating_one = df[\"review_text\"][df.loc[:,\"personal_rating\"] == 1].sample(n=1)\n",
    "    ratinglist.append(rating_one)\n",
    "    rating_two = df[\"review_text\"][df.loc[:,\"personal_rating\"] == 2].sample(n=1)\n",
    "    ratinglist.append(rating_two)\n",
    "    rating_three = df[\"review_text\"][df.loc[:,\"personal_rating\"] == 3].sample(n=1)\n",
    "    ratinglist.append(rating_three)\n",
    "    rating_four = df[\"review_text\"][df.loc[:,\"personal_rating\"] == 4].sample(n=1)\n",
    "    ratinglist.append(rating_four)\n",
    "    rating_five = df[\"review_text\"][df.loc[:,\"personal_rating\"] == 5].sample(n=1)\n",
    "    ratinglist.append(rating_five)\n",
    "#     a = df.loc[:,\"review_text\"].sample(n=10,random_state=1)\n",
    "    # 每則評論都要過濾不重要的文字 ex: 日韓英語...\n",
    "    for j in ratinglist:    \n",
    "        b = j.index[0]\n",
    "        regex = r\"\\\\|\\n|[a-zA-Z]|\\(原始評論\\)|\\.|\\’|[\\u0800-\\u4e00]|\\(由 Google 提供翻譯\\)|[\\uAC00-\\uD7A3]\"\n",
    "        strResult = re.sub(regex, \"\", j[b])\n",
    "        listReview.append({\n",
    "            \"review_text\":strResult\n",
    "        })\n",
    "df = pd.DataFrame(listReview)\n",
    "df.to_csv(f'raw_data/attraction/{folderPath}.csv',mode='a', header=False, index=False)"
   ]
  },
  {
   "cell_type": "code",
   "execution_count": null,
   "id": "1d00dcee",
   "metadata": {},
   "outputs": [],
   "source": [
    "dff = pd.read_csv(\"Data/raw_data/attraction/review/random_review_text_attraction.csv\",header=None)\n",
    "dff"
   ]
  },
  {
   "cell_type": "code",
   "execution_count": null,
   "id": "ded8bede",
   "metadata": {},
   "outputs": [],
   "source": []
  },
  {
   "cell_type": "code",
   "execution_count": 3,
   "id": "8c3e7950",
   "metadata": {},
   "outputs": [],
   "source": [
    "def regex_(str_):\n",
    "    regex = r\"\\\\|\\n|[a-zA-Z]|\\(原始評論\\)|\\.|\\’|[\\u0800-\\u4e00]|\\(由 Google 提供翻譯\\)|[\\uAC00-\\uD7A3]\"\n",
    "    strResult = re.sub(regex, \"\", str_)\n",
    "    return strResult"
   ]
  },
  {
   "cell_type": "code",
   "execution_count": 4,
   "id": "c36005eb",
   "metadata": {},
   "outputs": [],
   "source": [
    "def randomselect(file,rating):\n",
    "    try:\n",
    "        random_ = np.random.choice(len(file),1)\n",
    "        df = pd.read_csv(f\"raw_data/attraction/review_clean/{file[i]}\")\n",
    "        SeriesReview = df[\"review_text\"][df.loc[:,\"personal_rating\"] == rating].sample(n=1)\n",
    "        index_ = SeriesReview.index[0]        \n",
    "        strResult = regex_(SeriesReview[index_])\n",
    "        listReview.append({\n",
    "            \"review_text\":strResult\n",
    "        })\n",
    "    except:\n",
    "        randomselect(file,rating)"
   ]
  },
  {
   "cell_type": "code",
   "execution_count": null,
   "id": "afdb35bb",
   "metadata": {},
   "outputs": [],
   "source": [
    "file = os.listdir(\"Data/raw_data/attraction/review/review_clean/\")\n",
    "folderPath = \"random_review_text_attraction\"    \n",
    "\n",
    "listReview=[]\n",
    "ratinglist=[1,2,3,4,5]\n",
    "\n",
    "for rating in ratinglist:    \n",
    "    random_ = np.random.choice(len(file),100,replace=False)    \n",
    "    for i in random_:\n",
    "        try:\n",
    "            df = pd.read_csv(f\"raw_data/attraction/review_clean/{file[i]}\")\n",
    "            SeriesReview = df[\"review_text\"][df.loc[:,\"personal_rating\"] == rating].sample(n=1)\n",
    "            index_ = SeriesReview.index[0]        \n",
    "            strResult = regex_(SeriesReview[index_])\n",
    "            listReview.append({\n",
    "                \"review_text\":strResult\n",
    "            })\n",
    "        except:\n",
    "            randomselect(file,rating)\n",
    "            \n",
    "    df = pd.DataFrame(listReview)\n",
    "    df.to_csv(f'raw_data/attraction/{folderPath}.csv',mode='a', header=False, index=False)"
   ]
  },
  {
   "cell_type": "code",
   "execution_count": null,
   "id": "275b839a",
   "metadata": {},
   "outputs": [],
   "source": []
  },
  {
   "cell_type": "code",
   "execution_count": null,
   "id": "b3871e2a",
   "metadata": {},
   "outputs": [],
   "source": []
  },
  {
   "cell_type": "code",
   "execution_count": null,
   "id": "e9507473",
   "metadata": {},
   "outputs": [],
   "source": []
  },
  {
   "cell_type": "code",
   "execution_count": null,
   "id": "32f2050f",
   "metadata": {},
   "outputs": [],
   "source": []
  },
  {
   "cell_type": "code",
   "execution_count": null,
   "id": "0c358336",
   "metadata": {},
   "outputs": [],
   "source": []
  },
  {
   "cell_type": "code",
   "execution_count": null,
   "id": "bb957b02",
   "metadata": {},
   "outputs": [],
   "source": []
  },
  {
   "cell_type": "markdown",
   "id": "213b9322",
   "metadata": {},
   "source": [
    "# 餐廳,隨機選400個csv裡的隨機10則評論"
   ]
  },
  {
   "cell_type": "code",
   "execution_count": null,
   "id": "f4eb7119",
   "metadata": {},
   "outputs": [],
   "source": [
    "import pandas as pd\n",
    "import numpy as np\n",
    "import re ,os,random"
   ]
  },
  {
   "cell_type": "code",
   "execution_count": null,
   "id": "739490e7",
   "metadata": {},
   "outputs": [],
   "source": [
    "# # 選30個檔案,每個檔案選10筆\n",
    "# file = os.listdir(\"raw_data/restaurant/review_clean/\")\n",
    "# # 隨機抽取30個整數,return nparray\n",
    "# random_ = np.random.choice(len(file),300,replace=False)\n",
    "# random_"
   ]
  },
  {
   "cell_type": "code",
   "execution_count": null,
   "id": "515fe688",
   "metadata": {},
   "outputs": [],
   "source": [
    "# [\\u0800-\\u4e00] 日語\n",
    "# [\\uAC00-\\uD7A3] 韓語\n",
    "file = os.listdir(\"raw_data/restaurant/review_clean/\")\n",
    "folderPath = \"random_review_text_restaurant\"\n",
    "counter = 0"
   ]
  },
  {
   "cell_type": "code",
   "execution_count": null,
   "id": "497bd665",
   "metadata": {},
   "outputs": [],
   "source": [
    "def randomselect():   \n",
    "    global counter\n",
    "    \n",
    "    try:\n",
    "        random_ = np.random.choice(len(file),300,replace=False)\n",
    "        listReview=[]\n",
    "        ratinglist=[]\n",
    "        for i in random_:\n",
    "            df = pd.read_csv(f\"raw_data/restaurant/review_clean/{file[i]}\")\n",
    "            # 隨機抽取各個檔案裡的10則評論\n",
    "            rating_one = df[\"review_text\"][df.loc[:,\"personal_rating\"] == 1].sample(n=1)\n",
    "            ratinglist.append(rating_one)\n",
    "            rating_two = df[\"review_text\"][df.loc[:,\"personal_rating\"] == 2].sample(n=1)\n",
    "            ratinglist.append(rating_two)\n",
    "            rating_three = df[\"review_text\"][df.loc[:,\"personal_rating\"] == 3].sample(n=1)\n",
    "            ratinglist.append(rating_three)\n",
    "            rating_four = df[\"review_text\"][df.loc[:,\"personal_rating\"] == 4].sample(n=1)\n",
    "            ratinglist.append(rating_four)\n",
    "            rating_five = df[\"review_text\"][df.loc[:,\"personal_rating\"] == 5].sample(n=1)\n",
    "            ratinglist.append(rating_five)\n",
    "            # 每則評論都要過濾不重要的文字 ex: 日韓英語...\n",
    "            for j in ratinglist:    \n",
    "                b = j.index[0]\n",
    "                regex = r\"\\\\|\\n|[a-zA-Z]|\\(原始評論\\)|\\.|\\’|[\\u0800-\\u4e00]|\\(由 Google 提供翻譯\\)|[\\uAC00-\\uD7A3]|＝\"\n",
    "                strResult = re.sub(regex, \"\", j[b])\n",
    "                listReview.append({\n",
    "                    \"review_text\":strResult\n",
    "                })\n",
    "        df = pd.DataFrame(listReview)\n",
    "        df.to_csv(f'raw_data/restaurant/{folderPath}.csv',mode='a', header=False, index=False)\n",
    "        \n",
    "    except:\n",
    "        counter+=1\n",
    "        print(f\"已重新選取第{counter}次\")\n",
    "        randomselect()\n",
    "        "
   ]
  },
  {
   "cell_type": "code",
   "execution_count": null,
   "id": "61b1b75a",
   "metadata": {},
   "outputs": [],
   "source": [
    "randomselect()"
   ]
  },
  {
   "cell_type": "code",
   "execution_count": null,
   "id": "32ba8d93",
   "metadata": {},
   "outputs": [],
   "source": [
    "dff = pd.read_csv(\"Data/raw_data/restaurant/review/random_review_text_restaurant.csv\",header=None)\n",
    "dff"
   ]
  },
  {
   "cell_type": "markdown",
   "id": "7686bbad",
   "metadata": {},
   "source": [
    "# attraction review count "
   ]
  },
  {
   "cell_type": "code",
   "execution_count": null,
   "id": "1d29e20b",
   "metadata": {},
   "outputs": [],
   "source": [
    "file = os.listdir(\"Data/raw_data/attraction/review/review_clean/\")\n",
    "count = 0\n",
    "for i in file:\n",
    "    df = pd.read_csv(f\"Data/raw_data/attraction/review/review_clean/{i}\")\n",
    "    count+=len(df)\n",
    "print(count)"
   ]
  },
  {
   "cell_type": "markdown",
   "id": "0e9a7884",
   "metadata": {},
   "source": [
    "# restaurant review count"
   ]
  },
  {
   "cell_type": "code",
   "execution_count": null,
   "id": "9dea77a8",
   "metadata": {},
   "outputs": [],
   "source": [
    "file = os.listdir(\"Data/raw_data/restaurant/review/review_clean/\")\n",
    "count = 0\n",
    "for i in file:\n",
    "    df = pd.read_csv(f\"Data/raw_data/restaurant/review/review_clean/{i}\")\n",
    "    count+=len(df)\n",
    "print(count)"
   ]
  },
  {
   "cell_type": "code",
   "execution_count": null,
   "id": "01318005",
   "metadata": {},
   "outputs": [],
   "source": []
  }
 ],
 "metadata": {
  "kernelspec": {
   "display_name": "Python 3 (ipykernel)",
   "language": "python",
   "name": "python3"
  },
  "language_info": {
   "codemirror_mode": {
    "name": "ipython",
    "version": 3
   },
   "file_extension": ".py",
   "mimetype": "text/x-python",
   "name": "python",
   "nbconvert_exporter": "python",
   "pygments_lexer": "ipython3",
   "version": "3.9.13"
  }
 },
 "nbformat": 4,
 "nbformat_minor": 5
}
