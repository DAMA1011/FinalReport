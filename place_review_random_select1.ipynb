{
 "cells": [
  {
   "cell_type": "markdown",
   "id": "fac1bcd5",
   "metadata": {},
   "source": [
    "# Test"
   ]
  },
  {
   "cell_type": "code",
   "execution_count": null,
   "id": "4573eec1",
   "metadata": {},
   "outputs": [],
   "source": [
    "# import pandas as pd\n",
    "# import numpy as np\n",
    "# import re,os\n",
    "# https://regex101.com/r/7R3y4i/1"
   ]
  },
  {
   "cell_type": "code",
   "execution_count": null,
   "id": "554df9f0",
   "metadata": {},
   "outputs": [],
   "source": [
    "# df = pd.read_csv(\"Data/raw_data/restaurant/review/review_clean/1.csv\")\n",
    "# file = os.listdir(\"Data/raw_data/attraction/review/review_clean/\")\n",
    "# df = pd.read_csv(f\"Data/raw_data/attraction/review/review_clean/{file[48]}\")\n",
    "# df.head(2)"
   ]
  },
  {
   "cell_type": "code",
   "execution_count": null,
   "id": "1e373536",
   "metadata": {},
   "outputs": [],
   "source": [
    "# c = df[[\"personal_rating\",\"review_text\"]][df.loc[:,\"personal_rating\"] == 1].sample(n=1,random_state=1)\n",
    "# d = c.index[0]"
   ]
  },
  {
   "cell_type": "code",
   "execution_count": null,
   "id": "44be4a93",
   "metadata": {},
   "outputs": [],
   "source": [
    "# c"
   ]
  },
  {
   "cell_type": "code",
   "execution_count": null,
   "id": "5aace6fc",
   "metadata": {},
   "outputs": [],
   "source": [
    "# d"
   ]
  },
  {
   "cell_type": "code",
   "execution_count": null,
   "id": "2053e6ed",
   "metadata": {},
   "outputs": [],
   "source": [
    "# c.loc[d,\"review_text\"]"
   ]
  },
  {
   "cell_type": "code",
   "execution_count": null,
   "id": "a4a5bd22",
   "metadata": {},
   "outputs": [],
   "source": [
    "# random_ = np.random.choice(len(file),1,replace=False)  \n",
    "# random_[0]"
   ]
  },
  {
   "cell_type": "code",
   "execution_count": null,
   "id": "e9fe817d",
   "metadata": {},
   "outputs": [],
   "source": [
    "# sre = \"(由 Google 提供翻譯)\\n食物質量很好。我得到的chirashi的部分有點太小了。然後，如果我想訂購其他東西，我必須使用花哨的機器來這樣做，所以沒有打擾。  \\n  \\n(原始評論)  \\nFood was good quality. The portion of the chirashi I got was a bit too small.\\nAnd then if I wanted to order something else I had to use the gimmicky machine\\nto do so so didn’t bother.\\n\\n\"\n",
    "# regex = r\"\\\\|\\n|[a-zA-Z]|\\(原始評論\\)|\\.|\\’|[\\u0800-\\u4e00]|\\(由 Google 提供翻譯\\)\"\n",
    "# strResult = re.sub(regex, \"\", sre)\n",
    "# strResult"
   ]
  },
  {
   "cell_type": "code",
   "execution_count": null,
   "id": "65016d87",
   "metadata": {},
   "outputs": [],
   "source": [
    "# sre1 = \"국학대사 전목 선생의 기념관은 인상적이었습니다 더 많은 관람객의 방문이 있었으면 합니다\"\n",
    "# regex = r\"\\\\|\\n|[a-zA-Z]|\\(原始評論\\)|\\.|\\’|[\\u0800-\\u4e00]|\\(由 Google 提供翻譯\\)|[\\uAC00-\\uD7A3]\"\n",
    "# strResult = re.sub(regex, \"\", sre1)\n",
    "# strResult"
   ]
  },
  {
   "cell_type": "markdown",
   "id": "44ed7540",
   "metadata": {},
   "source": [
    "# 景點,5種星數,各隨機選100個csv裡的隨機1則評論"
   ]
  },
  {
   "cell_type": "code",
   "execution_count": null,
   "id": "6ed65412",
   "metadata": {},
   "outputs": [],
   "source": [
    "def regex_(str_):\n",
    "    regex = r\"\\\\|\\n|[a-zA-Z]|\\(原始評論\\)|\\.|\\’|[\\u0800-\\u4e00]|\\(由 Google 提供翻譯\\)|[\\uAC00-\\uD7A3]\"\n",
    "    strResult = re.sub(regex, \"\", str_)\n",
    "    return strResult"
   ]
  },
  {
   "cell_type": "code",
   "execution_count": null,
   "id": "89bf17f4",
   "metadata": {},
   "outputs": [],
   "source": [
    "def randomselect(file,rating,folderPath,int_):\n",
    "    try:  \n",
    "        df = pd.read_csv(f\"{folderPath}/{file[int_]}\")        \n",
    "        dfReview = df[[\"personal_rating\",\"review_text\"]][df.loc[:,\"personal_rating\"] == rating].sample(n=1)\n",
    "        index_ = dfReview.index[0] \n",
    "        \n",
    "        strReview = dfReview.loc[index_,\"review_text\"]\n",
    "        intRating = dfReview.loc[index_,\"personal_rating\"]\n",
    "        \n",
    "        strResult = regex_(strReview)\n",
    "        \n",
    "        listReview.append({\n",
    "            \"personal_rating\":intRating,\n",
    "            \"review_text\":strResult\n",
    "        })\n",
    "    except:\n",
    "        random_ = np.random.choice(len(file),1)\n",
    "        int_ = random_[0]\n",
    "        print(f\"重取評論,新亂數{int_}\")\n",
    "        randomselect(file,rating,folderPath,int_)"
   ]
  },
  {
   "cell_type": "code",
   "execution_count": null,
   "id": "6e262371",
   "metadata": {
    "scrolled": true
   },
   "outputs": [],
   "source": [
    "import pandas as pd\n",
    "import numpy as np\n",
    "import re ,os,random\n",
    "\n",
    "file = os.listdir(\"Data/raw_data/attraction/review/review_clean/\")\n",
    "folderPath = \"Data/raw_data/attraction/review/review_clean\"\n",
    "fileName = \"random_review_text_attraction\"    \n",
    "ratingList = [1,2,3,4,5]\n",
    "\n",
    "for rating in ratingList:\n",
    "    listReview=[]\n",
    "    random_ = np.random.choice(len(file),100,replace=False)    \n",
    "    for int_ in random_:\n",
    "        try:\n",
    "            randomselect(file,rating,folderPath,int_)\n",
    "        except:            \n",
    "            random_ = np.random.choice(len(file),1)\n",
    "            int_ = random_[0]\n",
    "            print(f\"重取評論,新亂數{int_}\")\n",
    "            randomselect(file,rating,folderPath,int_)\n",
    "\n",
    "    df = pd.DataFrame(listReview,columns=['personal_rating', 'review_text',])\n",
    "    df.to_csv(f'Data/raw_data/attraction/review/{fileName}.csv',mode='a', header=False, index=False)"
   ]
  },
  {
   "cell_type": "code",
   "execution_count": null,
   "id": "49b343a0",
   "metadata": {},
   "outputs": [],
   "source": [
    "dff = pd.read_csv(\"Data/raw_data/attraction/review/random_review_text_attraction.csv\",header=None)\n",
    "dff.columns = ['personal_rating', 'review_text'] \n",
    "dff"
   ]
  },
  {
   "cell_type": "markdown",
   "id": "213b9322",
   "metadata": {},
   "source": [
    "# 餐廳,5種星數,各隨機選300個csv裡的隨機1則評論"
   ]
  },
  {
   "cell_type": "code",
   "execution_count": null,
   "id": "1eed9839",
   "metadata": {
    "scrolled": true
   },
   "outputs": [],
   "source": [
    "import pandas as pd\n",
    "import numpy as np\n",
    "import re ,os,random\n",
    "\n",
    "file = os.listdir(\"Data/raw_data/restaurant/review/review_clean/\")\n",
    "folderPath = \"Data/raw_data/restaurant/review/review_clean\"\n",
    "fileName = \"random_review_text_restaurant\"    \n",
    "ratingList = [1,2,3,4,5]\n",
    "\n",
    "for rating in ratingList:\n",
    "    listReview=[]\n",
    "    random_ = np.random.choice(len(file),300,replace=False)    \n",
    "    for int_ in random_:\n",
    "        try:\n",
    "            randomselect(file,rating,folderPath,int_)\n",
    "        except:            \n",
    "            random_ = np.random.choice(len(file),1)\n",
    "            int_ = random_[0]\n",
    "            print(f\"重取評論,新亂數{int_}\")\n",
    "            randomselect(file,rating,folderPath,int_)\n",
    "\n",
    "    df = pd.DataFrame(listReview)\n",
    "    df.to_csv(f'Data/raw_data/restaurant/review/{fileName}.csv',mode='a', header=False, index=False)"
   ]
  },
  {
   "cell_type": "code",
   "execution_count": null,
   "id": "32ba8d93",
   "metadata": {},
   "outputs": [],
   "source": [
    "dff = pd.read_csv(\"Data/raw_data/restaurant/review/random_review_text_restaurant.csv\",header=None)\n",
    "dff.columns = ['personal_rating', 'review_text'] \n",
    "dff"
   ]
  },
  {
   "cell_type": "markdown",
   "id": "9d9a785e",
   "metadata": {},
   "source": [
    "# 景點,評論按照rating 1-5 ,平均切割6份,人工標記label"
   ]
  },
  {
   "cell_type": "code",
   "execution_count": 96,
   "id": "12c40b09",
   "metadata": {},
   "outputs": [],
   "source": [
    "import pandas as pd\n",
    "import math"
   ]
  },
  {
   "cell_type": "code",
   "execution_count": 101,
   "id": "3382569b",
   "metadata": {},
   "outputs": [],
   "source": [
    "def split_to_sixFile(folderPath,rating_):\n",
    "    df = pd.read_csv(f\"{folderPath}\",header=None) \n",
    "#     df.columns = ['personal_rating', 'review_text'] \n",
    "    df = df[df.iloc[:,0]==rating_]\n",
    "    df_num = len(df)\n",
    "    each = math.ceil(df_num/6)\n",
    "    for i in range(1,7):\n",
    "        file_name = f'review_label_{i}.csv'\n",
    "        if i <= 6:\n",
    "            df1 = df[each*(i-1):each*i]\n",
    "            df1.to_csv(file_name , mode='a',index = False , header=None)"
   ]
  },
  {
   "cell_type": "code",
   "execution_count": 103,
   "id": "549c6c38",
   "metadata": {},
   "outputs": [],
   "source": [
    "folderPath = \"Data/raw_data/attraction/review/random_review_text_attraction.csv\"\n",
    "ratingList = [1,2,3,4,5]\n",
    "for rating_ in ratingList:\n",
    "    split_to_sixFile(folderPath,rating_)"
   ]
  },
  {
   "cell_type": "code",
   "execution_count": 105,
   "id": "1c2c5b9e",
   "metadata": {},
   "outputs": [
    {
     "data": {
      "text/html": [
       "<div>\n",
       "<style scoped>\n",
       "    .dataframe tbody tr th:only-of-type {\n",
       "        vertical-align: middle;\n",
       "    }\n",
       "\n",
       "    .dataframe tbody tr th {\n",
       "        vertical-align: top;\n",
       "    }\n",
       "\n",
       "    .dataframe thead th {\n",
       "        text-align: right;\n",
       "    }\n",
       "</style>\n",
       "<table border=\"1\" class=\"dataframe\">\n",
       "  <thead>\n",
       "    <tr style=\"text-align: right;\">\n",
       "      <th></th>\n",
       "      <th>0</th>\n",
       "      <th>1</th>\n",
       "    </tr>\n",
       "  </thead>\n",
       "  <tbody>\n",
       "    <tr>\n",
       "      <th>0</th>\n",
       "      <td>1</td>\n",
       "      <td>比其他公園還差，沒建設沒人管要檢討</td>\n",
       "    </tr>\n",
       "    <tr>\n",
       "      <th>1</th>\n",
       "      <td>1</td>\n",
       "      <td>步道木板壞得很嚴重，希望部要有人受傷了!</td>\n",
       "    </tr>\n",
       "    <tr>\n",
       "      <th>2</th>\n",
       "      <td>1</td>\n",
       "      <td>雖說是個世界級的地標！服務人員態度及友善度都很差！沒有親切感，工作人員更是沒有溫度可惜了！空...</td>\n",
       "    </tr>\n",
       "    <tr>\n",
       "      <th>3</th>\n",
       "      <td>1</td>\n",
       "      <td>地點</td>\n",
       "    </tr>\n",
       "    <tr>\n",
       "      <th>4</th>\n",
       "      <td>1</td>\n",
       "      <td>千萬不要跟605的建順水果行買水果(老闆是個講話口吃的人)， 他會利用你的愛心賣你黑掉的芒果...</td>\n",
       "    </tr>\n",
       "    <tr>\n",
       "      <th>...</th>\n",
       "      <td>...</td>\n",
       "      <td>...</td>\n",
       "    </tr>\n",
       "    <tr>\n",
       "      <th>80</th>\n",
       "      <td>5</td>\n",
       "      <td>在台北市這樣的都會叢林中，有個可以打球，散步，騎自行車的地方，很舒服</td>\n",
       "    </tr>\n",
       "    <tr>\n",
       "      <th>81</th>\n",
       "      <td>5</td>\n",
       "      <td>攤位種類多，用參環境清潔乾凈，環境維持的很好，價格公道，是用餐的好地方</td>\n",
       "    </tr>\n",
       "    <tr>\n",
       "      <th>82</th>\n",
       "      <td>5</td>\n",
       "      <td>看乃文老師的個展塊骨頭如何是精神的存在</td>\n",
       "    </tr>\n",
       "    <tr>\n",
       "      <th>83</th>\n",
       "      <td>5</td>\n",
       "      <td>202203  1）台北市市定古蹟  2）不收門票  3）營業日：星期（二）~（日）  欣賞...</td>\n",
       "    </tr>\n",
       "    <tr>\n",
       "      <th>84</th>\n",
       "      <td>5</td>\n",
       "      <td>這個溫泉池真的很自然，團煙霧瀰漫在池子裡，，  這個自然奇觀真的很神奇，為了遊客的安全，游...</td>\n",
       "    </tr>\n",
       "  </tbody>\n",
       "</table>\n",
       "<p>85 rows × 2 columns</p>\n",
       "</div>"
      ],
      "text/plain": [
       "    0                                                  1\n",
       "0   1                                  比其他公園還差，沒建設沒人管要檢討\n",
       "1   1                               步道木板壞得很嚴重，希望部要有人受傷了!\n",
       "2   1  雖說是個世界級的地標！服務人員態度及友善度都很差！沒有親切感，工作人員更是沒有溫度可惜了！空...\n",
       "3   1                                           地點      \n",
       "4   1  千萬不要跟605的建順水果行買水果(老闆是個講話口吃的人)， 他會利用你的愛心賣你黑掉的芒果...\n",
       ".. ..                                                ...\n",
       "80  5                 在台北市這樣的都會叢林中，有個可以打球，散步，騎自行車的地方，很舒服\n",
       "81  5                攤位種類多，用參環境清潔乾凈，環境維持的很好，價格公道，是用餐的好地方\n",
       "82  5                                看乃文老師的個展塊骨頭如何是精神的存在\n",
       "83  5  202203  1）台北市市定古蹟  2）不收門票  3）營業日：星期（二）~（日）  欣賞...\n",
       "84  5   這個溫泉池真的很自然，團煙霧瀰漫在池子裡，，  這個自然奇觀真的很神奇，為了遊客的安全，游...\n",
       "\n",
       "[85 rows x 2 columns]"
      ]
     },
     "execution_count": 105,
     "metadata": {},
     "output_type": "execute_result"
    }
   ],
   "source": [
    "df_1 = pd.read_csv(\"Data/raw_data/attraction/review/review_分六份人工標記label/review_label_1.csv\",header=None)\n",
    "df_1"
   ]
  },
  {
   "cell_type": "markdown",
   "id": "ddbce56f",
   "metadata": {},
   "source": [
    "# 餐廳,評論按照rating 1-5 ,平均切割6份,人工標記label"
   ]
  },
  {
   "cell_type": "code",
   "execution_count": 94,
   "id": "14badf50",
   "metadata": {},
   "outputs": [],
   "source": [
    "folderPath = \"Data/raw_data/restaurant/review/random_review_text_restaurant.csv\"\n",
    "ratingList = [1,2,3,4,5]\n",
    "for rating_ in ratingList:\n",
    "    split_to_sixFile(folderPath,rating_)"
   ]
  },
  {
   "cell_type": "code",
   "execution_count": 106,
   "id": "1a9e68b9",
   "metadata": {},
   "outputs": [
    {
     "data": {
      "text/html": [
       "<div>\n",
       "<style scoped>\n",
       "    .dataframe tbody tr th:only-of-type {\n",
       "        vertical-align: middle;\n",
       "    }\n",
       "\n",
       "    .dataframe tbody tr th {\n",
       "        vertical-align: top;\n",
       "    }\n",
       "\n",
       "    .dataframe thead th {\n",
       "        text-align: right;\n",
       "    }\n",
       "</style>\n",
       "<table border=\"1\" class=\"dataframe\">\n",
       "  <thead>\n",
       "    <tr style=\"text-align: right;\">\n",
       "      <th></th>\n",
       "      <th>0</th>\n",
       "      <th>1</th>\n",
       "    </tr>\n",
       "  </thead>\n",
       "  <tbody>\n",
       "    <tr>\n",
       "      <th>0</th>\n",
       "      <td>1</td>\n",
       "      <td>前幾天跟朋友去用餐，感覺服務態度不佳，薑母鴨鍋子裡面沒有什麼薑，跟服務員要薑的時候既然他說薑...</td>\n",
       "    </tr>\n",
       "    <tr>\n",
       "      <th>1</th>\n",
       "      <td>1</td>\n",
       "      <td>價格偏貴，口味偏鹹，重點是服務態度非常差詢問他配菜的問題，他很不耐煩地回答    便當包好直...</td>\n",
       "    </tr>\n",
       "    <tr>\n",
       "      <th>2</th>\n",
       "      <td>1</td>\n",
       "      <td>是間沒有洗手間的咖啡廳要來喝下午茶的要注意下！</td>\n",
       "    </tr>\n",
       "    <tr>\n",
       "      <th>3</th>\n",
       "      <td>1</td>\n",
       "      <td>今天叫了，吃的就算了，喝的也不給辛苦的外送員袋子裝，搞得外送員把我的飲料給撒了，自己貼錢賠杯...</td>\n",
       "    </tr>\n",
       "    <tr>\n",
       "      <th>4</th>\n",
       "      <td>1</td>\n",
       "      <td>沒開發票，收據開始沒有蓋章，章也不是正式公司行號的章，小菜味略怪</td>\n",
       "    </tr>\n",
       "    <tr>\n",
       "      <th>...</th>\n",
       "      <td>...</td>\n",
       "      <td>...</td>\n",
       "    </tr>\n",
       "    <tr>\n",
       "      <th>245</th>\n",
       "      <td>5</td>\n",
       "      <td>人員親切服務，環境優質安靜，訊號良好，餐點美味超值，讀書工作的好選擇！</td>\n",
       "    </tr>\n",
       "    <tr>\n",
       "      <th>246</th>\n",
       "      <td>5</td>\n",
       "      <td>服務周到 餐點平價美味 環境乾淨舒適</td>\n",
       "    </tr>\n",
       "    <tr>\n",
       "      <th>247</th>\n",
       "      <td>5</td>\n",
       "      <td>非常推薦～  食材能感覺的出來非常新鮮，店家在上菜時也會細心說明，能感受到這家店的真誠對待每...</td>\n",
       "    </tr>\n",
       "    <tr>\n",
       "      <th>248</th>\n",
       "      <td>5</td>\n",
       "      <td>鹹鹹的豆花配上甜甜的糖水 口感很酷  糖水不夠還可以加糖水  粉圓芋圓很好吃</td>\n",
       "    </tr>\n",
       "    <tr>\n",
       "      <th>249</th>\n",
       "      <td>5</td>\n",
       "      <td>聽說是私人招待所，外觀很有特色</td>\n",
       "    </tr>\n",
       "  </tbody>\n",
       "</table>\n",
       "<p>250 rows × 2 columns</p>\n",
       "</div>"
      ],
      "text/plain": [
       "     0                                                  1\n",
       "0    1  前幾天跟朋友去用餐，感覺服務態度不佳，薑母鴨鍋子裡面沒有什麼薑，跟服務員要薑的時候既然他說薑...\n",
       "1    1  價格偏貴，口味偏鹹，重點是服務態度非常差詢問他配菜的問題，他很不耐煩地回答    便當包好直...\n",
       "2    1                            是間沒有洗手間的咖啡廳要來喝下午茶的要注意下！\n",
       "3    1  今天叫了，吃的就算了，喝的也不給辛苦的外送員袋子裝，搞得外送員把我的飲料給撒了，自己貼錢賠杯...\n",
       "4    1                   沒開發票，收據開始沒有蓋章，章也不是正式公司行號的章，小菜味略怪\n",
       "..  ..                                                ...\n",
       "245  5                人員親切服務，環境優質安靜，訊號良好，餐點美味超值，讀書工作的好選擇！\n",
       "246  5                                 服務周到 餐點平價美味 環境乾淨舒適\n",
       "247  5  非常推薦～  食材能感覺的出來非常新鮮，店家在上菜時也會細心說明，能感受到這家店的真誠對待每...\n",
       "248  5             鹹鹹的豆花配上甜甜的糖水 口感很酷  糖水不夠還可以加糖水  粉圓芋圓很好吃\n",
       "249  5                                    聽說是私人招待所，外觀很有特色\n",
       "\n",
       "[250 rows x 2 columns]"
      ]
     },
     "execution_count": 106,
     "metadata": {},
     "output_type": "execute_result"
    }
   ],
   "source": [
    "df_1 = pd.read_csv(\"Data/raw_data/restaurant/review/review_分六份人工標記label/review_label_1.csv\",header=None)\n",
    "df_1"
   ]
  },
  {
   "cell_type": "markdown",
   "id": "7686bbad",
   "metadata": {},
   "source": [
    "# attraction review count "
   ]
  },
  {
   "cell_type": "code",
   "execution_count": null,
   "id": "1d29e20b",
   "metadata": {},
   "outputs": [],
   "source": [
    "file = os.listdir(\"Data/raw_data/attraction/review/review_clean/\")\n",
    "count = 0\n",
    "for i in file:\n",
    "    df = pd.read_csv(f\"Data/raw_data/attraction/review/review_clean/{i}\")\n",
    "    count+=len(df)\n",
    "print(count)"
   ]
  },
  {
   "cell_type": "markdown",
   "id": "0e9a7884",
   "metadata": {},
   "source": [
    "# restaurant review count"
   ]
  },
  {
   "cell_type": "code",
   "execution_count": null,
   "id": "9dea77a8",
   "metadata": {},
   "outputs": [],
   "source": [
    "file = os.listdir(\"Data/raw_data/restaurant/review/review_clean/\")\n",
    "count = 0\n",
    "for i in file:\n",
    "    df = pd.read_csv(f\"Data/raw_data/restaurant/review/review_clean/{i}\")\n",
    "    count+=len(df)\n",
    "print(count)"
   ]
  },
  {
   "cell_type": "code",
   "execution_count": null,
   "id": "abfe5cc2",
   "metadata": {},
   "outputs": [],
   "source": []
  }
 ],
 "metadata": {
  "kernelspec": {
   "display_name": "Python 3 (ipykernel)",
   "language": "python",
   "name": "python3"
  },
  "language_info": {
   "codemirror_mode": {
    "name": "ipython",
    "version": 3
   },
   "file_extension": ".py",
   "mimetype": "text/x-python",
   "name": "python",
   "nbconvert_exporter": "python",
   "pygments_lexer": "ipython3",
   "version": "3.9.13"
  }
 },
 "nbformat": 4,
 "nbformat_minor": 5
}
