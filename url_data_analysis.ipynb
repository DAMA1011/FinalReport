{
 "cells": [
  {
   "cell_type": "code",
   "execution_count": 1,
   "id": "f2c23af8",
   "metadata": {},
   "outputs": [],
   "source": [
    "import pandas as pd"
   ]
  },
  {
   "cell_type": "markdown",
   "id": "48ffc239",
   "metadata": {},
   "source": [
    "## 讀取csv"
   ]
  },
  {
   "cell_type": "code",
   "execution_count": 4,
   "id": "82570476",
   "metadata": {},
   "outputs": [],
   "source": [
    "df_song = pd.read_csv('./data/url/restaurant/松山區餐廳.csv', header=None)\n",
    "df_chung = pd.read_csv('./data/url/restaurant/中山區餐廳.csv', header=None)\n",
    "df_weng = pd.read_csv('./data/url/restaurant/文山區餐廳.csv', header=None)\n",
    "df_ne = pd.read_csv('./data/url/restaurant/內湖區餐廳.csv', header=None)\n",
    "df_nan = pd.read_csv('./data/url/restaurant/南港區餐廳.csv', header=None)"
   ]
  },
  {
   "cell_type": "code",
   "execution_count": 9,
   "id": "c02dcc01",
   "metadata": {
    "scrolled": true
   },
   "outputs": [
    {
     "name": "stdout",
     "output_type": "stream",
     "text": [
      "松山區原始資料筆數: 132403\n",
      "中山區原始資料筆數: 219859\n",
      "文山區原始資料筆數: 222496\n",
      "內湖區原始資料筆數: 154517\n",
      "南港區原始資料筆數: 131391\n",
      "------------------------------------------\n",
      "目前總資料筆數: 860666\n"
     ]
    }
   ],
   "source": [
    "print(\"松山區原始資料筆數: \"+ str(df_song.shape[0]))\n",
    "print(\"中山區原始資料筆數: \"+ str(df_chung.shape[0]))\n",
    "print(\"文山區原始資料筆數: \"+ str(df_weng.shape[0]))\n",
    "print(\"內湖區原始資料筆數: \"+ str(df_ne.shape[0]))\n",
    "print(\"南港區原始資料筆數: \"+ str(df_nan.shape[0]))\n",
    "print(\"------------------------------------------\")\n",
    "print(\"目前總資料筆數: \"+ str(df_song.shape[0]+df_chung.shape[0]+df_weng.shape[0]+df_ne.shape[0]+df_nan.shape[0]))"
   ]
  },
  {
   "cell_type": "markdown",
   "id": "00ef634c",
   "metadata": {},
   "source": [
    "## 合併dataframe"
   ]
  },
  {
   "cell_type": "code",
   "execution_count": 10,
   "id": "3c12ec01",
   "metadata": {},
   "outputs": [],
   "source": [
    "df = pd.concat([df_song, df_chung, df_weng, df_ne, df_nan])"
   ]
  },
  {
   "cell_type": "markdown",
   "id": "410568c0",
   "metadata": {},
   "source": [
    "## 刪除重複"
   ]
  },
  {
   "cell_type": "code",
   "execution_count": 14,
   "id": "3bf52c46",
   "metadata": {},
   "outputs": [
    {
     "name": "stdout",
     "output_type": "stream",
     "text": [
      "刪除重複後總資料筆數: 32394\n"
     ]
    }
   ],
   "source": [
    "df1 = df.drop_duplicates()\n",
    "print(\"刪除重複後總資料筆數: \" + str(df1.shape[0]))"
   ]
  },
  {
   "cell_type": "markdown",
   "id": "636e8ea1",
   "metadata": {},
   "source": [
    "## 刪除格式錯誤"
   ]
  },
  {
   "cell_type": "code",
   "execution_count": 17,
   "id": "99fafc91",
   "metadata": {
    "scrolled": true
   },
   "outputs": [
    {
     "name": "stdout",
     "output_type": "stream",
     "text": [
      "最終總資料筆數: 28864\n"
     ]
    }
   ],
   "source": [
    "df2 = df1[df1[0].str.contains(\"https://www.google.com.tw/maps/place/\")]\n",
    "print(\"最終總資料筆數: \" + str(df2.shape[0]))"
   ]
  },
  {
   "cell_type": "code",
   "execution_count": null,
   "id": "a2fad9bb",
   "metadata": {},
   "outputs": [],
   "source": []
  },
  {
   "cell_type": "markdown",
   "id": "7247bcce",
   "metadata": {},
   "source": [
    "# 讀json"
   ]
  },
  {
   "cell_type": "code",
   "execution_count": 11,
   "id": "26c0f196",
   "metadata": {},
   "outputs": [],
   "source": [
    "json_list = [\n",
    "    {\n",
    "        \"href\":[1,2,3]\n",
    "    }\n",
    "]"
   ]
  },
  {
   "cell_type": "code",
   "execution_count": 12,
   "id": "aaaf2f29",
   "metadata": {},
   "outputs": [],
   "source": [
    "df = pd.DataFrame(list[0])"
   ]
  },
  {
   "cell_type": "code",
   "execution_count": 13,
   "id": "990b29db",
   "metadata": {
    "scrolled": true
   },
   "outputs": [
    {
     "data": {
      "text/html": [
       "<div>\n",
       "<style scoped>\n",
       "    .dataframe tbody tr th:only-of-type {\n",
       "        vertical-align: middle;\n",
       "    }\n",
       "\n",
       "    .dataframe tbody tr th {\n",
       "        vertical-align: top;\n",
       "    }\n",
       "\n",
       "    .dataframe thead th {\n",
       "        text-align: right;\n",
       "    }\n",
       "</style>\n",
       "<table border=\"1\" class=\"dataframe\">\n",
       "  <thead>\n",
       "    <tr style=\"text-align: right;\">\n",
       "      <th></th>\n",
       "      <th>href</th>\n",
       "    </tr>\n",
       "  </thead>\n",
       "  <tbody>\n",
       "    <tr>\n",
       "      <th>0</th>\n",
       "      <td>1</td>\n",
       "    </tr>\n",
       "    <tr>\n",
       "      <th>1</th>\n",
       "      <td>2</td>\n",
       "    </tr>\n",
       "    <tr>\n",
       "      <th>2</th>\n",
       "      <td>3</td>\n",
       "    </tr>\n",
       "  </tbody>\n",
       "</table>\n",
       "</div>"
      ],
      "text/plain": [
       "   href\n",
       "0     1\n",
       "1     2\n",
       "2     3"
      ]
     },
     "execution_count": 13,
     "metadata": {},
     "output_type": "execute_result"
    }
   ],
   "source": [
    "df"
   ]
  },
  {
   "cell_type": "code",
   "execution_count": null,
   "id": "ecf57cad",
   "metadata": {},
   "outputs": [],
   "source": []
  }
 ],
 "metadata": {
  "kernelspec": {
   "display_name": "Python 3 (ipykernel)",
   "language": "python",
   "name": "python3"
  },
  "language_info": {
   "codemirror_mode": {
    "name": "ipython",
    "version": 3
   },
   "file_extension": ".py",
   "mimetype": "text/x-python",
   "name": "python",
   "nbconvert_exporter": "python",
   "pygments_lexer": "ipython3",
   "version": "3.9.12"
  }
 },
 "nbformat": 4,
 "nbformat_minor": 5
}
