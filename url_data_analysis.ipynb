{
 "cells": [
  {
   "cell_type": "code",
   "execution_count": 1,
   "id": "f2c23af8",
   "metadata": {},
   "outputs": [],
   "source": [
    "import pandas as pd"
   ]
  },
  {
   "cell_type": "markdown",
   "id": "48ffc239",
   "metadata": {},
   "source": [
    "## 讀取中山區 松山區csv"
   ]
  },
  {
   "cell_type": "code",
   "execution_count": 2,
   "id": "82570476",
   "metadata": {},
   "outputs": [],
   "source": [
    "df_song = pd.read_csv('./data/url/restaurant/松山區餐廳.csv', header=None)\n",
    "df_chung = pd.read_csv('./data/url/restaurant/中山區餐廳.csv', header=None)"
   ]
  },
  {
   "cell_type": "markdown",
   "id": "02cbcc49",
   "metadata": {},
   "source": [
    "### 松山區:132403筆url"
   ]
  },
  {
   "cell_type": "code",
   "execution_count": 3,
   "id": "c02dcc01",
   "metadata": {
    "scrolled": true
   },
   "outputs": [
    {
     "data": {
      "text/plain": [
       "(132403, 1)"
      ]
     },
     "execution_count": 3,
     "metadata": {},
     "output_type": "execute_result"
    }
   ],
   "source": [
    "df_song.shape"
   ]
  },
  {
   "cell_type": "markdown",
   "id": "5cd3af01",
   "metadata": {},
   "source": [
    "### 中山區: 219859筆url"
   ]
  },
  {
   "cell_type": "code",
   "execution_count": 4,
   "id": "cc1005ed",
   "metadata": {
    "scrolled": true
   },
   "outputs": [
    {
     "data": {
      "text/plain": [
       "(219859, 1)"
      ]
     },
     "execution_count": 4,
     "metadata": {},
     "output_type": "execute_result"
    }
   ],
   "source": [
    "df_chung.shape"
   ]
  },
  {
   "cell_type": "markdown",
   "id": "00ef634c",
   "metadata": {},
   "source": [
    "## 合併dataframe"
   ]
  },
  {
   "cell_type": "code",
   "execution_count": 5,
   "id": "3c12ec01",
   "metadata": {},
   "outputs": [],
   "source": [
    "df = pd.concat([df_song, df_chung])"
   ]
  },
  {
   "cell_type": "code",
   "execution_count": 6,
   "id": "887bbe6c",
   "metadata": {},
   "outputs": [
    {
     "data": {
      "text/plain": [
       "(352262, 1)"
      ]
     },
     "execution_count": 6,
     "metadata": {},
     "output_type": "execute_result"
    }
   ],
   "source": [
    "df.shape"
   ]
  },
  {
   "cell_type": "markdown",
   "id": "410568c0",
   "metadata": {},
   "source": [
    "## 刪除重複"
   ]
  },
  {
   "cell_type": "code",
   "execution_count": 7,
   "id": "94b3f0a3",
   "metadata": {},
   "outputs": [],
   "source": [
    "df1 = df.drop_duplicates()"
   ]
  },
  {
   "cell_type": "code",
   "execution_count": 8,
   "id": "3bf52c46",
   "metadata": {},
   "outputs": [
    {
     "data": {
      "text/plain": [
       "(17790, 1)"
      ]
     },
     "execution_count": 8,
     "metadata": {},
     "output_type": "execute_result"
    }
   ],
   "source": [
    "df1.shape"
   ]
  },
  {
   "cell_type": "markdown",
   "id": "636e8ea1",
   "metadata": {},
   "source": [
    "## 刪除格式錯誤"
   ]
  },
  {
   "cell_type": "code",
   "execution_count": 9,
   "id": "99fafc91",
   "metadata": {
    "scrolled": true
   },
   "outputs": [],
   "source": [
    "df2 = df1[df1[0].str.contains(\"https://www.google.com.tw/maps/place/\")]"
   ]
  },
  {
   "cell_type": "code",
   "execution_count": 10,
   "id": "2c8ea285",
   "metadata": {},
   "outputs": [
    {
     "data": {
      "text/plain": [
       "(15642, 1)"
      ]
     },
     "execution_count": 10,
     "metadata": {},
     "output_type": "execute_result"
    }
   ],
   "source": [
    "df2.shape"
   ]
  },
  {
   "cell_type": "markdown",
   "id": "7247bcce",
   "metadata": {},
   "source": [
    "# 讀json"
   ]
  },
  {
   "cell_type": "code",
   "execution_count": 11,
   "id": "26c0f196",
   "metadata": {},
   "outputs": [],
   "source": [
    "json_list = [\n",
    "    {\n",
    "        \"href\":[1,2,3]\n",
    "    }\n",
    "]"
   ]
  },
  {
   "cell_type": "code",
   "execution_count": 12,
   "id": "aaaf2f29",
   "metadata": {},
   "outputs": [],
   "source": [
    "df = pd.DataFrame(list[0])"
   ]
  },
  {
   "cell_type": "code",
   "execution_count": 13,
   "id": "990b29db",
   "metadata": {
    "scrolled": true
   },
   "outputs": [
    {
     "data": {
      "text/html": [
       "<div>\n",
       "<style scoped>\n",
       "    .dataframe tbody tr th:only-of-type {\n",
       "        vertical-align: middle;\n",
       "    }\n",
       "\n",
       "    .dataframe tbody tr th {\n",
       "        vertical-align: top;\n",
       "    }\n",
       "\n",
       "    .dataframe thead th {\n",
       "        text-align: right;\n",
       "    }\n",
       "</style>\n",
       "<table border=\"1\" class=\"dataframe\">\n",
       "  <thead>\n",
       "    <tr style=\"text-align: right;\">\n",
       "      <th></th>\n",
       "      <th>href</th>\n",
       "    </tr>\n",
       "  </thead>\n",
       "  <tbody>\n",
       "    <tr>\n",
       "      <th>0</th>\n",
       "      <td>1</td>\n",
       "    </tr>\n",
       "    <tr>\n",
       "      <th>1</th>\n",
       "      <td>2</td>\n",
       "    </tr>\n",
       "    <tr>\n",
       "      <th>2</th>\n",
       "      <td>3</td>\n",
       "    </tr>\n",
       "  </tbody>\n",
       "</table>\n",
       "</div>"
      ],
      "text/plain": [
       "   href\n",
       "0     1\n",
       "1     2\n",
       "2     3"
      ]
     },
     "execution_count": 13,
     "metadata": {},
     "output_type": "execute_result"
    }
   ],
   "source": [
    "df"
   ]
  },
  {
   "cell_type": "code",
   "execution_count": null,
   "id": "ecf57cad",
   "metadata": {},
   "outputs": [],
   "source": []
  }
 ],
 "metadata": {
  "kernelspec": {
   "display_name": "Python 3 (ipykernel)",
   "language": "python",
   "name": "python3"
  },
  "language_info": {
   "codemirror_mode": {
    "name": "ipython",
    "version": 3
   },
   "file_extension": ".py",
   "mimetype": "text/x-python",
   "name": "python",
   "nbconvert_exporter": "python",
   "pygments_lexer": "ipython3",
   "version": "3.9.12"
  }
 },
 "nbformat": 4,
 "nbformat_minor": 5
}
