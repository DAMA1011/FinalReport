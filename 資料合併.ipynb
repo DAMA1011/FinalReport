{
 "cells": [
  {
   "cell_type": "code",
   "execution_count": 107,
   "id": "b0dd419b",
   "metadata": {},
   "outputs": [],
   "source": [
    "import pandas as pd\n",
    "import math"
   ]
  },
  {
   "cell_type": "markdown",
   "id": "63742780",
   "metadata": {},
   "source": [
    "## 讀取北市12區的csv檔"
   ]
  },
  {
   "cell_type": "code",
   "execution_count": 108,
   "id": "ddd7a348",
   "metadata": {},
   "outputs": [],
   "source": [
    "df_shilin     = pd.read_csv('士林區餐廳.csv',header=None)\n",
    "df_datong     = pd.read_csv('大同區餐廳.csv',header=None)\n",
    "df_daNa       = pd.read_csv('大安區餐廳.csv',header=None)\n",
    "df_zhongShan  = pd.read_csv('中山區餐廳.csv',header=None)\n",
    "df_zhongZheng = pd.read_csv('中正區餐廳.csv',header=None)\n",
    "df_neiHu      = pd.read_csv('內湖區餐廳.csv',header=None)\n",
    "df_wenShan    = pd.read_csv('文山區餐廳.csv',header=None)\n",
    "df_beiTou     = pd.read_csv('北投區餐廳.csv',header=None)\n",
    "df_songShan   = pd.read_csv('松山區餐廳.csv',header=None)\n",
    "df_xinYi      = pd.read_csv('信義區餐廳.csv',header=None)\n",
    "df_nanGang    = pd.read_csv('南港區餐廳.csv',header=None)\n",
    "df_wanHua     = pd.read_csv('萬華區餐廳.csv',header=None)"
   ]
  },
  {
   "cell_type": "code",
   "execution_count": 109,
   "id": "f318ce96",
   "metadata": {},
   "outputs": [
    {
     "name": "stdout",
     "output_type": "stream",
     "text": [
      "士林區餐聽原始資料筆數:17088\n",
      "大同區餐聽原始資料筆數:10584\n",
      "大安區餐聽原始資料筆數:170121\n",
      "中山區餐聽原始資料筆數:219859\n",
      "中正區餐聽原始資料筆數:257300\n",
      "內湖區餐聽原始資料筆數:154517\n",
      "文山區餐聽原始資料筆數:222496\n",
      "北投區餐聽原始資料筆數:341924\n",
      "松山區餐聽原始資料筆數:132403\n",
      "信義區餐聽原始資料筆數:113258\n",
      "南港區餐聽原始資料筆數:131391\n",
      "萬華區餐聽原始資料筆數:120052\n",
      "--------------------------------------------------\n",
      "北市12個行政區餐廳原始資料共:1890993\n"
     ]
    }
   ],
   "source": [
    "shilin     = len(df_shilin)\n",
    "datong     = len(df_datong)\n",
    "daNa       = len(df_daNa)\n",
    "zhongShan  = df_zhongShan.shape[0]\n",
    "zhongZheng = df_zhongZheng.shape[0]\n",
    "neiHu      = df_neiHu.shape[0]\n",
    "wenShan    = df_wenShan.shape[0]\n",
    "beiTou     = df_beiTou.shape[0]\n",
    "songShan   = df_songShan.shape[0]\n",
    "xinYi      = df_xinYi.shape[0]\n",
    "nanGang    = df_nanGang.shape[0]\n",
    "wanHua     = df_wanHua.shape[0]\n",
    "\n",
    "print(f\"士林區餐聽原始資料筆數:{shilin}\")\n",
    "print(f\"大同區餐聽原始資料筆數:{datong}\")\n",
    "print(f\"大安區餐聽原始資料筆數:{daNa}\")\n",
    "print(f\"中山區餐聽原始資料筆數:{zhongShan}\")\n",
    "print(f\"中正區餐聽原始資料筆數:{zhongZheng}\")\n",
    "print(f\"內湖區餐聽原始資料筆數:{neiHu}\")\n",
    "print(f\"文山區餐聽原始資料筆數:{wenShan}\")\n",
    "print(f\"北投區餐聽原始資料筆數:{beiTou}\")\n",
    "print(f\"松山區餐聽原始資料筆數:{songShan}\")\n",
    "print(f\"信義區餐聽原始資料筆數:{xinYi}\")\n",
    "print(f\"南港區餐聽原始資料筆數:{nanGang}\")\n",
    "print(f\"萬華區餐聽原始資料筆數:{wanHua}\")\n",
    "print(\"-\"*50)\n",
    "print(f\"北市12個行政區餐廳原始資料共:{shilin+datong+daNa+zhongShan+zhongZheng+neiHu+wenShan+beiTou+songShan+xinYi+nanGang+wanHua}\")"
   ]
  },
  {
   "cell_type": "markdown",
   "id": "f93f5cd2",
   "metadata": {},
   "source": [
    "## 合併12區的dataFrame"
   ]
  },
  {
   "cell_type": "code",
   "execution_count": 110,
   "id": "63239615",
   "metadata": {},
   "outputs": [],
   "source": [
    "all_df = pd.concat([df_beiTou,df_daNa,df_datong,df_nanGang,df_neiHu,df_shilin,df_songShan,df_wanHua,df_wenShan,df_xinYi])\n",
    "two_df = pd.concat([df_zhongShan,df_zhongZheng])"
   ]
  },
  {
   "cell_type": "markdown",
   "id": "aa1e9376",
   "metadata": {},
   "source": [
    "## 刪除重複的url"
   ]
  },
  {
   "cell_type": "code",
   "execution_count": 117,
   "id": "e521a0c7",
   "metadata": {},
   "outputs": [
    {
     "name": "stdout",
     "output_type": "stream",
     "text": [
      "刪除重複後的筆數:65759\n"
     ]
    }
   ],
   "source": [
    "all_df = all_df.drop_duplicates()\n",
    "print(f\"刪除重複後的筆數:{all_df.shape[0]}\")"
   ]
  },
  {
   "cell_type": "markdown",
   "id": "1422cc82",
   "metadata": {},
   "source": [
    "## 刪除錯誤的url"
   ]
  },
  {
   "cell_type": "code",
   "execution_count": 118,
   "id": "90fd6b52",
   "metadata": {},
   "outputs": [
    {
     "data": {
      "text/plain": [
       "0          True\n",
       "1          True\n",
       "2          True\n",
       "3          True\n",
       "4          True\n",
       "          ...  \n",
       "112625     True\n",
       "112668     True\n",
       "113004     True\n",
       "113015    False\n",
       "113137    False\n",
       "Name: 0, Length: 65759, dtype: bool"
      ]
     },
     "execution_count": 118,
     "metadata": {},
     "output_type": "execute_result"
    }
   ],
   "source": [
    "all_df[0].str.contains(\"https://www.google.com.tw/maps/place/\")"
   ]
  },
  {
   "cell_type": "code",
   "execution_count": 121,
   "id": "ece1819e",
   "metadata": {},
   "outputs": [
    {
     "data": {
      "text/plain": [
       "58453"
      ]
     },
     "execution_count": 121,
     "metadata": {},
     "output_type": "execute_result"
    }
   ],
   "source": [
    "all_df = all_df[all_df[0].str.contains(\"https://www.google.com.tw/maps/place/\")]\n",
    "len(all_df)"
   ]
  },
  {
   "cell_type": "code",
   "execution_count": 132,
   "id": "4309549f",
   "metadata": {},
   "outputs": [],
   "source": [
    "df_num = len(all_df)\n",
    "each = math.floor(df_num/6)\n",
    "for i in range(1,7):\n",
    "    file_name = f'清整後的餐廳_{i}.csv'\n",
    "    if i <= 6:\n",
    "        df = all_df[each*(i-1):each*i]\n",
    "    df.to_csv(file_name , index = False)"
   ]
  },
  {
   "cell_type": "markdown",
   "id": "f44e11a7",
   "metadata": {},
   "source": [
    "## 清整景點的csv檔"
   ]
  },
  {
   "cell_type": "code",
   "execution_count": 145,
   "id": "f17286c9",
   "metadata": {},
   "outputs": [
    {
     "name": "stdout",
     "output_type": "stream",
     "text": [
      "筆數各為:4722,2588\n",
      "合併後筆數:7310\n",
      "刪掉重複後的筆數:3289\n",
      "刪除錯誤格式後的筆數:3179\n"
     ]
    }
   ],
   "source": [
    "df_attraction  = pd.read_csv('景點.csv',header=None)\n",
    "df_attraction2 = pd.read_csv('12區景點.csv',header=None)\n",
    "\n",
    "attraction     = len(df_attraction)\n",
    "attraction2    = len(df_attraction2)\n",
    "print(f\"筆數各為:{attraction},{attraction2}\")\n",
    "\n",
    "all_attraction = pd.concat([df_attraction,df_attraction2])\n",
    "print(f'合併後筆數:{all_attraction.shape[0]}')\n",
    "\n",
    "all_attraction = all_attraction.drop_duplicates()\n",
    "print(f'刪掉重複後的筆數:{all_attraction.shape[0]}')\n",
    "\n",
    "finally_ = all_attraction[all_attraction[0].str.contains(\"https://www.google.com.tw/maps/place/\")]\n",
    "print(f'刪除錯誤格式後的筆數:{finally_.shape[0]}')\n",
    "\n",
    "finally_.to_csv('清整後的景點.csv',index =False)"
   ]
  },
  {
   "cell_type": "code",
   "execution_count": null,
   "id": "4797decd",
   "metadata": {},
   "outputs": [],
   "source": []
  }
 ],
 "metadata": {
  "kernelspec": {
   "display_name": "Python 3 (ipykernel)",
   "language": "python",
   "name": "python3"
  },
  "language_info": {
   "codemirror_mode": {
    "name": "ipython",
    "version": 3
   },
   "file_extension": ".py",
   "mimetype": "text/x-python",
   "name": "python",
   "nbconvert_exporter": "python",
   "pygments_lexer": "ipython3",
   "version": "3.9.13"
  }
 },
 "nbformat": 4,
 "nbformat_minor": 5
}
