{
 "cells": [
  {
   "cell_type": "code",
   "execution_count": 294,
   "id": "ee075062",
   "metadata": {},
   "outputs": [],
   "source": [
    "import pandas as pd"
   ]
  },
  {
   "cell_type": "code",
   "execution_count": 295,
   "id": "34040ea8",
   "metadata": {},
   "outputs": [],
   "source": [
    "df1 = pd.read_csv(\"BDSE28_FinalTopic/place_info_1.csv\", header=None)\n",
    "df2 = pd.read_csv(\"BDSE28_FinalTopic/place_info_2.csv\", header=None)\n",
    "df3 = pd.read_csv(\"BDSE28_FinalTopic/place_info_3.csv\", header=None)\n",
    "df4 = pd.read_csv(\"BDSE28_FinalTopic/place_info_4.csv\", header=None)\n",
    "df5 = pd.read_csv(\"BDSE28_FinalTopic/place_info_5.csv\", header=None)\n",
    "df6 = pd.read_csv(\"BDSE28_FinalTopic/place_info_6.csv\", header=None)"
   ]
  },
  {
   "cell_type": "code",
   "execution_count": 296,
   "id": "170c7e0f",
   "metadata": {},
   "outputs": [
    {
     "data": {
      "text/html": [
       "<div>\n",
       "<style scoped>\n",
       "    .dataframe tbody tr th:only-of-type {\n",
       "        vertical-align: middle;\n",
       "    }\n",
       "\n",
       "    .dataframe tbody tr th {\n",
       "        vertical-align: top;\n",
       "    }\n",
       "\n",
       "    .dataframe thead th {\n",
       "        text-align: right;\n",
       "    }\n",
       "</style>\n",
       "<table border=\"1\" class=\"dataframe\">\n",
       "  <thead>\n",
       "    <tr style=\"text-align: right;\">\n",
       "      <th></th>\n",
       "      <th>0</th>\n",
       "      <th>1</th>\n",
       "      <th>2</th>\n",
       "      <th>3</th>\n",
       "      <th>4</th>\n",
       "      <th>5</th>\n",
       "      <th>6</th>\n",
       "      <th>7</th>\n",
       "      <th>8</th>\n",
       "      <th>9</th>\n",
       "      <th>10</th>\n",
       "      <th>11</th>\n",
       "      <th>12</th>\n",
       "      <th>13</th>\n",
       "      <th>14</th>\n",
       "      <th>15</th>\n",
       "      <th>16</th>\n",
       "      <th>17</th>\n",
       "    </tr>\n",
       "  </thead>\n",
       "  <tbody>\n",
       "    <tr>\n",
       "      <th>0</th>\n",
       "      <td>0</td>\n",
       "      <td>https://www.google.com.tw/maps/place/%E9%BB%91...</td>\n",
       "      <td>黑曜麵屋</td>\n",
       "      <td>4.1</td>\n",
       "      <td>拉麵店</td>\n",
       "      <td>379.0</td>\n",
       "      <td>$</td>\n",
       "      <td>112台北市北投區尊賢街206巷2號</td>\n",
       "      <td>Plus Code: 4G85+47 北投區 台北市</td>\n",
       "      <td>1</td>\n",
       "      <td>1</td>\n",
       "      <td>0</td>\n",
       "      <td>1</td>\n",
       "      <td>星期二、11:00 到 21:00; 星期三、11:00 到 21:00; 星期四、11:0...</td>\n",
       "      <td>https://www.facebook.com/Obsidianhouse/</td>\n",
       "      <td>0979 047 907</td>\n",
       "      <td>NaN</td>\n",
       "      <td>2022-11-22</td>\n",
       "    </tr>\n",
       "  </tbody>\n",
       "</table>\n",
       "</div>"
      ],
      "text/plain": [
       "   0                                                  1     2    3    4   \\\n",
       "0   0  https://www.google.com.tw/maps/place/%E9%BB%91...  黑曜麵屋  4.1  拉麵店   \n",
       "\n",
       "      5  6                    7                           8   9   10  11  12  \\\n",
       "0  379.0  $   112台北市北投區尊賢街206巷2號  Plus Code: 4G85+47 北投區 台北市   1   1   0   1   \n",
       "\n",
       "                                                  13  \\\n",
       "0  星期二、11:00 到 21:00; 星期三、11:00 到 21:00; 星期四、11:0...   \n",
       "\n",
       "                                        14             15   16          17  \n",
       "0  https://www.facebook.com/Obsidianhouse/   0979 047 907  NaN  2022-11-22  "
      ]
     },
     "execution_count": 296,
     "metadata": {},
     "output_type": "execute_result"
    }
   ],
   "source": [
    "dfAll = pd.concat([df1,df2,df3,df4,df5,df6])\n",
    "dfAll.head(1)"
   ]
  },
  {
   "cell_type": "code",
   "execution_count": 297,
   "id": "d3c0ced1",
   "metadata": {},
   "outputs": [
    {
     "data": {
      "text/plain": [
       "(58588,)"
      ]
     },
     "execution_count": 297,
     "metadata": {},
     "output_type": "execute_result"
    }
   ],
   "source": [
    "# 原始資料長度\n",
    "dfAll[1].shape"
   ]
  },
  {
   "cell_type": "code",
   "execution_count": 298,
   "id": "687f3dcd",
   "metadata": {},
   "outputs": [
    {
     "data": {
      "text/plain": [
       "(58312, 18)"
      ]
     },
     "execution_count": 298,
     "metadata": {},
     "output_type": "execute_result"
    }
   ],
   "source": [
    "# 地址是空値刪掉\n",
    "df7NotNa = dfAll[dfAll[7].notnull()]\n",
    "df7NotNa.shape"
   ]
  },
  {
   "cell_type": "code",
   "execution_count": 299,
   "id": "7ef3f76c",
   "metadata": {},
   "outputs": [
    {
     "data": {
      "text/plain": [
       "(45118, 18)"
      ]
     },
     "execution_count": 299,
     "metadata": {},
     "output_type": "execute_result"
    }
   ],
   "source": [
    "# 去除非北市餐廳\n",
    "dftaipei = df7NotNa[df7NotNa[7].str.contains('台北市')]\n",
    "dftaipei.shape"
   ]
  },
  {
   "cell_type": "code",
   "execution_count": 300,
   "id": "2b145249",
   "metadata": {},
   "outputs": [
    {
     "data": {
      "text/plain": [
       "(34849, 18)"
      ]
     },
     "execution_count": 300,
     "metadata": {},
     "output_type": "execute_result"
    }
   ],
   "source": [
    "# 刪除評論0\n",
    "dfReview = dftaipei[dftaipei[5].notnull()]\n",
    "dfReview.shape"
   ]
  },
  {
   "cell_type": "code",
   "execution_count": 301,
   "id": "fc171987",
   "metadata": {},
   "outputs": [
    {
     "data": {
      "text/plain": [
       "(33453, 18)"
      ]
     },
     "execution_count": 301,
     "metadata": {},
     "output_type": "execute_result"
    }
   ],
   "source": [
    "# 刪除暫時關閉或永久停業,非上述兩類為值為NaN\n",
    "dfStillOpen = dfReview[dfReview[16].isnull()]\n",
    "dfStillOpen.shape"
   ]
  },
  {
   "cell_type": "code",
   "execution_count": 302,
   "id": "97017c2f",
   "metadata": {},
   "outputs": [
    {
     "data": {
      "text/plain": [
       "(32902,)"
      ]
     },
     "execution_count": 302,
     "metadata": {},
     "output_type": "execute_result"
    }
   ],
   "source": [
    "# 重複刪掉\n",
    "dfNoDup = dfStillOpen[1].drop_duplicates()\n",
    "dfNoDup.shape"
   ]
  },
  {
   "cell_type": "markdown",
   "id": "3532c961",
   "metadata": {},
   "source": [
    "## 看一下類別"
   ]
  },
  {
   "cell_type": "code",
   "execution_count": 307,
   "id": "a4ca2874",
   "metadata": {},
   "outputs": [
    {
     "data": {
      "text/plain": [
       "0            拉麵店\n",
       "11         中式麵食店\n",
       "15            麵店\n",
       "20            餐廳\n",
       "23         烏冬專門店\n",
       "          ...   \n",
       "8977          展品\n",
       "9179    主題公園機動遊戲\n",
       "9426      房屋驗收人員\n",
       "9434         圖片社\n",
       "9445       學區辦事處\n",
       "Name: 4, Length: 1466, dtype: object"
      ]
     },
     "execution_count": 307,
     "metadata": {},
     "output_type": "execute_result"
    }
   ],
   "source": [
    "category = dfAll[4].drop_duplicates()\n",
    "category"
   ]
  },
  {
   "cell_type": "code",
   "execution_count": 310,
   "id": "05dbfb72",
   "metadata": {},
   "outputs": [],
   "source": [
    "category.to_csv(\"category.csv\",sep=',')`"
   ]
  },
  {
   "cell_type": "code",
   "execution_count": 319,
   "id": "56e3c03f",
   "metadata": {},
   "outputs": [
    {
     "data": {
      "text/html": [
       "<div>\n",
       "<style scoped>\n",
       "    .dataframe tbody tr th:only-of-type {\n",
       "        vertical-align: middle;\n",
       "    }\n",
       "\n",
       "    .dataframe tbody tr th {\n",
       "        vertical-align: top;\n",
       "    }\n",
       "\n",
       "    .dataframe thead th {\n",
       "        text-align: right;\n",
       "    }\n",
       "</style>\n",
       "<table border=\"1\" class=\"dataframe\">\n",
       "  <thead>\n",
       "    <tr style=\"text-align: right;\">\n",
       "      <th></th>\n",
       "      <th>Unnamed: 0</th>\n",
       "      <th>4</th>\n",
       "    </tr>\n",
       "  </thead>\n",
       "  <tbody>\n",
       "    <tr>\n",
       "      <th>0</th>\n",
       "      <td>0</td>\n",
       "      <td>拉麵店</td>\n",
       "    </tr>\n",
       "    <tr>\n",
       "      <th>1</th>\n",
       "      <td>11</td>\n",
       "      <td>中式麵食店</td>\n",
       "    </tr>\n",
       "    <tr>\n",
       "      <th>2</th>\n",
       "      <td>15</td>\n",
       "      <td>麵店</td>\n",
       "    </tr>\n",
       "    <tr>\n",
       "      <th>3</th>\n",
       "      <td>20</td>\n",
       "      <td>餐廳</td>\n",
       "    </tr>\n",
       "    <tr>\n",
       "      <th>4</th>\n",
       "      <td>23</td>\n",
       "      <td>烏冬專門店</td>\n",
       "    </tr>\n",
       "    <tr>\n",
       "      <th>...</th>\n",
       "      <td>...</td>\n",
       "      <td>...</td>\n",
       "    </tr>\n",
       "    <tr>\n",
       "      <th>1461</th>\n",
       "      <td>8977</td>\n",
       "      <td>展品</td>\n",
       "    </tr>\n",
       "    <tr>\n",
       "      <th>1462</th>\n",
       "      <td>9179</td>\n",
       "      <td>主題公園機動遊戲</td>\n",
       "    </tr>\n",
       "    <tr>\n",
       "      <th>1463</th>\n",
       "      <td>9426</td>\n",
       "      <td>房屋驗收人員</td>\n",
       "    </tr>\n",
       "    <tr>\n",
       "      <th>1464</th>\n",
       "      <td>9434</td>\n",
       "      <td>圖片社</td>\n",
       "    </tr>\n",
       "    <tr>\n",
       "      <th>1465</th>\n",
       "      <td>9445</td>\n",
       "      <td>學區辦事處</td>\n",
       "    </tr>\n",
       "  </tbody>\n",
       "</table>\n",
       "<p>1466 rows × 2 columns</p>\n",
       "</div>"
      ],
      "text/plain": [
       "      Unnamed: 0         4\n",
       "0              0       拉麵店\n",
       "1             11     中式麵食店\n",
       "2             15        麵店\n",
       "3             20        餐廳\n",
       "4             23     烏冬專門店\n",
       "...          ...       ...\n",
       "1461        8977        展品\n",
       "1462        9179  主題公園機動遊戲\n",
       "1463        9426    房屋驗收人員\n",
       "1464        9434       圖片社\n",
       "1465        9445     學區辦事處\n",
       "\n",
       "[1466 rows x 2 columns]"
      ]
     },
     "execution_count": 319,
     "metadata": {},
     "output_type": "execute_result"
    }
   ],
   "source": [
    "df = pd.read_csv(\"category.csv\")\n",
    "df"
   ]
  }
 ],
 "metadata": {
  "kernelspec": {
   "display_name": "Python 3 (ipykernel)",
   "language": "python",
   "name": "python3"
  },
  "language_info": {
   "codemirror_mode": {
    "name": "ipython",
    "version": 3
   },
   "file_extension": ".py",
   "mimetype": "text/x-python",
   "name": "python",
   "nbconvert_exporter": "python",
   "pygments_lexer": "ipython3",
   "version": "3.9.13"
  }
 },
 "nbformat": 4,
 "nbformat_minor": 5
}
