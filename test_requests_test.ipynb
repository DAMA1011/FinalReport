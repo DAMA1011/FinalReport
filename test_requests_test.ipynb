{
 "cells": [
  {
   "cell_type": "code",
   "execution_count": 44,
   "id": "07abdfab",
   "metadata": {},
   "outputs": [],
   "source": [
    "import requests\n",
    "from bs4 import BeautifulSoup\n",
    "from requests_html import HTMLSession\n",
    "from requests_html import AsyncHTMLSession"
   ]
  },
  {
   "cell_type": "code",
   "execution_count": 1,
   "id": "86f2b910",
   "metadata": {},
   "outputs": [],
   "source": [
    "str1 = \"JAJAJAJAJAJAJA\""
   ]
  },
  {
   "cell_type": "code",
   "execution_count": 21,
   "id": "16aeefae",
   "metadata": {},
   "outputs": [],
   "source": [
    "import requests\n",
    "import json\n",
    "from datetime import datetime\n",
    "import html2text\n",
    "def parse_description(description_tag):\n",
    "    h = html2text.HTML2Text()\n",
    "    h.ignore_links = True\n",
    "    description_text = h.handle(str(description_tag)) \n",
    "    return description_text"
   ]
  },
  {
   "cell_type": "code",
   "execution_count": 28,
   "id": "a7f9c6aa",
   "metadata": {},
   "outputs": [
    {
     "ename": "KeyError",
     "evalue": "'other_user_review'",
     "output_type": "error",
     "traceback": [
      "\u001b[1;31m---------------------------------------------------------------------------\u001b[0m",
      "\u001b[1;31mKeyError\u001b[0m                                  Traceback (most recent call last)",
      "Input \u001b[1;32mIn [28]\u001b[0m, in \u001b[0;36m<cell line: 12>\u001b[1;34m()\u001b[0m\n\u001b[0;32m     19\u001b[0m response \u001b[38;5;241m=\u001b[39m response\u001b[38;5;241m.\u001b[39mtext\u001b[38;5;241m.\u001b[39mremoveprefix(\u001b[38;5;124m\"\u001b[39m\u001b[38;5;124m)]}\u001b[39m\u001b[38;5;124m'\u001b[39m\u001b[38;5;124m\"\u001b[39m)\n\u001b[0;32m     20\u001b[0m json_data \u001b[38;5;241m=\u001b[39m json\u001b[38;5;241m.\u001b[39mloads(response)[\u001b[38;5;124m\"\u001b[39m\u001b[38;5;124mlocalReviewsProto\u001b[39m\u001b[38;5;124m\"\u001b[39m]\n\u001b[1;32m---> 21\u001b[0m review_data \u001b[38;5;241m=\u001b[39m \u001b[43mjson_data\u001b[49m\u001b[43m[\u001b[49m\u001b[38;5;124;43m\"\u001b[39;49m\u001b[38;5;124;43mother_user_review\u001b[39;49m\u001b[38;5;124;43m\"\u001b[39;49m\u001b[43m]\u001b[49m\n\u001b[0;32m     23\u001b[0m \u001b[38;5;28;01mfor\u001b[39;00m result \u001b[38;5;129;01min\u001b[39;00m review_data:\n\u001b[0;32m     24\u001b[0m     personal_rating \u001b[38;5;241m=\u001b[39m result[\u001b[38;5;124m'\u001b[39m\u001b[38;5;124mstar_rating\u001b[39m\u001b[38;5;124m'\u001b[39m][\u001b[38;5;124m'\u001b[39m\u001b[38;5;124mvalue\u001b[39m\u001b[38;5;124m'\u001b[39m]\n",
      "\u001b[1;31mKeyError\u001b[0m: 'other_user_review'"
     ]
    }
   ],
   "source": [
    "next_page_token = \"\"\n",
    "\n",
    "# 設定biz_id(寫進url)\n",
    "# biz_id = re.search(r\"1s(0.*?\\:.*?)[^a-zA-Z\\d\\s:]\",i) # 寫成迴圈的時候要改一下\n",
    "# if not biz_id:\n",
    "#     print(\"Not a valid url.\")\n",
    "# biz_id = biz_id.groups()[0]\n",
    "\n",
    "reviewData = []\n",
    "\n",
    "while True:\n",
    "    url = f'https://www.google.com/async/reviewSort?yv=3&async=feature_id:0x0:0x6c2a5228f2e31fb8,review_source:All%20reviews,sort_by:newestFirst,is_owner:false,filter_text:,associated_topic:,next_page_token:{next_page_token},_pms:s,_fmt:json'\n",
    "    my_headers = {\n",
    "                    'user-agent': 'Mozilla/5.0 (Windows NT 10.0; Win64; x64) AppleWebKit/537.36 (KHTML, like Gecko) Chrome/99.0.4844.82 Safari/537.36'\n",
    "    \n",
    "                }\n",
    "    response = requests.get(url, headers=my_headers)\n",
    "\n",
    "    response = response.text.removeprefix(\")]}'\")\n",
    "    json_data = json.loads(response)[\"localReviewsProto\"]\n",
    "    review_data = json_data[\"other_user_review\"]\n",
    "\n",
    "    for result in review_data:\n",
    "        personal_rating = result['star_rating']['value']\n",
    "        author_name = result['author_real_name']\n",
    "        review_date = result['publish_date']['localized_date']\n",
    "        review_acquisition_date = datetime.now().strftime(\"%Y-%m-%d\")\n",
    "        if result.get('review_text'):\n",
    "            review_text = parse_description(result['review_text']['full_html'])\n",
    "        else:\n",
    "            review_text = \"\"\n",
    "\n",
    "        info_dict = {}        \n",
    "        info_dict['author_name'] = author_name\n",
    "        info_dict['personal_rating'] =  personal_rating             \n",
    "        info_dict[\"review_date\"] = review_date\n",
    "        info_dict[\"review_text\"] = review_text\n",
    "        info_dict[\"review_acquisition_date\"] = review_acquisition_date\n",
    "#         info_dict[\"google_url\"] = i\n",
    "        reviewData.append(info_dict)\n",
    "\n",
    "    next_page_token = json_data.get('next_page_token','').strip()\n",
    "    if not next_page_token:\n",
    "        break\n",
    "\n",
    "reviews_info_header = list(reviewData[0].keys())\n",
    "reviews_info_df = pd.DataFrame.from_records(reviewData,columns=reviews_info_header)\n",
    "reviews_info_df.to_csv(f'./reviews/restaurant/{biz_id}_review.csv')\n",
    "print(str(num) + ' 完成店名(review)' + place_name)"
   ]
  },
  {
   "cell_type": "code",
   "execution_count": 42,
   "id": "876f3d9e",
   "metadata": {},
   "outputs": [
    {
     "ename": "SyntaxError",
     "evalue": "invalid syntax (272503047.py, line 1)",
     "output_type": "error",
     "traceback": [
      "\u001b[1;36m  Input \u001b[1;32mIn [42]\u001b[1;36m\u001b[0m\n\u001b[1;33m    i = \"\"123\"\"\u001b[0m\n\u001b[1;37m          ^\u001b[0m\n\u001b[1;31mSyntaxError\u001b[0m\u001b[1;31m:\u001b[0m invalid syntax\n"
     ]
    }
   ],
   "source": [
    "i = \"\"123\"\"\n",
    "type(i)\n"
   ]
  },
  {
   "cell_type": "code",
   "execution_count": 32,
   "id": "214b6852",
   "metadata": {},
   "outputs": [],
   "source": [
    "asession = AsyncHTMLSession()\n",
    "r = asession.get('https://www.google.com.tw/maps/place/%E9%AD%9A%E3%81%AE%E6%A3%A7(%E9%AD%9A%E4%B9%8B%E6%A3%A7)/data=!4m7!3m6!1s0x3442a94844003971:0x4aeef21e060b771a!8m2!3d25.0712473!4d121.5159715!16s%2Fg%2F11c1rfpcpf!19sChIJcTkAREipQjQRGncLBh7y7ko?authuser=0&hl=zh-TW&rclk=1')\n",
    "# response = requests.get('https://www.google.com.tw/maps/place/%E9%AD%9A%E3%81%AE%E6%A3%A7(%E9%AD%9A%E4%B9%8B%E6%A3%A7)/data=!4m7!3m6!1s0x3442a94844003971:0x4aeef21e060b771a!8m2!3d25.0712473!4d121.5159715!16s%2Fg%2F11c1rfpcpf!19sChIJcTkAREipQjQRGncLBh7y7ko?authuser=0&hl=zh-TW&rclk=1')"
   ]
  },
  {
   "cell_type": "code",
   "execution_count": 4,
   "id": "50fb2ca6",
   "metadata": {},
   "outputs": [],
   "source": [
    "def parse_description(description_tag):\n",
    "    description_text = h.handle(str(description_tag)) \n",
    "    return description_text"
   ]
  },
  {
   "cell_type": "code",
   "execution_count": 41,
   "id": "0cffcd3a",
   "metadata": {},
   "outputs": [],
   "source": [
    "url = 'https://www.google.com.tw/maps/place/%E9%AD%9A%E3%81%AE%E6%A3%A7(%E9%AD%9A%E4%B9%8B%E6%A3%A7)/data=!4m7!3m6!1s0x3442a94844003971:0x4aeef21e060b771a!8m2!3d25.0712473!4d121.5159715!16s%2Fg%2F11c1rfpcpf!19sChIJcTkAREipQjQRGncLBh7y7ko?authuser=0&hl=zh-TW&rclk=1'"
   ]
  },
  {
   "cell_type": "code",
   "execution_count": 49,
   "id": "ca347eaf",
   "metadata": {
    "scrolled": true
   },
   "outputs": [],
   "source": [
    "from requests_html import HTMLSession\n",
    "\n",
    "session = HTMLSession()\n",
    "\n",
    "r = session.get('https://www.google.com.tw/maps/place/%E9%AD%9A%E3%81%AE%E6%A3%A7(%E9%AD%9A%E4%B9%8B%E6%A3%A7)/data=!4m7!3m6!1s0x3442a94844003971:0x4aeef21e060b771a!8m2!3d25.0712473!4d121.5159715!16s%2Fg%2F11c1rfpcpf!19sChIJcTkAREipQjQRGncLBh7y7ko?authuser=0&hl=zh-TW&rclk=1')\n",
    "\n",
    "r.html.render()"
   ]
  },
  {
   "cell_type": "code",
   "execution_count": 45,
   "id": "b2af7c5a",
   "metadata": {},
   "outputs": [
    {
     "name": "stdout",
     "output_type": "stream",
     "text": [
      "<class 'pandas.core.frame.DataFrame'>\n",
      "RangeIndex: 107 entries, 0 to 106\n",
      "Data columns (total 18 columns):\n",
      " #   Column  Non-Null Count  Dtype  \n",
      "---  ------  --------------  -----  \n",
      " 0   0       107 non-null    int64  \n",
      " 1   1       107 non-null    object \n",
      " 2   2       107 non-null    object \n",
      " 3   3       102 non-null    object \n",
      " 4   4       105 non-null    object \n",
      " 5   5       90 non-null     float64\n",
      " 6   6       46 non-null     object \n",
      " 7   7       107 non-null    object \n",
      " 8   8       107 non-null    object \n",
      " 9   9       107 non-null    int64  \n",
      " 10  10      107 non-null    int64  \n",
      " 11  11      107 non-null    int64  \n",
      " 12  12      107 non-null    int64  \n",
      " 13  13      94 non-null     object \n",
      " 14  14      49 non-null     object \n",
      " 15  15      87 non-null     object \n",
      " 16  16      5 non-null      object \n",
      " 17  17      107 non-null    object \n",
      "dtypes: float64(1), int64(5), object(12)\n",
      "memory usage: 15.2+ KB\n"
     ]
    }
   ],
   "source": [
    "import pandas as pd\n",
    "\n",
    "df = pd.read_csv('./info/restaurant/place_info.csv', header=None)\n",
    "df.info()"
   ]
  },
  {
   "cell_type": "code",
   "execution_count": 49,
   "id": "7052575c",
   "metadata": {},
   "outputs": [
    {
     "data": {
      "text/plain": [
       "15908.0"
      ]
     },
     "execution_count": 49,
     "metadata": {},
     "output_type": "execute_result"
    }
   ],
   "source": [
    "df.tail(96-51)[5].sum()"
   ]
  },
  {
   "cell_type": "code",
   "execution_count": 50,
   "id": "854fff2c",
   "metadata": {},
   "outputs": [
    {
     "data": {
      "text/plain": [
       "62        NaN\n",
       "63       74.0\n",
       "64        NaN\n",
       "65      529.0\n",
       "66       14.0\n",
       "67      139.0\n",
       "68     2736.0\n",
       "69      147.0\n",
       "70      676.0\n",
       "71        NaN\n",
       "72      355.0\n",
       "73       25.0\n",
       "74      136.0\n",
       "75        NaN\n",
       "76     4533.0\n",
       "77       79.0\n",
       "78       67.0\n",
       "79       41.0\n",
       "80      118.0\n",
       "81      236.0\n",
       "82       58.0\n",
       "83      166.0\n",
       "84      158.0\n",
       "85      471.0\n",
       "86       12.0\n",
       "87        NaN\n",
       "88       77.0\n",
       "89      145.0\n",
       "90      222.0\n",
       "91       27.0\n",
       "92       82.0\n",
       "93       17.0\n",
       "94      101.0\n",
       "95     2820.0\n",
       "96      108.0\n",
       "97       34.0\n",
       "98       30.0\n",
       "99       56.0\n",
       "100     414.0\n",
       "101     227.0\n",
       "102     698.0\n",
       "103       NaN\n",
       "104       NaN\n",
       "105      42.0\n",
       "106      38.0\n",
       "Name: 5, dtype: float64"
      ]
     },
     "execution_count": 50,
     "metadata": {},
     "output_type": "execute_result"
    }
   ],
   "source": [
    "df.tail(96-51)[5]"
   ]
  }
 ],
 "metadata": {
  "kernelspec": {
   "display_name": "Python 3 (ipykernel)",
   "language": "python",
   "name": "python3"
  },
  "language_info": {
   "codemirror_mode": {
    "name": "ipython",
    "version": 3
   },
   "file_extension": ".py",
   "mimetype": "text/x-python",
   "name": "python",
   "nbconvert_exporter": "python",
   "pygments_lexer": "ipython3",
   "version": "3.9.12"
  }
 },
 "nbformat": 4,
 "nbformat_minor": 5
}
