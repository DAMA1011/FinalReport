{
 "cells": [
  {
   "cell_type": "code",
   "execution_count": 1,
   "id": "bdc0c485",
   "metadata": {},
   "outputs": [],
   "source": [
    "import pandas as pd\n",
    "import os,re"
   ]
  },
  {
   "cell_type": "markdown",
   "id": "0bb78ca0",
   "metadata": {},
   "source": [
    "# restaurant"
   ]
  },
  {
   "cell_type": "code",
   "execution_count": 9,
   "id": "9177b6e0",
   "metadata": {},
   "outputs": [],
   "source": [
    "def check_review(i):\n",
    "    try:\n",
    "        df = pd.read_csv(f\"Data/raw_data/restaurant/review/review_raw/{i}\")\n",
    "        df = df.iloc[:,1:]\n",
    "        # 刪沒寫評論只評星星\n",
    "        df = df.dropna(subset=\"review_text\")\n",
    "        # 刪作者重複\n",
    "        df = df.drop_duplicates(subset=[\"author_name\"])\n",
    "        # 刪評論重複,防範洗評論\n",
    "        df = df.drop_duplicates(subset=[\"review_text\"])\n",
    "        # 把所有老鼠字眼都換成蟑螂,因模型判斷不出有老鼠是壞事\n",
    "        df[\"review_text\"] = df[\"review_text\"].str.replace(\"老鼠\",\"蟑螂\")\n",
    "        # 把非中文或英文的篩選掉,並把有\"由 Google 提供翻譯\"篩選掉\n",
    "#         regex = r\"\\\\|\\n|\\.|\\’|[\\u0800-\\u4e00]|\\(由 Google 提供翻譯\\)|[\\uAC00-\\uD7A3]\"\n",
    "        # 只把換行符號,(由 Google 提供翻譯),\\刪掉\n",
    "        regex = r\"\\\\|\\n|\\(由 Google 提供翻譯\\)\"\n",
    "        df[\"review_text\"] = df[\"review_text\"].apply(lambda strResult: re.sub(regex,\" \", strResult))\n",
    "        # 把原始評論刪除,只留翻譯過後的中文\n",
    "        df[\"review_text\"] = df[\"review_text\"].str.split(\"\\(原始評論\\)\").str.get(0)\n",
    "        # 計算中文字數的長度,不計算標點符號\n",
    "        series = df[\"review_text\"].str.findall(\"[\\u4e00-\\u9fa5]\")\n",
    "        series = series.str.len()\n",
    "        # 只取中文字數大於10的評論\n",
    "        df = df[series>10]\n",
    "        df.to_csv(f\"Data/raw_data/restaurant/review/review_clean/{i}\",index=None)\n",
    "    except:\n",
    "        print(i)"
   ]
  },
  {
   "cell_type": "code",
   "execution_count": 10,
   "id": "7fe6fb77",
   "metadata": {},
   "outputs": [
    {
     "name": "stdout",
     "output_type": "stream",
     "text": [
      "20178.csv\n"
     ]
    }
   ],
   "source": [
    "file = os.listdir(\"Data/raw_data/restaurant/review/review_raw/\")\n",
    "for i in file:\n",
    "    check_review(i)"
   ]
  },
  {
   "cell_type": "markdown",
   "id": "ac42bd57",
   "metadata": {},
   "source": [
    "# attraction"
   ]
  },
  {
   "cell_type": "code",
   "execution_count": 11,
   "id": "9365e3c0",
   "metadata": {},
   "outputs": [],
   "source": [
    "def check_review(i):\n",
    "    try:\n",
    "        df = pd.read_csv(f\"Data/raw_data/attraction/review/review_raw/{i}\")\n",
    "        df = df.iloc[:,1:]\n",
    "        df = df.dropna(subset=\"review_text\")\n",
    "        df = df.drop_duplicates(subset=[\"author_name\"])\n",
    "        df = df.drop_duplicates(subset=[\"review_text\"])\n",
    "        df[\"review_text\"] = df[\"review_text\"].str.replace(\"老鼠\",\"蟑螂\")\n",
    "#         regex = r\"\\\\|\\n|\\.|\\’|[\\u0800-\\u4e00]|\\(由 Google 提供翻譯\\)|[\\uAC00-\\uD7A3]\"\n",
    "        regex = r\"\\\\|\\n|\\(由 Google 提供翻譯\\)\"\n",
    "        df[\"review_text\"] = df[\"review_text\"].apply(lambda strResult: re.sub(regex,\" \", strResult))\n",
    "        df[\"review_text\"] = df[\"review_text\"].str.split(\"\\(原始評論\\)\").str.get(0)\n",
    "        series = df[\"review_text\"].str.findall(\"[\\u4e00-\\u9fa5]\")\n",
    "        series = series.str.len()\n",
    "        df = df[series>10]\n",
    "        df.to_csv(f\"Data/raw_data/attraction/review/review_clean/{i}\",index=None)\n",
    "    except:\n",
    "        print(i)"
   ]
  },
  {
   "cell_type": "code",
   "execution_count": 12,
   "id": "77366714",
   "metadata": {},
   "outputs": [],
   "source": [
    "file = os.listdir(\"Data/raw_data/attraction/review/review_raw/\")\n",
    "for i in file:\n",
    "    check_review(i)"
   ]
  },
  {
   "cell_type": "code",
   "execution_count": null,
   "id": "c2563ccd",
   "metadata": {},
   "outputs": [],
   "source": []
  }
 ],
 "metadata": {
  "kernelspec": {
   "display_name": "Python 3 (ipykernel)",
   "language": "python",
   "name": "python3"
  },
  "language_info": {
   "codemirror_mode": {
    "name": "ipython",
    "version": 3
   },
   "file_extension": ".py",
   "mimetype": "text/x-python",
   "name": "python",
   "nbconvert_exporter": "python",
   "pygments_lexer": "ipython3",
   "version": "3.9.13"
  }
 },
 "nbformat": 4,
 "nbformat_minor": 5
}
