{
 "cells": [
  {
   "cell_type": "code",
   "execution_count": 1,
   "id": "bdc0c485",
   "metadata": {},
   "outputs": [],
   "source": [
    "import pandas as pd\n",
    "import os,re"
   ]
  },
  {
   "cell_type": "markdown",
   "id": "0bb78ca0",
   "metadata": {},
   "source": [
    "# restaurant"
   ]
  },
  {
   "cell_type": "code",
   "execution_count": 2,
   "id": "9177b6e0",
   "metadata": {},
   "outputs": [],
   "source": [
    "def check_review(i):\n",
    "    try:\n",
    "        global dropna_, drop_duplicates_author_name, drop_duplicates_review_text\n",
    "        global less_than_ten_word, more_than_five_hundred_word, before_clean_count, after_clean_count\n",
    "        \n",
    "        df = pd.read_csv(f\"{filePath}/{i}.csv\")\n",
    "        df = df.iloc[:,1:]\n",
    "        # 1 計算原評論筆數,並加回總數\n",
    "        before_clean_count += len(df)\n",
    "        \n",
    "        # 2 計算na筆數,並加回總數\n",
    "        dropna_ += df[df.loc[:,\"review_text\"].isna()].shape[0]\n",
    "        # 刪沒寫評論只評星星\n",
    "        df = df.dropna(subset=\"review_text\")\n",
    "        \n",
    "        # 3 計算作者重複筆數,並加回總數\n",
    "        drop_duplicates_author_name += df[df.duplicated(subset=\"author_name\")].shape[0]\n",
    "        # 刪作者重複\n",
    "        df = df.drop_duplicates(subset=[\"author_name\"])\n",
    "           \n",
    "        # 4 計算評論重複筆數,並加回總數\n",
    "        drop_duplicates_review_text += df[df.duplicated(subset=\"review_text\")].shape[0]\n",
    "        # 刪評論重複,防範洗評論\n",
    "        df = df.drop_duplicates(subset=[\"review_text\"])\n",
    "             \n",
    "        # 5 把所有老鼠字眼都換成蟑螂,因模型判斷不出有老鼠是壞事\n",
    "        df[\"review_text\"] = df[\"review_text\"].str.replace(\"老鼠\",\"蟑螂\")\n",
    "        # 6 把非中文或英文的篩選掉,並把有\"由 Google 提供翻譯\"篩選掉\n",
    "        regex = r\"\\\\|\\n|\\.|\\’|[\\u0800-\\u4e00]|\\(由 Google 提供翻譯\\)|[\\uAC00-\\uD7A3]\"\n",
    "        df[\"review_text\"] = df[\"review_text\"].apply(lambda strResult: re.sub(regex,\"\", strResult))\n",
    "        # 7 把原始評論刪除,只留翻譯過後的中文\n",
    "        df[\"review_text\"] = df[\"review_text\"].str.split(\"\\(原始評論\\)\").str.get(0)\n",
    "        # 8 計算中文字數的長度,不計算標點符號\n",
    "        series = df[\"review_text\"].str.findall(\"[\\u4e00-\\u9fa5]\")\n",
    "        series = series.str.len()\n",
    "        \n",
    "        # 9 計算字數小於等於10的筆數,並加回總數\n",
    "        less_than_ten_word += df[series<=10].shape[0]\n",
    "        \n",
    "        # 10 計算字數大500的筆數,並加回總數\n",
    "        more_than_five_hundred_word += df[series>500].shape[0]\n",
    "        \n",
    "        # 只取中文字數大於10且字數小於等於500的評論\n",
    "        df = df[(series>10) & (series <= 500)]\n",
    "               \n",
    "        # 11 寫入csv\n",
    "        df.to_csv(f\"{new_filePath}/{i}.csv\",index=None)\n",
    "        after_clean_count+=len(df)\n",
    "    except:\n",
    "        print(i)"
   ]
  },
  {
   "cell_type": "code",
   "execution_count": 3,
   "id": "7fe6fb77",
   "metadata": {},
   "outputs": [
    {
     "name": "stdout",
     "output_type": "stream",
     "text": [
      "1239\n",
      "25145\n",
      "25146\n",
      "25147\n",
      "25148\n",
      "25149\n"
     ]
    }
   ],
   "source": [
    "df = pd.read_csv(\"place_info_final_1229.csv\")\n",
    "filePath = \"Data/raw_data/restaurant/\"\n",
    "new_filePath = \"Data/raw_data/review_raw_restaurant_clean/\"\n",
    "file_name_1 = df.loc[:,\"file_name_1\"]\n",
    "\n",
    "dropna_ = 0\n",
    "drop_duplicates_author_name = 0\n",
    "drop_duplicates_review_text = 0\n",
    "less_than_ten_word = 0\n",
    "more_than_five_hundred_word = 0\n",
    "before_clean_count = 0\n",
    "after_clean_count  = 0\n",
    "\n",
    "for i in file_name_1:\n",
    "    check_review(i)"
   ]
  },
  {
   "cell_type": "code",
   "execution_count": 4,
   "id": "2daccbfe",
   "metadata": {},
   "outputs": [
    {
     "name": "stdout",
     "output_type": "stream",
     "text": [
      "沒評論只評星星共:3168520筆\n",
      "同餐廳同個消費者評論卻重複共:47159筆\n",
      "同餐廳不同消費者評論卻相同共:262249筆\n",
      "評論字數小於10的評論共:1657767筆\n",
      "評論字數大於500的評論共:10009筆\n",
      "before_clean_count共:8707405筆\n",
      "after_clean_count共:3561701筆\n"
     ]
    }
   ],
   "source": [
    "print(f\"沒評論只評星星共:{dropna_}筆\")\n",
    "print(f\"同餐廳同個消費者評論卻重複共:{drop_duplicates_author_name}筆\")\n",
    "print(f\"同餐廳不同消費者評論卻相同共:{drop_duplicates_review_text}筆\")\n",
    "print(f\"評論字數小於10的評論共:{less_than_ten_word}筆\")\n",
    "print(f\"評論字數大於500的評論共:{more_than_five_hundred_word}筆\")\n",
    "print(f\"before_clean_count共:{before_clean_count}筆\")\n",
    "print(f\"after_clean_count共:{after_clean_count}筆\")"
   ]
  },
  {
   "cell_type": "code",
   "execution_count": 5,
   "id": "117525de",
   "metadata": {},
   "outputs": [
    {
     "data": {
      "text/plain": [
       "3561701"
      ]
     },
     "execution_count": 5,
     "metadata": {},
     "output_type": "execute_result"
    }
   ],
   "source": [
    "8707405-3168520-47159-262249-1657767-10009"
   ]
  },
  {
   "cell_type": "markdown",
   "id": "ac42bd57",
   "metadata": {},
   "source": [
    "# attraction"
   ]
  },
  {
   "cell_type": "code",
   "execution_count": null,
   "id": "9365e3c0",
   "metadata": {},
   "outputs": [],
   "source": [
    "def check_review(i):\n",
    "    try:\n",
    "        global dropna_, drop_duplicates_author_name, drop_duplicates_review_text\n",
    "        global less_than_ten_word, more_than_five_hundred_word, before_clean_count, after_clean_count\n",
    "        \n",
    "        df = pd.read_csv(f\"Data/raw_data/review_raw_att_res/{i}.csv\")\n",
    "        df = df.iloc[:,1:]\n",
    "        # 1 計算原評論筆數,並加回總數\n",
    "        before_clean_count += len(df)\n",
    "        \n",
    "        # 2 計算na筆數,並加回總數\n",
    "        dropna_ += df[df.loc[:,\"review_text\"].isna()].shape[0]\n",
    "        # 刪沒寫評論只評星星\n",
    "        df = df.dropna(subset=\"review_text\")\n",
    "        \n",
    "        # 3 計算作者重複筆數,並加回總數\n",
    "        drop_duplicates_author_name += df[df.duplicated(subset=\"author_name\")].shape[0]\n",
    "        # 刪作者重複\n",
    "        df = df.drop_duplicates(subset=[\"author_name\"])\n",
    "           \n",
    "        # 4 計算評論重複筆數,並加回總數\n",
    "        drop_duplicates_review_text += df[df.duplicated(subset=\"review_text\")].shape[0]\n",
    "        # 刪評論重複,防範洗評論\n",
    "        df = df.drop_duplicates(subset=[\"review_text\"])\n",
    "             \n",
    "        # 5 把所有老鼠字眼都換成蟑螂,因模型判斷不出有老鼠是壞事\n",
    "        df[\"review_text\"] = df[\"review_text\"].str.replace(\"老鼠\",\"蟑螂\")\n",
    "        # 6 把非中文或英文的篩選掉,並把有\"由 Google 提供翻譯\"篩選掉\n",
    "        regex = r\"\\\\|\\n|\\.|\\’|[\\u0800-\\u4e00]|\\(由 Google 提供翻譯\\)|[\\uAC00-\\uD7A3]\"\n",
    "        df[\"review_text\"] = df[\"review_text\"].apply(lambda strResult: re.sub(regex,\"\", strResult))\n",
    "        # 7 把原始評論刪除,只留翻譯過後的中文\n",
    "        df[\"review_text\"] = df[\"review_text\"].str.split(\"\\(原始評論\\)\").str.get(0)\n",
    "        # 8 計算中文字數的長度,不計算標點符號\n",
    "        series = df[\"review_text\"].str.findall(\"[\\u4e00-\\u9fa5]\")\n",
    "        series = series.str.len()\n",
    "        \n",
    "        # 9 計算字數小於等於10的筆數,並加回總數\n",
    "        less_than_ten_word += df[series<=10].shape[0]\n",
    "        \n",
    "        # 10 計算字數大500的筆數,並加回總數\n",
    "        more_than_five_hundred_word += df[series>500].shape[0]\n",
    "        \n",
    "        # 只取中文字數大於10且字數小於等於500的評論\n",
    "        df = df[(series>10) & (series <= 500)]\n",
    "               \n",
    "        # 11 寫入csv\n",
    "        df.to_csv(f\"Data/raw_data/review_raw_att_res_clean/{i}.csv\",index=None)\n",
    "        after_clean_count+=len(df)\n",
    "    except:\n",
    "        print(i)"
   ]
  },
  {
   "cell_type": "code",
   "execution_count": null,
   "id": "77366714",
   "metadata": {},
   "outputs": [],
   "source": [
    "df = pd.read_csv(\"attraction_info_final_1229.csv\")\n",
    "filePath = \"Data/raw_data/review_raw_restaurant/\"\n",
    "new_filePath = \"Data/raw_data/review_raw_attraction_clean/\"\n",
    "file_name_1 = df.loc[:,\"file_name_1\"]\n",
    "\n",
    "dropna_ = 0\n",
    "drop_duplicates_author_name = 0\n",
    "drop_duplicates_review_text = 0\n",
    "less_than_ten_word = 0\n",
    "more_than_five_hundred_word = 0\n",
    "before_clean_count = 0\n",
    "after_clean_count  = 0\n",
    "\n",
    "for i in file_name_1:\n",
    "    check_review(i)"
   ]
  },
  {
   "cell_type": "code",
   "execution_count": null,
   "id": "595efb99",
   "metadata": {},
   "outputs": [],
   "source": [
    "print(f\"沒評論只評星星共:{dropna_}筆\")\n",
    "print(f\"同餐廳同個消費者評論卻重複共:{drop_duplicates_author_name}筆\")\n",
    "print(f\"同餐廳不同消費者評論卻相同共:{drop_duplicates_review_text}筆\")\n",
    "print(f\"評論字數小於10的評論共:{less_than_ten_word}筆\")\n",
    "print(f\"評論字數大於500的評論共:{more_than_five_hundred_word}筆\")\n",
    "print(f\"before_clean_count共:{before_clean_count}筆\")\n",
    "print(f\"after_clean_count共:{after_clean_count}筆\")"
   ]
  }
 ],
 "metadata": {
  "kernelspec": {
   "display_name": "Python 3 (ipykernel)",
   "language": "python",
   "name": "python3"
  },
  "language_info": {
   "codemirror_mode": {
    "name": "ipython",
    "version": 3
   },
   "file_extension": ".py",
   "mimetype": "text/x-python",
   "name": "python",
   "nbconvert_exporter": "python",
   "pygments_lexer": "ipython3",
   "version": "3.9.12"
  }
 },
 "nbformat": 4,
 "nbformat_minor": 5
}
