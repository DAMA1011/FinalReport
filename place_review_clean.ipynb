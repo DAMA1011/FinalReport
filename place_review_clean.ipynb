{
 "cells": [
  {
   "cell_type": "code",
   "execution_count": 19,
   "id": "bdc0c485",
   "metadata": {},
   "outputs": [],
   "source": [
    "import pandas as pd\n",
    "import os"
   ]
  },
  {
   "cell_type": "markdown",
   "id": "0bb78ca0",
   "metadata": {},
   "source": [
    "# restaurant"
   ]
  },
  {
   "cell_type": "code",
   "execution_count": 20,
   "id": "9177b6e0",
   "metadata": {},
   "outputs": [],
   "source": [
    "def check_review(i):\n",
    "    try:\n",
    "        df = pd.read_csv(f\"Data/raw_data/restaurant/review/review_raw/{i}\")\n",
    "        df = df.iloc[:,1:]\n",
    "        df = df.dropna(subset=\"review_text\")\n",
    "        df = df.drop_duplicates(subset=[\"author_name\"])\n",
    "        df = df.drop_duplicates(subset=[\"review_text\"])\n",
    "        series = df[\"review_text\"].replace(\"老鼠\",\"蟑螂\")\n",
    "        series = series.str.findall(\"[\\u4e00-\\u9fa5]\")\n",
    "        series = series.str.len()\n",
    "        df1 = df[series>10]\n",
    "        df1 = pd.DataFrame(df1)\n",
    "        df1.to_csv(f\"Data/raw_data/restaurant/review/review_clean/{i}\",index=None)\n",
    "    except:\n",
    "        print(i)"
   ]
  },
  {
   "cell_type": "code",
   "execution_count": 21,
   "id": "7fe6fb77",
   "metadata": {},
   "outputs": [
    {
     "name": "stdout",
     "output_type": "stream",
     "text": [
      "20178.csv\n"
     ]
    }
   ],
   "source": [
    "file = os.listdir(\"Data/raw_data/restaurant/review/review_raw/\")\n",
    "for i in file:\n",
    "    check_review(i)"
   ]
  },
  {
   "cell_type": "markdown",
   "id": "ac42bd57",
   "metadata": {},
   "source": [
    "# attraction"
   ]
  },
  {
   "cell_type": "code",
   "execution_count": 22,
   "id": "44fd6bca",
   "metadata": {},
   "outputs": [],
   "source": [
    "def check_review(i):\n",
    "    try:\n",
    "        df = pd.read_csv(f\"Data/raw_data/attraction/review/review_raw/{i}\")\n",
    "        df = df.iloc[:,1:]\n",
    "        df = df.dropna(subset=\"review_text\")\n",
    "        df = df.drop_duplicates(subset=[\"author_name\"])\n",
    "        df = df.drop_duplicates(subset=[\"review_text\"])\n",
    "        series = df[\"review_text\"].replace(\"老鼠\",\"蟑螂\")\n",
    "        series = series.str.findall(\"[\\u4e00-\\u9fa5]\")\n",
    "        series = series.str.len()\n",
    "        df1 = df[series>10]\n",
    "        df1 = pd.DataFrame(df1)\n",
    "        df1.to_csv(f\"Data/raw_data/attraction/review/review_clean/{i}\",index=None)\n",
    "    except:\n",
    "        print(i)"
   ]
  },
  {
   "cell_type": "code",
   "execution_count": 23,
   "id": "77366714",
   "metadata": {},
   "outputs": [],
   "source": [
    "file = os.listdir(\"Data/raw_data/attraction/review/review_raw/\")\n",
    "for i in file:\n",
    "    check_review(i)"
   ]
  },
  {
   "cell_type": "code",
   "execution_count": null,
   "id": "1431a84a",
   "metadata": {},
   "outputs": [],
   "source": []
  }
 ],
 "metadata": {
  "kernelspec": {
   "display_name": "Python 3 (ipykernel)",
   "language": "python",
   "name": "python3"
  },
  "language_info": {
   "codemirror_mode": {
    "name": "ipython",
    "version": 3
   },
   "file_extension": ".py",
   "mimetype": "text/x-python",
   "name": "python",
   "nbconvert_exporter": "python",
   "pygments_lexer": "ipython3",
   "version": "3.9.13"
  }
 },
 "nbformat": 4,
 "nbformat_minor": 5
}
