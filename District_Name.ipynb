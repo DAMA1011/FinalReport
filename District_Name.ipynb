{
 "cells": [
  {
   "cell_type": "code",
   "execution_count": 2,
   "id": "ab83cece",
   "metadata": {},
   "outputs": [
    {
     "name": "stdout",
     "output_type": "stream",
     "text": [
      "三水街\n",
      "中華路１段\n",
      "中華路２段\n",
      "內江街\n",
      "南寧路\n",
      "和平西路２段\n",
      "和平西路３段\n",
      "國興路\n",
      "大埔街\n",
      "大理街\n",
      "富民路\n",
      "寶興街\n",
      "峨眉街\n",
      "康定路\n",
      "廣州街\n",
      "德昌街\n",
      "忠孝西路２段\n",
      "成都路\n",
      "昆明街\n",
      "東園街\n",
      "柳州街\n",
      "桂林路\n",
      "梧州街\n",
      "武成街\n",
      "武昌街２段\n",
      "民和街\n",
      "水源路\n",
      "永福街\n",
      "汀州路１段\n",
      "洛陽街\n",
      "漢中街\n",
      "漢口街２段\n",
      "環河南路１段\n",
      "環河南路２段\n",
      "環河南路３段\n",
      "興寧街\n",
      "興義街\n",
      "艋舺大道\n",
      "莒光路\n",
      "華西街\n",
      "萬大路\n",
      "萬青街\n",
      "西園路１段\n",
      "西園路２段\n",
      "西寧南路\n",
      "西昌街\n",
      "西藏路\n",
      "貴陽街２段\n",
      "長沙街２段\n",
      "長泰街\n",
      "長順街\n",
      "開封街２段\n",
      "隆昌街\n",
      "雅江街\n",
      "雙和街\n",
      "雙園街\n",
      "青年路\n"
     ]
    }
   ],
   "source": [
    "import requests as req\n",
    "from bs4 import BeautifulSoup as bs\n",
    "\n",
    "url = \"https://zip5.5432.tw/cityzip/%E8%87%BA%E5%8C%97%E5%B8%82/%E8%90%AC%E8%8F%AF%E5%8D%80\"\n",
    "\n",
    "res = req.get(url)\n",
    "res.encoding=\"utf-8\"\n",
    "soup = bs(res.text,\"lxml\")\n",
    "\n",
    "road = soup.select(\"td.zip-road a\")\n",
    "\n",
    "for a in road:\n",
    "    with open(\"萬華區路名.txt\",\"a\",encoding=\"utf-8\") as f:\n",
    "        f.write(f'\"{a.get_text()}\",')\n",
    "        print(a.get_text())\n"
   ]
  },
  {
   "cell_type": "code",
   "execution_count": null,
   "id": "9dc1376e",
   "metadata": {},
   "outputs": [],
   "source": []
  }
 ],
 "metadata": {
  "kernelspec": {
   "display_name": "Python 3 (ipykernel)",
   "language": "python",
   "name": "python3"
  },
  "language_info": {
   "codemirror_mode": {
    "name": "ipython",
    "version": 3
   },
   "file_extension": ".py",
   "mimetype": "text/x-python",
   "name": "python",
   "nbconvert_exporter": "python",
   "pygments_lexer": "ipython3",
   "version": "3.9.13"
  }
 },
 "nbformat": 4,
 "nbformat_minor": 5
}
