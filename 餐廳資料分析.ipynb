{
 "cells": [
  {
   "cell_type": "code",
   "execution_count": 7,
   "id": "ee075062",
   "metadata": {},
   "outputs": [],
   "source": [
    "import pandas as pd"
   ]
  },
  {
   "cell_type": "code",
   "execution_count": 8,
   "id": "34040ea8",
   "metadata": {},
   "outputs": [],
   "source": [
    "df1 = pd.read_csv(\"清整後的資料/place_info_1.csv\", header=None)\n",
    "df2 = pd.read_csv(\"清整後的資料/place_info_2.csv\", header=None)\n",
    "df3 = pd.read_csv(\"清整後的資料/place_info_3.csv\", header=None)\n",
    "df4 = pd.read_csv(\"清整後的資料/place_info_4.csv\", header=None)\n",
    "df5 = pd.read_csv(\"清整後的資料/place_info_5.csv\", header=None)\n",
    "df6 = pd.read_csv(\"清整後的資料/place_info_6.csv\", header=None)"
   ]
  },
  {
   "cell_type": "code",
   "execution_count": 9,
   "id": "170c7e0f",
   "metadata": {},
   "outputs": [
    {
     "data": {
      "text/html": [
       "<div>\n",
       "<style scoped>\n",
       "    .dataframe tbody tr th:only-of-type {\n",
       "        vertical-align: middle;\n",
       "    }\n",
       "\n",
       "    .dataframe tbody tr th {\n",
       "        vertical-align: top;\n",
       "    }\n",
       "\n",
       "    .dataframe thead th {\n",
       "        text-align: right;\n",
       "    }\n",
       "</style>\n",
       "<table border=\"1\" class=\"dataframe\">\n",
       "  <thead>\n",
       "    <tr style=\"text-align: right;\">\n",
       "      <th></th>\n",
       "      <th>0</th>\n",
       "      <th>1</th>\n",
       "      <th>2</th>\n",
       "      <th>3</th>\n",
       "      <th>4</th>\n",
       "      <th>5</th>\n",
       "      <th>6</th>\n",
       "      <th>7</th>\n",
       "      <th>8</th>\n",
       "      <th>9</th>\n",
       "      <th>10</th>\n",
       "      <th>11</th>\n",
       "      <th>12</th>\n",
       "      <th>13</th>\n",
       "      <th>14</th>\n",
       "      <th>15</th>\n",
       "      <th>16</th>\n",
       "      <th>17</th>\n",
       "    </tr>\n",
       "  </thead>\n",
       "  <tbody>\n",
       "    <tr>\n",
       "      <th>0</th>\n",
       "      <td>0</td>\n",
       "      <td>https://www.google.com.tw/maps/place/%E9%BB%91...</td>\n",
       "      <td>黑曜麵屋</td>\n",
       "      <td>4.1</td>\n",
       "      <td>拉麵店</td>\n",
       "      <td>379.0</td>\n",
       "      <td>$</td>\n",
       "      <td>112台北市北投區尊賢街206巷2號</td>\n",
       "      <td>Plus Code: 4G85+47 北投區 台北市</td>\n",
       "      <td>1</td>\n",
       "      <td>1</td>\n",
       "      <td>0</td>\n",
       "      <td>1</td>\n",
       "      <td>星期二、11:00 到 21:00; 星期三、11:00 到 21:00; 星期四、11:0...</td>\n",
       "      <td>https://www.facebook.com/Obsidianhouse/</td>\n",
       "      <td>0979 047 907</td>\n",
       "      <td>NaN</td>\n",
       "      <td>2022-11-22</td>\n",
       "    </tr>\n",
       "  </tbody>\n",
       "</table>\n",
       "</div>"
      ],
      "text/plain": [
       "   0                                                  1     2    3    4   \\\n",
       "0   0  https://www.google.com.tw/maps/place/%E9%BB%91...  黑曜麵屋  4.1  拉麵店   \n",
       "\n",
       "      5  6                    7                           8   9   10  11  12  \\\n",
       "0  379.0  $   112台北市北投區尊賢街206巷2號  Plus Code: 4G85+47 北投區 台北市   1   1   0   1   \n",
       "\n",
       "                                                  13  \\\n",
       "0  星期二、11:00 到 21:00; 星期三、11:00 到 21:00; 星期四、11:0...   \n",
       "\n",
       "                                        14             15   16          17  \n",
       "0  https://www.facebook.com/Obsidianhouse/   0979 047 907  NaN  2022-11-22  "
      ]
     },
     "execution_count": 9,
     "metadata": {},
     "output_type": "execute_result"
    }
   ],
   "source": [
    "dfAll = pd.concat([df1,df2,df3,df4,df5,df6])\n",
    "dfAll.head(1)"
   ]
  },
  {
   "cell_type": "code",
   "execution_count": 10,
   "id": "d3c0ced1",
   "metadata": {},
   "outputs": [
    {
     "data": {
      "text/plain": [
       "(58588,)"
      ]
     },
     "execution_count": 10,
     "metadata": {},
     "output_type": "execute_result"
    }
   ],
   "source": [
    "# 原始資料長度\n",
    "dfAll[1].shape"
   ]
  },
  {
   "cell_type": "code",
   "execution_count": 11,
   "id": "687f3dcd",
   "metadata": {},
   "outputs": [
    {
     "data": {
      "text/plain": [
       "(58312, 18)"
      ]
     },
     "execution_count": 11,
     "metadata": {},
     "output_type": "execute_result"
    }
   ],
   "source": [
    "# 地址是空値刪掉\n",
    "df7NotNa = dfAll[dfAll[7].notnull()]\n",
    "df7NotNa.shape"
   ]
  },
  {
   "cell_type": "code",
   "execution_count": 12,
   "id": "7ef3f76c",
   "metadata": {},
   "outputs": [
    {
     "data": {
      "text/plain": [
       "(45118, 18)"
      ]
     },
     "execution_count": 12,
     "metadata": {},
     "output_type": "execute_result"
    }
   ],
   "source": [
    "# 去除非北市餐廳\n",
    "dftaipei = df7NotNa[df7NotNa[7].str.contains('台北市')]\n",
    "dftaipei.shape"
   ]
  },
  {
   "cell_type": "code",
   "execution_count": 13,
   "id": "2b145249",
   "metadata": {},
   "outputs": [
    {
     "data": {
      "text/plain": [
       "(34849, 18)"
      ]
     },
     "execution_count": 13,
     "metadata": {},
     "output_type": "execute_result"
    }
   ],
   "source": [
    "# 刪除評論0\n",
    "dfReview = dftaipei[dftaipei[5].notnull()]\n",
    "dfReview.shape"
   ]
  },
  {
   "cell_type": "code",
   "execution_count": 14,
   "id": "fc171987",
   "metadata": {},
   "outputs": [
    {
     "data": {
      "text/plain": [
       "(33453, 18)"
      ]
     },
     "execution_count": 14,
     "metadata": {},
     "output_type": "execute_result"
    }
   ],
   "source": [
    "# 刪除暫時關閉或永久停業,非上述兩類為值為NaN\n",
    "dfStillOpen = dfReview[dfReview[16].isnull()]\n",
    "dfStillOpen.shape"
   ]
  },
  {
   "cell_type": "code",
   "execution_count": 15,
   "id": "97017c2f",
   "metadata": {},
   "outputs": [
    {
     "data": {
      "text/plain": [
       "(32902, 18)"
      ]
     },
     "execution_count": 15,
     "metadata": {},
     "output_type": "execute_result"
    }
   ],
   "source": [
    "# 指定第一欄位的重複刪掉,並返回dataFrame\n",
    "dfNoDup = dfStillOpen.drop_duplicates(subset=[1])\n",
    "dfNoDup.shape"
   ]
  },
  {
   "cell_type": "markdown",
   "id": "3532c961",
   "metadata": {},
   "source": [
    "## 看一下類別"
   ]
  },
  {
   "cell_type": "code",
   "execution_count": 16,
   "id": "a4ca2874",
   "metadata": {},
   "outputs": [
    {
     "data": {
      "text/plain": [
       "(1209,)"
      ]
     },
     "execution_count": 16,
     "metadata": {},
     "output_type": "execute_result"
    }
   ],
   "source": [
    "category = dfNoDup[4].drop_duplicates()\n",
    "category.shape"
   ]
  },
  {
   "cell_type": "code",
   "execution_count": 17,
   "id": "05dbfb72",
   "metadata": {},
   "outputs": [],
   "source": [
    "category.to_csv(\"category.csv\",sep=',')"
   ]
  },
  {
   "cell_type": "code",
   "execution_count": 12,
   "id": "56e3c03f",
   "metadata": {},
   "outputs": [
    {
     "data": {
      "text/html": [
       "<div>\n",
       "<style scoped>\n",
       "    .dataframe tbody tr th:only-of-type {\n",
       "        vertical-align: middle;\n",
       "    }\n",
       "\n",
       "    .dataframe tbody tr th {\n",
       "        vertical-align: top;\n",
       "    }\n",
       "\n",
       "    .dataframe thead th {\n",
       "        text-align: right;\n",
       "    }\n",
       "</style>\n",
       "<table border=\"1\" class=\"dataframe\">\n",
       "  <thead>\n",
       "    <tr style=\"text-align: right;\">\n",
       "      <th></th>\n",
       "      <th>Unnamed: 0</th>\n",
       "      <th>4</th>\n",
       "    </tr>\n",
       "  </thead>\n",
       "  <tbody>\n",
       "    <tr>\n",
       "      <th>0</th>\n",
       "      <td>0</td>\n",
       "      <td>拉麵店</td>\n",
       "    </tr>\n",
       "    <tr>\n",
       "      <th>1</th>\n",
       "      <td>11</td>\n",
       "      <td>中式麵食店</td>\n",
       "    </tr>\n",
       "    <tr>\n",
       "      <th>2</th>\n",
       "      <td>15</td>\n",
       "      <td>麵店</td>\n",
       "    </tr>\n",
       "    <tr>\n",
       "      <th>3</th>\n",
       "      <td>20</td>\n",
       "      <td>餐廳</td>\n",
       "    </tr>\n",
       "    <tr>\n",
       "      <th>4</th>\n",
       "      <td>23</td>\n",
       "      <td>烏冬專門店</td>\n",
       "    </tr>\n",
       "    <tr>\n",
       "      <th>...</th>\n",
       "      <td>...</td>\n",
       "      <td>...</td>\n",
       "    </tr>\n",
       "    <tr>\n",
       "      <th>1204</th>\n",
       "      <td>8563</td>\n",
       "      <td>醫療中心</td>\n",
       "    </tr>\n",
       "    <tr>\n",
       "      <th>1205</th>\n",
       "      <td>8863</td>\n",
       "      <td>修道院</td>\n",
       "    </tr>\n",
       "    <tr>\n",
       "      <th>1206</th>\n",
       "      <td>9103</td>\n",
       "      <td>賓館</td>\n",
       "    </tr>\n",
       "    <tr>\n",
       "      <th>1207</th>\n",
       "      <td>9179</td>\n",
       "      <td>主題公園機動遊戲</td>\n",
       "    </tr>\n",
       "    <tr>\n",
       "      <th>1208</th>\n",
       "      <td>9434</td>\n",
       "      <td>圖片社</td>\n",
       "    </tr>\n",
       "  </tbody>\n",
       "</table>\n",
       "<p>1209 rows × 2 columns</p>\n",
       "</div>"
      ],
      "text/plain": [
       "      Unnamed: 0         4\n",
       "0              0       拉麵店\n",
       "1             11     中式麵食店\n",
       "2             15        麵店\n",
       "3             20        餐廳\n",
       "4             23     烏冬專門店\n",
       "...          ...       ...\n",
       "1204        8563      醫療中心\n",
       "1205        8863       修道院\n",
       "1206        9103        賓館\n",
       "1207        9179  主題公園機動遊戲\n",
       "1208        9434       圖片社\n",
       "\n",
       "[1209 rows x 2 columns]"
      ]
     },
     "execution_count": 12,
     "metadata": {},
     "output_type": "execute_result"
    }
   ],
   "source": [
    "df = pd.read_csv(\"category.csv\")\n",
    "df"
   ]
  },
  {
   "cell_type": "markdown",
   "id": "7e91230a",
   "metadata": {},
   "source": [
    "## 篩完不必要的類別後剩下的餐廳"
   ]
  },
  {
   "cell_type": "code",
   "execution_count": 18,
   "id": "13a4de26",
   "metadata": {},
   "outputs": [
    {
     "name": "stdout",
     "output_type": "stream",
     "text": [
      "(22883, 17)\n"
     ]
    },
    {
     "data": {
      "text/html": [
       "<div>\n",
       "<style scoped>\n",
       "    .dataframe tbody tr th:only-of-type {\n",
       "        vertical-align: middle;\n",
       "    }\n",
       "\n",
       "    .dataframe tbody tr th {\n",
       "        vertical-align: top;\n",
       "    }\n",
       "\n",
       "    .dataframe thead th {\n",
       "        text-align: right;\n",
       "    }\n",
       "</style>\n",
       "<table border=\"1\" class=\"dataframe\">\n",
       "  <thead>\n",
       "    <tr style=\"text-align: right;\">\n",
       "      <th></th>\n",
       "      <th>google_url</th>\n",
       "      <th>place_name</th>\n",
       "      <th>total_rating</th>\n",
       "      <th>place_category</th>\n",
       "      <th>total_reviews</th>\n",
       "      <th>cost</th>\n",
       "      <th>address</th>\n",
       "      <th>district</th>\n",
       "      <th>eat_in</th>\n",
       "      <th>to_go_1</th>\n",
       "      <th>to_go_2</th>\n",
       "      <th>delivery</th>\n",
       "      <th>opening_hours</th>\n",
       "      <th>website</th>\n",
       "      <th>phone</th>\n",
       "      <th>close</th>\n",
       "      <th>place_acquisition_date</th>\n",
       "    </tr>\n",
       "  </thead>\n",
       "  <tbody>\n",
       "    <tr>\n",
       "      <th>0</th>\n",
       "      <td>https://www.google.com.tw/maps/place...</td>\n",
       "      <td>黑曜麵屋</td>\n",
       "      <td>4.1</td>\n",
       "      <td>拉麵店</td>\n",
       "      <td>379.0</td>\n",
       "      <td>$</td>\n",
       "      <td>112台北市北投區尊賢街206巷2號</td>\n",
       "      <td>Plus Code: 4G85+47 北投區 台北市</td>\n",
       "      <td>1</td>\n",
       "      <td>1</td>\n",
       "      <td>0</td>\n",
       "      <td>1</td>\n",
       "      <td>星期二、11:00 到 21:00; 星期三、11:00 到 21:00...</td>\n",
       "      <td>https://www.facebook.com/Obsidianhouse/</td>\n",
       "      <td>0979 047 907</td>\n",
       "      <td>NaN</td>\n",
       "      <td>2022-11-22</td>\n",
       "    </tr>\n",
       "    <tr>\n",
       "      <th>1</th>\n",
       "      <td>https://www.google.com.tw/maps/place...</td>\n",
       "      <td>樂山窄巷拉麵</td>\n",
       "      <td>4.1</td>\n",
       "      <td>拉麵店</td>\n",
       "      <td>1681.0</td>\n",
       "      <td>$$</td>\n",
       "      <td>112台北市北投區大同街27號</td>\n",
       "      <td>Plus Code: 4FMX+5J 北投區 台北市</td>\n",
       "      <td>1</td>\n",
       "      <td>1</td>\n",
       "      <td>0</td>\n",
       "      <td>0</td>\n",
       "      <td>星期二、11:00 到 14:30、17:00 到 20:30; 星期三...</td>\n",
       "      <td>https://www.facebook.com/rakuzan428/</td>\n",
       "      <td>02 2892 6265</td>\n",
       "      <td>NaN</td>\n",
       "      <td>2022-11-22</td>\n",
       "    </tr>\n",
       "  </tbody>\n",
       "</table>\n",
       "</div>"
      ],
      "text/plain": [
       "                                google_url place_name  total_rating  \\\n",
       "0  https://www.google.com.tw/maps/place...       黑曜麵屋           4.1   \n",
       "1  https://www.google.com.tw/maps/place...     樂山窄巷拉麵           4.1   \n",
       "\n",
       "  place_category  total_reviews cost              address  \\\n",
       "0            拉麵店          379.0    $   112台北市北投區尊賢街206巷2號   \n",
       "1            拉麵店         1681.0   $$      112台北市北投區大同街27號   \n",
       "\n",
       "                     district  eat_in  to_go_1  to_go_2  delivery  \\\n",
       "0  Plus Code: 4G85+47 北投區 台北市       1        1        0         1   \n",
       "1  Plus Code: 4FMX+5J 北投區 台北市       1        1        0         0   \n",
       "\n",
       "                             opening_hours  \\\n",
       "0  星期二、11:00 到 21:00; 星期三、11:00 到 21:00...   \n",
       "1  星期二、11:00 到 14:30、17:00 到 20:30; 星期三...   \n",
       "\n",
       "                                   website          phone  close  \\\n",
       "0  https://www.facebook.com/Obsidianhouse/   0979 047 907    NaN   \n",
       "1     https://www.facebook.com/rakuzan428/   02 2892 6265    NaN   \n",
       "\n",
       "  place_acquisition_date  \n",
       "0             2022-11-22  \n",
       "1             2022-11-22  "
      ]
     },
     "execution_count": 18,
     "metadata": {},
     "output_type": "execute_result"
    }
   ],
   "source": [
    "dfFilter = pd.read_csv(\"篩完類別後的餐廳/place_info_classification.csv\")\n",
    "pd.set_option('max_colwidth',40)\n",
    "print(dfFilter.shape)\n",
    "dfFilter.head(2)"
   ]
  },
  {
   "cell_type": "code",
   "execution_count": 19,
   "id": "14a0d2e8",
   "metadata": {},
   "outputs": [
    {
     "data": {
      "text/html": [
       "<div>\n",
       "<style scoped>\n",
       "    .dataframe tbody tr th:only-of-type {\n",
       "        vertical-align: middle;\n",
       "    }\n",
       "\n",
       "    .dataframe tbody tr th {\n",
       "        vertical-align: top;\n",
       "    }\n",
       "\n",
       "    .dataframe thead th {\n",
       "        text-align: right;\n",
       "    }\n",
       "</style>\n",
       "<table border=\"1\" class=\"dataframe\">\n",
       "  <thead>\n",
       "    <tr style=\"text-align: right;\">\n",
       "      <th></th>\n",
       "      <th>google_url</th>\n",
       "      <th>place_name</th>\n",
       "      <th>total_rating</th>\n",
       "      <th>place_category</th>\n",
       "      <th>total_reviews</th>\n",
       "      <th>cost</th>\n",
       "      <th>address</th>\n",
       "      <th>district</th>\n",
       "      <th>eat_in</th>\n",
       "      <th>to_go_1</th>\n",
       "      <th>to_go_2</th>\n",
       "      <th>delivery</th>\n",
       "      <th>opening_hours</th>\n",
       "      <th>website</th>\n",
       "      <th>phone</th>\n",
       "      <th>close</th>\n",
       "      <th>place_acquisition_date</th>\n",
       "      <th>Plus Code</th>\n",
       "      <th>districtC</th>\n",
       "    </tr>\n",
       "  </thead>\n",
       "  <tbody>\n",
       "    <tr>\n",
       "      <th>0</th>\n",
       "      <td>https://www.google.com.tw/maps/place...</td>\n",
       "      <td>黑曜麵屋</td>\n",
       "      <td>4.1</td>\n",
       "      <td>拉麵店</td>\n",
       "      <td>379.0</td>\n",
       "      <td>$</td>\n",
       "      <td>112台北市北投區尊賢街206巷2號</td>\n",
       "      <td>Plus Code: 4G85+47 北投區 台北市</td>\n",
       "      <td>1</td>\n",
       "      <td>1</td>\n",
       "      <td>0</td>\n",
       "      <td>1</td>\n",
       "      <td>星期二、11:00 到 21:00; 星期三、11:00 到 21:00...</td>\n",
       "      <td>https://www.facebook.com/Obsidianhouse/</td>\n",
       "      <td>0979 047 907</td>\n",
       "      <td>NaN</td>\n",
       "      <td>2022-11-22</td>\n",
       "      <td>4G85+47</td>\n",
       "      <td>北投區</td>\n",
       "    </tr>\n",
       "    <tr>\n",
       "      <th>1</th>\n",
       "      <td>https://www.google.com.tw/maps/place...</td>\n",
       "      <td>樂山窄巷拉麵</td>\n",
       "      <td>4.1</td>\n",
       "      <td>拉麵店</td>\n",
       "      <td>1681.0</td>\n",
       "      <td>$$</td>\n",
       "      <td>112台北市北投區大同街27號</td>\n",
       "      <td>Plus Code: 4FMX+5J 北投區 台北市</td>\n",
       "      <td>1</td>\n",
       "      <td>1</td>\n",
       "      <td>0</td>\n",
       "      <td>0</td>\n",
       "      <td>星期二、11:00 到 14:30、17:00 到 20:30; 星期三...</td>\n",
       "      <td>https://www.facebook.com/rakuzan428/</td>\n",
       "      <td>02 2892 6265</td>\n",
       "      <td>NaN</td>\n",
       "      <td>2022-11-22</td>\n",
       "      <td>4FMX+5J</td>\n",
       "      <td>北投區</td>\n",
       "    </tr>\n",
       "  </tbody>\n",
       "</table>\n",
       "</div>"
      ],
      "text/plain": [
       "                                google_url place_name  total_rating  \\\n",
       "0  https://www.google.com.tw/maps/place...       黑曜麵屋           4.1   \n",
       "1  https://www.google.com.tw/maps/place...     樂山窄巷拉麵           4.1   \n",
       "\n",
       "  place_category  total_reviews cost              address  \\\n",
       "0            拉麵店          379.0    $   112台北市北投區尊賢街206巷2號   \n",
       "1            拉麵店         1681.0   $$      112台北市北投區大同街27號   \n",
       "\n",
       "                     district  eat_in  to_go_1  to_go_2  delivery  \\\n",
       "0  Plus Code: 4G85+47 北投區 台北市       1        1        0         1   \n",
       "1  Plus Code: 4FMX+5J 北投區 台北市       1        1        0         0   \n",
       "\n",
       "                             opening_hours  \\\n",
       "0  星期二、11:00 到 21:00; 星期三、11:00 到 21:00...   \n",
       "1  星期二、11:00 到 14:30、17:00 到 20:30; 星期三...   \n",
       "\n",
       "                                   website          phone  close  \\\n",
       "0  https://www.facebook.com/Obsidianhouse/   0979 047 907    NaN   \n",
       "1     https://www.facebook.com/rakuzan428/   02 2892 6265    NaN   \n",
       "\n",
       "  place_acquisition_date Plus Code districtC  \n",
       "0             2022-11-22   4G85+47       北投區  \n",
       "1             2022-11-22   4FMX+5J       北投區  "
      ]
     },
     "execution_count": 19,
     "metadata": {},
     "output_type": "execute_result"
    }
   ],
   "source": [
    "# 把district 欄位經緯度與中文字分開,並新增欄位至原始df裡\n",
    "dfFilter[\"Plus Code\"] = dfFilter[\"district\"].str.split(\" \").str.get(2)\n",
    "dfFilter[\"districtC\"] = dfFilter[\"district\"].str.split(\" \").str.get(3)\n",
    "dfFilter.head(2)"
   ]
  },
  {
   "cell_type": "markdown",
   "id": "cda63fec",
   "metadata": {},
   "source": [
    "## columns 0 google_url"
   ]
  },
  {
   "cell_type": "code",
   "execution_count": 20,
   "id": "9b91b262",
   "metadata": {},
   "outputs": [
    {
     "data": {
      "text/plain": [
       "(22883, 19)"
      ]
     },
     "execution_count": 20,
     "metadata": {},
     "output_type": "execute_result"
    }
   ],
   "source": [
    "# 確認有無重複\n",
    "# 結論:總數共22884row ,去除網址重複也是22884, 網址已無重複\n",
    "df0 = dfFilter.drop_duplicates(subset=\"google_url\").shape\n",
    "df0"
   ]
  },
  {
   "cell_type": "markdown",
   "id": "79dfbd4f",
   "metadata": {},
   "source": [
    "## columns 1 place_name"
   ]
  },
  {
   "cell_type": "code",
   "execution_count": 21,
   "id": "3cabda92",
   "metadata": {},
   "outputs": [
    {
     "data": {
      "text/plain": [
       "(22883,)"
      ]
     },
     "execution_count": 21,
     "metadata": {},
     "output_type": "execute_result"
    }
   ],
   "source": [
    "dfFilter[\"place_name\"].shape"
   ]
  },
  {
   "cell_type": "code",
   "execution_count": 22,
   "id": "eb7c72c6",
   "metadata": {},
   "outputs": [
    {
     "data": {
      "text/plain": [
       "(22832, 19)"
      ]
     },
     "execution_count": 22,
     "metadata": {},
     "output_type": "execute_result"
    }
   ],
   "source": [
    "# 確認有無重複\n",
    "# 結論: 去除同名餐廳且地址相同的剩22832,  有誤!! ,所以是同一間店但網址卻不同 ?\n",
    "df1_1 = dfFilter.drop_duplicates(subset=[\"place_name\",\"address\"])\n",
    "df1_1.shape"
   ]
  },
  {
   "cell_type": "code",
   "execution_count": 24,
   "id": "2db5b5fd",
   "metadata": {},
   "outputs": [
    {
     "data": {
      "text/plain": [
       "0                                        https://www.google.com.tw/maps/place/%E9%98%BF%E8%8A%B3%E8%B6%8A%E5%8D%97%E9%A3%9F+FUN'S+Vietnam+Bistro/data=!4m7!3m6!1s0x3442ae51dedf4ca5:0x3020946331fdca2c!8m2!3d25.136337!4d121.499213!16s%2Fg%2F11f0949t7y!19sChIJpUzf3lGuQjQRLMr9MWOUIDA?authuser=0&hl=zh-TW&rclk=1\n",
       "1                                                                                                   https://www.google.com.tw/maps/place/Sai+Gon/data=!4m7!3m6!1s0x3442af647713cdbb:0xbf74865e41bfc9ef!8m2!3d25.136337!4d121.499213!16s%2Fg%2F11gxwrh0c4!19sChIJu80Td2SvQjQR78m_QV6GdL8?authuser=0&hl=zh-TW&rclk=1\n",
       "2                                        https://www.google.com.tw/maps/place/%E4%B8%89%E5%95%86%E5%B7%A7%E7%A6%8F+%E7%9F%B3%E7%89%8C%E5%BA%97/data=!4m7!3m6!1s0x3442af22b8999d47:0x15ec31d6db337cf8!8m2!3d25.1159934!4d121.5154321!16s%2Fg%2F11rqxs6k2_!19sChIJR52ZuCKvQjQR-Hwz29Yx7BU?authuser=0&hl=zh-TW&rclk=1\n",
       "3                               https://www.google.com.tw/maps/place/%E4%B8%89%E5%95%86%E5%B7%A7%E7%A6%8F+%E7%9F%B3%E7%89%8C%E9%96%80%E5%B8%82/data=!4m7!3m6!1s0x3442af22b8999d47:0x15ec31d6db337cf8!8m2!3d25.1159934!4d121.5154321!16s%2Fg%2F11rqxs6k2_!19sChIJR52ZuCKvQjQR-Hwz29Yx7BU?authuser=0&hl=zh-TW&rclk=1\n",
       "4                                                                                                 https://www.google.com.tw/maps/place/Lay+Back/data=!4m7!3m6!1s0x3442abf6f58f7649:0xddbb79905d2e2e73!8m2!3d25.032668!4d121.5534315!16s%2Fg%2F11ftwnhxhd!19sChIJSXaP9farQjQRcy4uXZB5u90?authuser=0&hl=zh-TW&rclk=1\n",
       "                                                                                                                                                          ...                                                                                                                                                     \n",
       "96                                                                                   https://www.google.com.tw/maps/place/Celeste+Noodle+House/data=!4m7!3m6!1s0x3442aa28b2cf34ff:0xc375f04384600024!8m2!3d25.0216312!4d121.5427551!16s%2Fg%2F11b63w23j2!19sChIJ_zTPsiiqQjQRJABghEPwdcM?authuser=0&hl=zh-TW&rclk=1\n",
       "97                                             https://www.google.com.tw/maps/place/%E9%86%89%E7%BE%8E%E9%A4%90%E9%85%92%E9%A4%A8+Drunk+Night+./data=!4m7!3m6!1s0x3442ab3788eb6527:0xf48749d98dc46a75!8m2!3d25.032523!4d121.5526099!16s%2Fg%2F11s34g27th!19sChIJJ2XriDerQjQRdWrEjdlJh_Q?authuser=0&hl=zh-TW&rclk=1\n",
       "98                           https://www.google.com.tw/maps/place/%E9%86%89%E7%BE%8E%E9%A4%90%E9%85%92%E6%B0%B4%E7%85%99%E9%A4%A8+Drunk+Night+./data=!4m7!3m6!1s0x3442ab3788eb6527:0xf48749d98dc46a75!8m2!3d25.032523!4d121.5526099!16s%2Fg%2F11s34g27th!19sChIJJ2XriDerQjQRdWrEjdlJh_Q?authuser=0&hl=zh-TW&rclk=1\n",
       "99     https://www.google.com.tw/maps/place/%E8%8C%B6%E5%A5%B6%E5%A3%AB%E5%A4%9A+%E9%8D%8B%E7%85%AE%E9%AE%AE%E5%A5%B6%E8%8C%B6%E5%B0%88%E8%B3%A3%E5%BA%97+%E6%9D%BE%E5%B1%B1%E5%BA%97/data=!4m7!3m6!1s0x3442ab51b3b2a255:0xe415f2d1c7ca5c92!8m2!3d25.0380073!4d121.5780164!16s%2Fg%2F11lkthmg03!19sChIJVaKys1Gr...\n",
       "100    https://www.google.com.tw/maps/place/%E8%8C%B6%E5%A5%B6%E5%A3%AB%E5%A4%9A+%E9%8D%8B%E7%85%AE%E9%AE%AE%E5%A5%B6%E8%8C%B6%E5%B0%88%E8%B3%A3%E5%BA%97+%E6%9D%BE%E5%B1%B1%E5%BA%97-%E4%BF%A1%E7%BE%A9%E5%BF%85%E5%96%9D%E9%A3%B2%E6%96%99%7C%E5%A4%96%E9%80%81%E9%A3%B2%E6%96%99%E6%8E%A8%E8%96%A6%7C%E6%8E%...\n",
       "Name: google_url, Length: 101, dtype: object"
      ]
     },
     "execution_count": 24,
     "metadata": {},
     "output_type": "execute_result"
    }
   ],
   "source": [
    "# 把重複的取出,在合併原始dataFrame,並列出url查看是否相同\n",
    "# 結論: 確實同名餐廳且地址相同,網址不一樣,但點進去是同樣的頁面\n",
    "df1_2 = dfFilter[dfFilter.duplicated(subset=[\"place_name\",\"address\"])].drop_duplicates(subset=[\"place_name\",\"address\"])[[\"place_name\",\"address\"]] # 51筆\"place_name\",\"address\" 重複\n",
    "df1_3 = pd.merge(df1_2,dfFilter, on=[\"place_name\",\"address\"] , how=\"left\")  # 合併,才能比對\n",
    "pd.set_option('max_colwidth',300) # 讓欄位內容變大\n",
    "# df2[[\"google_url\",\"place_name\"]]\n",
    "df1_3[\"google_url\"] #兩兩點進去查看  ex [0和1 ,2和3 ,4和5....]"
   ]
  },
  {
   "cell_type": "code",
   "execution_count": null,
   "id": "413aa28b",
   "metadata": {},
   "outputs": [],
   "source": [
    "# pd.set_option('max_colwidth', 400)\n",
    "# pd.set_option('max_colwidth',20)\n",
    "# df1[df1[\"place_name\"].str.contains(\"修\")][\"google_url\"]\n",
    "# df1[df1[\"place_name\"].str.contains(\"車\")]"
   ]
  },
  {
   "cell_type": "markdown",
   "id": "4adfb642",
   "metadata": {},
   "source": [
    "## columns 2 total_rating"
   ]
  },
  {
   "cell_type": "code",
   "execution_count": 25,
   "id": "a078dc57",
   "metadata": {},
   "outputs": [
    {
     "data": {
      "text/plain": [
       "total_rating\n",
       "1.1       4\n",
       "1.3       2\n",
       "1.4       6\n",
       "1.5       4\n",
       "1.6       3\n",
       "1.7       8\n",
       "1.8       7\n",
       "1.9       7\n",
       "2.0      15\n",
       "2.1      25\n",
       "2.2      16\n",
       "2.3      33\n",
       "2.4      39\n",
       "2.5      55\n",
       "2.6      36\n",
       "2.7      60\n",
       "2.8      76\n",
       "2.9     105\n",
       "3.0     131\n",
       "3.1     147\n",
       "3.2     211\n",
       "3.3     273\n",
       "3.4     352\n",
       "3.5     497\n",
       "3.6     665\n",
       "3.7     826\n",
       "3.8    1068\n",
       "3.9    1416\n",
       "4.0    1756\n",
       "4.1    2087\n",
       "4.2    2227\n",
       "4.3    2161\n",
       "4.4    1950\n",
       "4.5    1665\n",
       "4.6    1380\n",
       "4.7    1210\n",
       "4.8    1058\n",
       "4.9     809\n",
       "5.0     493\n",
       "dtype: int64"
      ]
     },
     "execution_count": 25,
     "metadata": {},
     "output_type": "execute_result"
    }
   ],
   "source": [
    "# 查看所有 rating 的個數,\n",
    "# 結論: rating在3以下的不多,所以不抓也無所謂\n",
    "df2_1 = dfFilter.groupby('total_rating').size()\n",
    "df2_1"
   ]
  },
  {
   "cell_type": "code",
   "execution_count": 26,
   "id": "8161e14d",
   "metadata": {},
   "outputs": [
    {
     "name": "stdout",
     "output_type": "stream",
     "text": [
      "(22251, 19)\n"
     ]
    },
    {
     "data": {
      "text/plain": [
       "total_rating\n",
       "3.1     147\n",
       "3.2     211\n",
       "3.3     273\n",
       "3.4     352\n",
       "3.5     497\n",
       "3.6     665\n",
       "3.7     826\n",
       "3.8    1068\n",
       "3.9    1416\n",
       "4.0    1756\n",
       "4.1    2087\n",
       "4.2    2227\n",
       "4.3    2161\n",
       "4.4    1950\n",
       "4.5    1665\n",
       "4.6    1380\n",
       "4.7    1210\n",
       "4.8    1058\n",
       "4.9     809\n",
       "5.0     493\n",
       "dtype: int64"
      ]
     },
     "execution_count": 26,
     "metadata": {},
     "output_type": "execute_result"
    }
   ],
   "source": [
    "# rating > 3 的共有22251筆\n",
    "df2_2 = dfFilter[dfFilter['total_rating']>3]\n",
    "print(df2_2.shape)\n",
    "\n",
    "# rating的分布\n",
    "# 結論: 主要集中在4分左右\n",
    "df2_2.groupby('total_rating').size()"
   ]
  },
  {
   "cell_type": "code",
   "execution_count": 27,
   "id": "b9784024",
   "metadata": {},
   "outputs": [
    {
     "data": {
      "text/plain": [
       "districtC\n",
       "中山區    2459\n",
       "中正區    1534\n",
       "信義區    2317\n",
       "內湖區    1924\n",
       "北投區    1494\n",
       "南港區     884\n",
       "士林區    2119\n",
       "大同區    1512\n",
       "大安區    3494\n",
       "文山區    1476\n",
       "松山區    2111\n",
       "汐止區       1\n",
       "萬華區    1558\n",
       "dtype: int64"
      ]
     },
     "execution_count": 27,
     "metadata": {},
     "output_type": "execute_result"
    }
   ],
   "source": [
    "# 查看所爬出來的店家分布的狀況\n",
    "# 結論: 汐止只有一間餐廳有點奇怪\n",
    "dfFilter.groupby(\"districtC\").size()"
   ]
  },
  {
   "cell_type": "code",
   "execution_count": 28,
   "id": "cc0a3bc6",
   "metadata": {},
   "outputs": [
    {
     "data": {
      "text/plain": [
       "5531    韓堂-韓國小吃\n",
       "Name: place_name, dtype: object"
      ]
     },
     "execution_count": 28,
     "metadata": {},
     "output_type": "execute_result"
    }
   ],
   "source": [
    "# 真的只有一間..........\n",
    "dfFilter[dfFilter[\"district\"].str.contains(\"汐止\")][\"place_name\"]"
   ]
  },
  {
   "cell_type": "code",
   "execution_count": 29,
   "id": "b4c27699",
   "metadata": {},
   "outputs": [
    {
     "data": {
      "text/plain": [
       "districtC\n",
       "中山區    2421\n",
       "中正區    1480\n",
       "信義區    2243\n",
       "內湖區    1871\n",
       "北投區    1453\n",
       "南港區     844\n",
       "士林區    2040\n",
       "大同區    1457\n",
       "大安區    3429\n",
       "文山區    1437\n",
       "松山區    2067\n",
       "汐止區       1\n",
       "萬華區    1508\n",
       "dtype: int64"
      ]
     },
     "execution_count": 29,
     "metadata": {},
     "output_type": "execute_result"
    }
   ],
   "source": [
    "# rating>3 的分布\n",
    "# 結論: >3 最多的區是大安區,最少的是汐止,除去汐止最少的是南港\n",
    "pd.options.display.max_rows = 999\n",
    "# df2_3 = df2_2.groupby(['districtC','total_rating']).size()\n",
    "df2_3 = df2_2.groupby(['districtC']).size()\n",
    "df2_3"
   ]
  },
  {
   "cell_type": "code",
   "execution_count": 30,
   "id": "6921ddc7",
   "metadata": {},
   "outputs": [
    {
     "data": {
      "text/plain": [
       "districtC\n",
       "中山區    1755\n",
       "中正區     943\n",
       "信義區    1557\n",
       "內湖區    1193\n",
       "北投區     941\n",
       "南港區     494\n",
       "士林區    1339\n",
       "大同區     953\n",
       "大安區    2502\n",
       "文山區     904\n",
       "松山區    1446\n",
       "萬華區    1013\n",
       "dtype: int64"
      ]
     },
     "execution_count": 30,
     "metadata": {},
     "output_type": "execute_result"
    }
   ],
   "source": [
    "# rating>4 的分布\n",
    "# 結論: >4 最多的區是大安區,汐止不見了,最少的是南港\n",
    "df2_4 = dfFilter[dfFilter['total_rating']>4]\n",
    "df2_4.groupby(['districtC']).size()"
   ]
  },
  {
   "cell_type": "code",
   "execution_count": 31,
   "id": "e97fc59f",
   "metadata": {},
   "outputs": [
    {
     "data": {
      "text/plain": [
       "districtC\n",
       "中山區    38\n",
       "中正區    17\n",
       "信義區    54\n",
       "內湖區    40\n",
       "北投區    24\n",
       "南港區    15\n",
       "士林區    45\n",
       "大同區    44\n",
       "大安區    89\n",
       "文山區    26\n",
       "松山區    54\n",
       "萬華區    47\n",
       "dtype: int64"
      ]
     },
     "execution_count": 31,
     "metadata": {},
     "output_type": "execute_result"
    }
   ],
   "source": [
    "# rating=5 的分布\n",
    "# 結論: ==5 最多的區是大安區,汐止不見了,最少的是南港\n",
    "df2_5 = dfFilter[dfFilter['total_rating']==5]\n",
    "df2_5.groupby(['districtC']).size()"
   ]
  },
  {
   "cell_type": "markdown",
   "id": "31b86490",
   "metadata": {},
   "source": [
    "## columns 3 place_category"
   ]
  },
  {
   "cell_type": "code",
   "execution_count": 40,
   "id": "00006e18",
   "metadata": {},
   "outputs": [
    {
     "data": {
      "text/plain": [
       "count     238.000000\n",
       "mean       96.147059\n",
       "std       317.221986\n",
       "min         1.000000\n",
       "25%         3.000000\n",
       "50%        15.000000\n",
       "75%        54.000000\n",
       "max      3893.000000\n",
       "dtype: float64"
      ]
     },
     "execution_count": 40,
     "metadata": {},
     "output_type": "execute_result"
    }
   ],
   "source": [
    "# 查看種類的分布\n",
    "# 結論: 最多的類別是\"餐廳\"\n",
    "df3_1 = dfFilter.groupby(\"place_category\").size().describe()\n",
    "df3_1"
   ]
  },
  {
   "cell_type": "code",
   "execution_count": 41,
   "id": "b3461a84",
   "metadata": {},
   "outputs": [
    {
     "name": "stdout",
     "output_type": "stream",
     "text": [
      "place_category\n",
      "餐廳    3893\n",
      "dtype: int64\n"
     ]
    }
   ],
   "source": [
    "df3_2 = dfFilter.groupby(\"place_category\").size()\n",
    "print(df3_2[df3_2==3893])"
   ]
  },
  {
   "cell_type": "code",
   "execution_count": 42,
   "id": "2e6b028f",
   "metadata": {},
   "outputs": [
    {
     "data": {
      "text/plain": [
       "place_category\n",
       "三文治店                32\n",
       "中式包點店              206\n",
       "中式糕餅店               46\n",
       "中式茶館                41\n",
       "中式麵食店              469\n",
       "中東餐廳                 5\n",
       "中菜                   3\n",
       "中菜外賣                 9\n",
       "中菜館                 90\n",
       "中餐館                685\n",
       "串燒烤肉店               31\n",
       "亞洲  Fusion 菜餐廳       6\n",
       "亞洲菜餐廳               54\n",
       "京菜/北京菜館             16\n",
       "京都風味日式餐廳             2\n",
       "什錦麵館                 7\n",
       "俄國餐廳                 1\n",
       "保加利亞餐廳               2\n",
       "健康食品專賣店             56\n",
       "健康食品餐廳              51\n",
       "傳統美式餐廳               2\n",
       "冬甩店                 32\n",
       "冰品飲料店              636\n",
       "冷麵店                110\n",
       "加勒比海餐廳               1\n",
       "加州餐廳                 7\n",
       "北意大利餐廳               1\n",
       "南部菜餐廳 (美國)           1\n",
       "卡拉 OK 酒吧            24\n",
       "印尼餐廳                10\n",
       "印度餐廳                48\n",
       "台灣餐廳               550\n",
       "吐司餐廳                 4\n",
       "和菓子餐廳                4\n",
       "咖啡店                964\n",
       "咖啡廳               1143\n",
       "啤酒館                  5\n",
       "四川酒家                50\n",
       "土耳其餐廳                2\n",
       "地中海餐廳                8\n",
       "墨西哥餐廳               10\n",
       "壽司外帶                 8\n",
       "壽司店                119\n",
       "壽喜燒和日式火鍋餐廳          35\n",
       "壽喜燒餐廳                7\n",
       "夏威夷蓋飯專賣店             6\n",
       "夏威夷餐廳               11\n",
       "外賣自取餐廳              33\n",
       "外送速遞餐廳              48\n",
       "多國菜餐廳               17\n",
       "夜市                  36\n",
       "天婦羅丼餐廳               3\n",
       "天婦羅餐廳                3\n",
       "天然食品店               35\n",
       "客家菜館                44\n",
       "家常菜餐廳               26\n",
       "家庭餐廳                15\n",
       "寵物用品店               24\n",
       "小吃店                221\n",
       "小食/零食吧               3\n",
       "小餐館 (Bistro)       140\n",
       "居酒屋                177\n",
       "巧克力咖啡館               1\n",
       "巴基斯坦餐廳               1\n",
       "希臘餐廳                 4\n",
       "御好燒餐廳                3\n",
       "德國餐廳                10\n",
       "快餐店                221\n",
       "意大利餐廳              275\n",
       "意大利麵食店              53\n",
       "愛心食堂                 2\n",
       "懷石料理餐廳               4\n",
       "拉丁美洲餐廳               3\n",
       "拉麵店                227\n",
       "捷克餐廳                 1\n",
       "摩洛哥餐廳                1\n",
       "擔擔麵專門店              22\n",
       "文字燒餐廳                1\n",
       "新加坡餐廳               24\n",
       "新奧爾良餐廳               1\n",
       "新派拉丁餐廳               1\n",
       "日式串燒餐廳               8\n",
       "日式咖哩餐廳             121\n",
       "日式炒麵餐廳               2\n",
       "日式炸豬扒餐廳             57\n",
       "日式烤雞串餐廳             52\n",
       "日式燒肉餐廳             128\n",
       "日式牛扒餐廳               2\n",
       "日式牛舌餐廳               1\n",
       "日式糖果店               11\n",
       "日式西餐廳               14\n",
       "日本地方料理餐廳            20\n",
       "日本熟食店                6\n",
       "日本餐廳               536\n",
       "早午餐餐廳              727\n",
       "早餐餐廳              1199\n",
       "曲奇餅店                19\n",
       "有機餐廳                 4\n",
       "朱古力店                30\n",
       "東南亞餐廳               16\n",
       "果汁店                 52\n",
       "柬埔寨餐廳                2\n",
       "歐洲餐廳                10\n",
       "歐陸餐廳                18\n",
       "正宗日式料理餐廳            42\n",
       "比利時餐廳                1\n",
       "水煙壺吧                 9\n",
       "沙威瑪餐廳                3\n",
       "法國餐廳                31\n",
       "法式牛扒餐廳               3\n",
       "法式糕餅店               44\n",
       "法式薄餅餐廳              12\n",
       "法式餐廳                16\n",
       "泰國餐廳               196\n",
       "浙菜/浙江菜館             13\n",
       "海鮮丼餐廳               16\n",
       "海鮮餐廳               169\n",
       "涮涮鍋餐廳               96\n",
       "清真餐廳                 7\n",
       "港式快餐店               79\n",
       "港式茶餐廳               12\n",
       "湘菜館                 16\n",
       "湯品餐廳                 7\n",
       "湯羹餐廳                 3\n",
       "滬菜館                 42\n",
       "漢堡餐廳                50\n",
       "潛艇漢堡餐廳              34\n",
       "澳洲餐廳                 3\n",
       "火鍋餐廳               682\n",
       "炸物串與串炸餐廳           135\n",
       "炸魚薯條餐廳               1\n",
       "烏冬專門店               31\n",
       "烤雞速食店               28\n",
       "無酒精飲料店              71\n",
       "煎餅料理餐廳               8\n",
       "熟食店               1691\n",
       "燒烤                  30\n",
       "燒烤餐廳                52\n",
       "牛丼餐廳                56\n",
       "狗兒咖啡館                2\n",
       "珍珠奶茶店              158\n",
       "班戟店                 15\n",
       "現代印度餐廳               4\n",
       "現代居酒屋               23\n",
       "現代歐洲餐廳              12\n",
       "現代法國餐廳               7\n",
       "現代美式餐廳              24\n",
       "現場音樂酒吧               9\n",
       "甜品店                518\n",
       "甜品餐廳               138\n",
       "生蠔吧餐廳                4\n",
       "盒餐餐廳                 3\n",
       "科夫塔肉丸餐廳              1\n",
       "秘魯餐廳                 1\n",
       "章魚燒餐廳               10\n",
       "粥餐廳                 93\n",
       "粵菜館                 73\n",
       "糕餅店                 62\n",
       "糖果店                  9\n",
       "純素餐廳               145\n",
       "素食餐廳               366\n",
       "緬甸餐廳                 1\n",
       "羊肉燒烤餐廳               2\n",
       "美式墨西哥菜餐廳             7\n",
       "美式扒房                70\n",
       "美式牛扒屋              121\n",
       "美式餐廳                90\n",
       "美式餐車店               15\n",
       "美食廣場                34\n",
       "義大利皮埃蒙特風味餐廳          1\n",
       "義大利薩丁尼亞風味餐廳          2\n",
       "自助餐廳                45\n",
       "自助餐餐廳               56\n",
       "芝士專賣店                2\n",
       "英國餐廳                 1\n",
       "英式餐廳                 2\n",
       "英式高級酒吧               2\n",
       "茶藝館                 60\n",
       "菲律賓餐廳                2\n",
       "葡萄牙餐廳                1\n",
       "葡萄酒吧                12\n",
       "葷食餐廳                 4\n",
       "蒙古烤肉餐廳               2\n",
       "蒸氣船餐廳                1\n",
       "蕎麥麵店                 1\n",
       "薄餅外賣自取              43\n",
       "薄餅速遞                21\n",
       "薄餅餐廳                80\n",
       "藏式餐廳                 2\n",
       "蘇菜/江蘇菜館              2\n",
       "螃蟹餐廳                 2\n",
       "融合菜式餐廳               4\n",
       "西班牙小食酒吧              4\n",
       "西班牙小食餐廳              1\n",
       "西班牙餐廳               14\n",
       "西餅店                111\n",
       "西餐廳                 64\n",
       "角色扮演咖啡廳              8\n",
       "豆腐餐廳                 3\n",
       "越南餐廳               153\n",
       "越式河粉餐廳              31\n",
       "輕食餐廳                59\n",
       "辣妹酒吧                 1\n",
       "農家菜館                 4\n",
       "迴轉壽司餐廳              53\n",
       "運動酒吧                 7\n",
       "酒吧                 370\n",
       "酒吧扒房                26\n",
       "酒吧雅座                13\n",
       "酒店                   5\n",
       "酒廠酒吧                 3\n",
       "酒樓                  48\n",
       "鋼琴酒吧                 2\n",
       "鐵板燒餐廳              168\n",
       "長壽飲食餐廳               8\n",
       "關東煮餐廳               15\n",
       "阿根廷餐廳                2\n",
       "雞尾酒酒吧               35\n",
       "雞肉餐廳                85\n",
       "雪糕店                 77\n",
       "韓國餐廳               289\n",
       "韓式燒烤餐廳              54\n",
       "韓式牛肉料理餐廳             2\n",
       "飛鏢酒吧                 5\n",
       "食堂與定食餐廳             87\n",
       "餃子店                288\n",
       "餐廳                3893\n",
       "餡餅店                 14\n",
       "馬來西亞餐廳              19\n",
       "高級法國餐廳               1\n",
       "高級餐廳                12\n",
       "魚料理餐廳                5\n",
       "鮑魚餐廳                 1\n",
       "鰻魚料理餐廳              17\n",
       "鱉料理餐廳                1\n",
       "鲁菜/山東菜館              5\n",
       "麵包圈店                12\n",
       "麵店                 429\n",
       "dtype: int64"
      ]
     },
     "execution_count": 42,
     "metadata": {},
     "output_type": "execute_result"
    }
   ],
   "source": [
    "# 顯示全部的類別個數\n",
    "df3_3 = dfFilter.groupby(\"place_category\").size()\n",
    "df3_3"
   ]
  },
  {
   "cell_type": "markdown",
   "id": "238520b0",
   "metadata": {},
   "source": [
    "## columns 4 total_reviews"
   ]
  },
  {
   "cell_type": "code",
   "execution_count": 43,
   "id": "5345856b",
   "metadata": {},
   "outputs": [
    {
     "data": {
      "text/plain": [
       "10452566.0"
      ]
     },
     "execution_count": 43,
     "metadata": {},
     "output_type": "execute_result"
    }
   ],
   "source": [
    "# 總評論有10452566\n",
    "df4_1 = dfFilter[\"total_reviews\"].sum(axis=0)\n",
    "df4_1"
   ]
  },
  {
   "cell_type": "code",
   "execution_count": 44,
   "id": "5c7dfb42",
   "metadata": {},
   "outputs": [
    {
     "data": {
      "text/plain": [
       "0                     黑曜麵屋\n",
       "1                   樂山窄巷拉麵\n",
       "2                    日本拉麵屋\n",
       "3        荷麵亭Hasumentei 北投店\n",
       "4            らあめん花月嵐 北投石牌店\n",
       "               ...        \n",
       "22861       五桐號WooTEA(虎林店)\n",
       "22866        李師傅羹大王(虎林創始店)\n",
       "22875        綺夢 Lounge Bar\n",
       "22879            七分飽手作健康餐盒\n",
       "22881                  豆味行\n",
       "Name: place_name, Length: 14734, dtype: object"
      ]
     },
     "execution_count": 44,
     "metadata": {},
     "output_type": "execute_result"
    }
   ],
   "source": [
    "# 篩選評論數大於100的店家\n",
    "# 結論: 只剩14734家餐廳\n",
    "df4_2 = dfFilter[\"total_reviews\"]>100\n",
    "df4_3 = dfFilter[df4_2][\"place_name\"]\n",
    "df4_3"
   ]
  },
  {
   "cell_type": "markdown",
   "id": "cbe0c7b5",
   "metadata": {},
   "source": [
    "## columns 5 cost"
   ]
  },
  {
   "cell_type": "code",
   "execution_count": 45,
   "id": "6fe17517",
   "metadata": {},
   "outputs": [
    {
     "data": {
      "text/plain": [
       "0         $\n",
       "1        $$\n",
       "2         $\n",
       "4        $$\n",
       "9        $$\n",
       "         ..\n",
       "22858     $\n",
       "22866     $\n",
       "22872     $\n",
       "22881     $\n",
       "22882     $\n",
       "Name: cost, Length: 11405, dtype: object"
      ]
     },
     "execution_count": 45,
     "metadata": {},
     "output_type": "execute_result"
    }
   ],
   "source": [
    "# 沒啥好研究的,全空\n",
    "df5_1 = dfFilter[\"cost\"].dropna()\n",
    "df5_1"
   ]
  },
  {
   "cell_type": "markdown",
   "id": "25a3e3fb",
   "metadata": {},
   "source": [
    "## columns 8 eat_in"
   ]
  },
  {
   "cell_type": "code",
   "execution_count": 46,
   "id": "f6e28434",
   "metadata": {},
   "outputs": [
    {
     "data": {
      "text/plain": [
       "0                     黑曜麵屋\n",
       "1                   樂山窄巷拉麵\n",
       "2                    日本拉麵屋\n",
       "3        荷麵亭Hasumentei 北投店\n",
       "4            らあめん花月嵐 北投石牌店\n",
       "               ...        \n",
       "22877              姚記麵線。油飯\n",
       "22878              飯點台式自助餐\n",
       "22879            七分飽手作健康餐盒\n",
       "22880            寶玉牛肉麵&自助餐\n",
       "22881                  豆味行\n",
       "Name: place_name, Length: 19867, dtype: object"
      ]
     },
     "execution_count": 46,
     "metadata": {},
     "output_type": "execute_result"
    }
   ],
   "source": [
    "# 可內用的餐廳\n",
    "# 結論: 共19867\n",
    "df8_1 = dfFilter['eat_in']==1\n",
    "df8_2 = dfFilter[df8_1][\"place_name\"]\n",
    "df8_2"
   ]
  },
  {
   "cell_type": "markdown",
   "id": "0362c58a",
   "metadata": {},
   "source": [
    "## columns 9 to_go_1"
   ]
  },
  {
   "cell_type": "code",
   "execution_count": 47,
   "id": "86f6425a",
   "metadata": {},
   "outputs": [
    {
     "data": {
      "text/plain": [
       "0                     黑曜麵屋\n",
       "1                   樂山窄巷拉麵\n",
       "2                    日本拉麵屋\n",
       "3        荷麵亭Hasumentei 北投店\n",
       "5                    滿客屋拉麵\n",
       "               ...        \n",
       "22878              飯點台式自助餐\n",
       "22879            七分飽手作健康餐盒\n",
       "22880            寶玉牛肉麵&自助餐\n",
       "22881                  豆味行\n",
       "22882          碳烤赤肉胡椒餅蔥花燒餅\n",
       "Name: place_name, Length: 18602, dtype: object"
      ]
     },
     "execution_count": 47,
     "metadata": {},
     "output_type": "execute_result"
    }
   ],
   "source": [
    "# 可外帶的餐廳\n",
    "# 結論: 共18602\n",
    "df9_1 = dfFilter['to_go_1']==1\n",
    "df9_2 = dfFilter[df9_1][\"place_name\"]\n",
    "df9_2"
   ]
  },
  {
   "cell_type": "markdown",
   "id": "e67ea3a4",
   "metadata": {},
   "source": [
    "## columns 10 to_go_2"
   ]
  },
  {
   "cell_type": "code",
   "execution_count": 48,
   "id": "bc12bfc9",
   "metadata": {},
   "outputs": [
    {
     "data": {
      "text/plain": [
       "4                 らあめん花月嵐 北投石牌店\n",
       "9                          拉麵公子\n",
       "24                         道樂商店\n",
       "39                       尾田家オダヤ\n",
       "45                     山嵐拉麵 公館店\n",
       "                  ...          \n",
       "22860                      街亭小吃\n",
       "22864                   虎林炸雞蔥抓餅\n",
       "22866             李師傅羹大王(虎林創始店)\n",
       "22874    Ascent爾聖德～預約料理包自取外送服務點\n",
       "22877                   姚記麵線。油飯\n",
       "Name: place_name, Length: 2693, dtype: object"
      ]
     },
     "execution_count": 48,
     "metadata": {},
     "output_type": "execute_result"
    }
   ],
   "source": [
    "# 可路邊取餐的餐廳\n",
    "# 結論: 共2693\n",
    "df10_1 = dfFilter['to_go_2']==1\n",
    "df10_2 = dfFilter[df10_1][\"place_name\"]\n",
    "df10_2"
   ]
  },
  {
   "cell_type": "markdown",
   "id": "9f9092be",
   "metadata": {},
   "source": [
    "## columns 11 delivery"
   ]
  },
  {
   "cell_type": "code",
   "execution_count": 49,
   "id": "11b5a42e",
   "metadata": {},
   "outputs": [
    {
     "data": {
      "text/plain": [
       "0                          黑曜麵屋\n",
       "4                 らあめん花月嵐 北投石牌店\n",
       "11                  志明牛肉拉麵 北投總店\n",
       "13                       厚恩創意拉麵\n",
       "14                       豚將日本拉麵\n",
       "                  ...          \n",
       "22871                   冰鎮滷味王之家\n",
       "22874    Ascent爾聖德～預約料理包自取外送服務點\n",
       "22877                   姚記麵線。油飯\n",
       "22879                 七分飽手作健康餐盒\n",
       "22881                       豆味行\n",
       "Name: place_name, Length: 10506, dtype: object"
      ]
     },
     "execution_count": 49,
     "metadata": {},
     "output_type": "execute_result"
    }
   ],
   "source": [
    "# 可外送的餐廳\n",
    "# 結論: 共10506\n",
    "df11_1 = dfFilter['delivery']==1\n",
    "df11_2 = dfFilter[df11_1][\"place_name\"]\n",
    "df11_2"
   ]
  },
  {
   "cell_type": "markdown",
   "id": "63f52a23",
   "metadata": {},
   "source": [
    "## columns 12 opening_hours\t"
   ]
  },
  {
   "cell_type": "code",
   "execution_count": 50,
   "id": "e39f11fa",
   "metadata": {},
   "outputs": [
    {
     "data": {
      "text/plain": [
       "0     星期二、11:00 到 21:00; 星期三、11:00 到 21:00...\n",
       "1     星期二、11:00 到 14:30、17:00 到 20:30; 星期三...\n",
       "2     星期二、11:30 到 14:00、17:00 到 21:00; 星期三...\n",
       "3     星期二、11:40 到 14:30、17:10 到 20:30; 星期三...\n",
       "4     星期二、11:00 到 22:00; 星期三、11:00 到 22:00...\n",
       "5     星期二、11:00 到 14:00、17:00 到 20:00; 星期三...\n",
       "6     星期二、11:30 到 20:30; 星期三、11:30 到 20:30...\n",
       "7     星期二、17:00 到 01:00; 星期三、17:00 到 01:00...\n",
       "8     星期二、11:30 到 13:30、17:00 到 20:30; 星期三...\n",
       "9                 0、0;0、0;0、0;0、0;0、0;0、0;0、0\n",
       "10    星期二、11:30 到 14:00、16:30 到 22:00; 星期三...\n",
       "Name: opening_hours, dtype: object"
      ]
     },
     "execution_count": 50,
     "metadata": {},
     "output_type": "execute_result"
    }
   ],
   "source": [
    "df12_1 = dfFilter[\"opening_hours\"].fillna(value=\"0、0;0、0;0、0;0、0;0、0;0、0;0、0\")  # 下面切割用';',不補0;0 切割會報錯\n",
    "df12_1.head(11)  # 第10row有Nan"
   ]
  },
  {
   "cell_type": "code",
   "execution_count": 51,
   "id": "938e5d06",
   "metadata": {},
   "outputs": [
    {
     "name": "stdout",
     "output_type": "stream",
     "text": [
      "星期五晚上時段大概幾點就賣完\n",
      "星期五美式餐廳（美麗華）\n",
      "星期六都休息嗎？為何營業時間寫星期六？\n"
     ]
    }
   ],
   "source": [
    "# 他們在搞...,會 index out of range 所以要先改掉,格式錯誤\n",
    "print(list(df12_1)[5993])\n",
    "print(list(df12_1)[14255])\n",
    "print(list(df12_1)[15686])"
   ]
  },
  {
   "cell_type": "code",
   "execution_count": 52,
   "id": "802a434f",
   "metadata": {},
   "outputs": [],
   "source": [
    "# 補0代表原格式錯誤,或是本來是NaN\n",
    "df12_1[5993] = \"0、0;0、0;0、0;0、0;0、0;0、0;0、0\"\n",
    "df12_1[14255] = \"0、0;0、0;0、0;0、0;0、0;0、0;0、0\"\n",
    "df12_1[15686] = \"0、0;0、0;0、0;0、0;0、0;0、0;0、0\""
   ]
  },
  {
   "cell_type": "code",
   "execution_count": 53,
   "id": "d8b8b0ae",
   "metadata": {},
   "outputs": [
    {
     "data": {
      "text/plain": [
       "0     [星期二、11:00 到 21:00,  星期三、11:00 到 21:...\n",
       "1     [星期二、11:00 到 14:30、17:00 到 20:30,  星...\n",
       "2     [星期二、11:30 到 14:00、17:00 到 21:00,  星...\n",
       "3     [星期二、11:40 到 14:30、17:10 到 20:30,  星...\n",
       "4     [星期二、11:00 到 22:00,  星期三、11:00 到 22:...\n",
       "5     [星期二、11:00 到 14:00、17:00 到 20:00,  星...\n",
       "6     [星期二、11:30 到 20:30,  星期三、11:30 到 20:...\n",
       "7     [星期二、17:00 到 01:00,  星期三、17:00 到 01:...\n",
       "8     [星期二、11:30 到 13:30、17:00 到 20:30,  星...\n",
       "9         [0、0, 0、0, 0、0, 0、0, 0、0, 0、0, 0、0]\n",
       "10    [星期二、11:30 到 14:00、16:30 到 22:00,  星...\n",
       "Name: opening_hours, dtype: object"
      ]
     },
     "execution_count": 53,
     "metadata": {},
     "output_type": "execute_result"
    }
   ],
   "source": [
    "# 原Series先用';'分割\n",
    "df12_2 = df12_1.str.split(';')\n",
    "df12_2.head(11)"
   ]
  },
  {
   "cell_type": "code",
   "execution_count": 54,
   "id": "ec66af2b",
   "metadata": {},
   "outputs": [],
   "source": [
    "# 先把dfFilter[\"opening_hours\"]取出,並把Series轉成list,選取每個list的元素,並用 '、'分割\n",
    "# 再append回空list裡,再轉成Series增加新column回原df\n",
    "\n",
    "# 星期二的營業時間\n",
    "# tuesdayList = []\n",
    "# for i in range(len(list(df12_2))):\n",
    "#     tuesdayList.append(list(df12_2)[i][0].split(\"、\")[1])\n",
    "# tuesdaySeries = pd.Series(tuesdayList)\n",
    "# tuesdaySeries"
   ]
  },
  {
   "cell_type": "code",
   "execution_count": 55,
   "id": "e710ffda",
   "metadata": {},
   "outputs": [],
   "source": [
    "# 增加星期一~星期日營業時間的欄位至原始DF裡\n",
    "tuesdayList   = []\n",
    "wednesdayList = []\n",
    "thursdayList  = []\n",
    "fridayList    = []\n",
    "saturdayList  = []\n",
    "sundayList    = []\n",
    "mondayList    = []\n",
    "for i in range(len(list(df12_2))):\n",
    "    for j in range(len(list(df12_2)[i])):   \n",
    "        if j == 0:\n",
    "            if len(list(df12_2)[i][j].split(\"、\")) == 3:\n",
    "                tuesdayList.append(list(df12_2)[i][j].split(\"、\")[1] + \",\" + list(df12_2)[1][0].split(\"、\")[2])\n",
    "            else:\n",
    "                tuesdayList.append(list(df12_2)[i][j].split(\"、\")[1])\n",
    "        elif j == 1:\n",
    "            if len(list(df12_2)[i][j].split(\"、\")) == 3:\n",
    "                wednesdayList.append(list(df12_2)[i][j].split(\"、\")[1] + \",\" + list(df12_2)[1][0].split(\"、\")[2])\n",
    "            else:\n",
    "                wednesdayList.append(list(df12_2)[i][j].split(\"、\")[1])\n",
    "        elif j == 2:\n",
    "            if len(list(df12_2)[i][j].split(\"、\")) == 3:\n",
    "                thursdayList.append(list(df12_2)[i][j].split(\"、\")[1] + \",\" + list(df12_2)[1][0].split(\"、\")[2])\n",
    "            else:\n",
    "                thursdayList.append(list(df12_2)[i][j].split(\"、\")[1])\n",
    "        elif j == 3:\n",
    "            if len(list(df12_2)[i][j].split(\"、\")) == 3:\n",
    "                fridayList.append(list(df12_2)[i][j].split(\"、\")[1] + \",\" + list(df12_2)[1][0].split(\"、\")[2])\n",
    "            else:\n",
    "                fridayList.append(list(df12_2)[i][j].split(\"、\")[1])\n",
    "            \n",
    "        elif j == 4:\n",
    "            if len(list(df12_2)[i][j].split(\"、\")) == 3:\n",
    "                saturdayList.append(list(df12_2)[i][j].split(\"、\")[1] + \",\" + list(df12_2)[1][0].split(\"、\")[2])\n",
    "            else:\n",
    "                saturdayList.append(list(df12_2)[i][j].split(\"、\")[1])\n",
    "            \n",
    "        elif j == 5:\n",
    "            if len(list(df12_2)[i][j].split(\"、\")) == 3:\n",
    "                sundayList.append(list(df12_2)[i][j].split(\"、\")[1] + \",\" + list(df12_2)[1][0].split(\"、\")[2])\n",
    "            else:\n",
    "                sundayList.append(list(df12_2)[i][j].split(\"、\")[1])\n",
    "            \n",
    "        else:\n",
    "            # 刪去'隱藏本週營業時間'\n",
    "            a = list(df12_2)[i][j].replace(\".\",\"、\").split(\"、\")\n",
    "            if len(a) == 4:\n",
    "                mondayList.append(a[1] + \",\" + a[2])\n",
    "            else:\n",
    "                mondayList.append(a[1])\n",
    "            \n",
    "# tuesdaySeries   = pd.Series(tuesdayList)            \n",
    "# wednesdaySeries = pd.Series(wednesdayList)\n",
    "# thursdaySeries  = pd.Series(thursdayList)\n",
    "# fridaySeries    = pd.Series(fridayList)\n",
    "# saturdaySeries  = pd.Series(saturdayList)\n",
    "# sundaySeries    = pd.Series(sundayList)\n",
    "# mondaySeries    = pd.Series(mondayList)\n",
    "\n",
    "dfFilter[\"Tuesday\"]   = pd.Series(tuesdayList) \n",
    "dfFilter[\"Wednesday\"] = pd.Series(wednesdayList)\n",
    "dfFilter[\"Thursday\"]  = pd.Series(thursdayList)\n",
    "dfFilter[\"Friday\"]    = pd.Series(fridayList)\n",
    "dfFilter[\"Saturday\"]  = pd.Series(saturdayList)\n",
    "dfFilter[\"Sunday\"]    = pd.Series(sundayList)\n",
    "dfFilter[\"Monday\"]    = pd.Series(mondayList)"
   ]
  },
  {
   "cell_type": "code",
   "execution_count": 56,
   "id": "4fdef256",
   "metadata": {},
   "outputs": [
    {
     "data": {
      "text/html": [
       "<div>\n",
       "<style scoped>\n",
       "    .dataframe tbody tr th:only-of-type {\n",
       "        vertical-align: middle;\n",
       "    }\n",
       "\n",
       "    .dataframe tbody tr th {\n",
       "        vertical-align: top;\n",
       "    }\n",
       "\n",
       "    .dataframe thead th {\n",
       "        text-align: right;\n",
       "    }\n",
       "</style>\n",
       "<table border=\"1\" class=\"dataframe\">\n",
       "  <thead>\n",
       "    <tr style=\"text-align: right;\">\n",
       "      <th></th>\n",
       "      <th>google_url</th>\n",
       "      <th>place_name</th>\n",
       "      <th>total_rating</th>\n",
       "      <th>place_category</th>\n",
       "      <th>total_reviews</th>\n",
       "      <th>cost</th>\n",
       "      <th>address</th>\n",
       "      <th>district</th>\n",
       "      <th>eat_in</th>\n",
       "      <th>to_go_1</th>\n",
       "      <th>to_go_2</th>\n",
       "      <th>delivery</th>\n",
       "      <th>opening_hours</th>\n",
       "      <th>website</th>\n",
       "      <th>phone</th>\n",
       "      <th>close</th>\n",
       "      <th>place_acquisition_date</th>\n",
       "      <th>Plus Code</th>\n",
       "      <th>districtC</th>\n",
       "      <th>Tuesday</th>\n",
       "      <th>Wednesday</th>\n",
       "      <th>Thursday</th>\n",
       "      <th>Friday</th>\n",
       "      <th>Saturday</th>\n",
       "      <th>Sunday</th>\n",
       "      <th>Monday</th>\n",
       "    </tr>\n",
       "  </thead>\n",
       "  <tbody>\n",
       "    <tr>\n",
       "      <th>0</th>\n",
       "      <td>https://www.google.com.tw/maps/place...</td>\n",
       "      <td>黑曜麵屋</td>\n",
       "      <td>4.1</td>\n",
       "      <td>拉麵店</td>\n",
       "      <td>379.0</td>\n",
       "      <td>$</td>\n",
       "      <td>112台北市北投區尊賢街206巷2號</td>\n",
       "      <td>Plus Code: 4G85+47 北投區 台北市</td>\n",
       "      <td>1</td>\n",
       "      <td>1</td>\n",
       "      <td>0</td>\n",
       "      <td>1</td>\n",
       "      <td>星期二、11:00 到 21:00; 星期三、11:00 到 21:00...</td>\n",
       "      <td>https://www.facebook.com/Obsidianhouse/</td>\n",
       "      <td>0979 047 907</td>\n",
       "      <td>NaN</td>\n",
       "      <td>2022-11-22</td>\n",
       "      <td>4G85+47</td>\n",
       "      <td>北投區</td>\n",
       "      <td>11:00 到 21:00</td>\n",
       "      <td>11:00 到 21:00</td>\n",
       "      <td>11:00 到 21:00</td>\n",
       "      <td>11:00 到 21:00</td>\n",
       "      <td>11:00 到 21:00</td>\n",
       "      <td>11:00 到 21:00</td>\n",
       "      <td>11:00 到 21:00</td>\n",
       "    </tr>\n",
       "    <tr>\n",
       "      <th>1</th>\n",
       "      <td>https://www.google.com.tw/maps/place...</td>\n",
       "      <td>樂山窄巷拉麵</td>\n",
       "      <td>4.1</td>\n",
       "      <td>拉麵店</td>\n",
       "      <td>1681.0</td>\n",
       "      <td>$$</td>\n",
       "      <td>112台北市北投區大同街27號</td>\n",
       "      <td>Plus Code: 4FMX+5J 北投區 台北市</td>\n",
       "      <td>1</td>\n",
       "      <td>1</td>\n",
       "      <td>0</td>\n",
       "      <td>0</td>\n",
       "      <td>星期二、11:00 到 14:30、17:00 到 20:30; 星期三...</td>\n",
       "      <td>https://www.facebook.com/rakuzan428/</td>\n",
       "      <td>02 2892 6265</td>\n",
       "      <td>NaN</td>\n",
       "      <td>2022-11-22</td>\n",
       "      <td>4FMX+5J</td>\n",
       "      <td>北投區</td>\n",
       "      <td>11:00 到 14:30,17:00 到 20:30</td>\n",
       "      <td>11:00 到 14:30,17:00 到 20:30</td>\n",
       "      <td>11:00 到 14:30,17:00 到 20:30</td>\n",
       "      <td>11:00 到 14:30,17:00 到 20:30</td>\n",
       "      <td>11:00 到 14:15,17:00 到 20:30</td>\n",
       "      <td>11:00 到 14:15,17:00 到 20:30</td>\n",
       "      <td>11:00 到 14:30,17:00 到 20:30</td>\n",
       "    </tr>\n",
       "    <tr>\n",
       "      <th>2</th>\n",
       "      <td>https://www.google.com.tw/maps/place...</td>\n",
       "      <td>日本拉麵屋</td>\n",
       "      <td>4.0</td>\n",
       "      <td>拉麵店</td>\n",
       "      <td>310.0</td>\n",
       "      <td>$</td>\n",
       "      <td>112台北市北投區中和街303號</td>\n",
       "      <td>Plus Code: 4FRX+7X 北投區 台北市</td>\n",
       "      <td>1</td>\n",
       "      <td>1</td>\n",
       "      <td>0</td>\n",
       "      <td>0</td>\n",
       "      <td>星期二、11:30 到 14:00、17:00 到 21:00; 星期三...</td>\n",
       "      <td>http://keeat.pixnet.net/blog/post/44...</td>\n",
       "      <td>02 2893 4585</td>\n",
       "      <td>NaN</td>\n",
       "      <td>2022-11-22</td>\n",
       "      <td>4FRX+7X</td>\n",
       "      <td>北投區</td>\n",
       "      <td>11:30 到 14:00,17:00 到 20:30</td>\n",
       "      <td>11:30 到 14:00,17:00 到 20:30</td>\n",
       "      <td>11:30 到 14:00,17:00 到 20:30</td>\n",
       "      <td>11:30 到 14:00,17:00 到 20:30</td>\n",
       "      <td>11:30 到 14:00,17:00 到 20:30</td>\n",
       "      <td>11:30 到 14:00,17:00 到 20:30</td>\n",
       "      <td>休息</td>\n",
       "    </tr>\n",
       "    <tr>\n",
       "      <th>3</th>\n",
       "      <td>https://www.google.com.tw/maps/place...</td>\n",
       "      <td>荷麵亭Hasumentei 北投店</td>\n",
       "      <td>4.4</td>\n",
       "      <td>拉麵店</td>\n",
       "      <td>245.0</td>\n",
       "      <td>NaN</td>\n",
       "      <td>112台北市北投區育仁路45號</td>\n",
       "      <td>Plus Code: 4FMX+95 北投區 台北市</td>\n",
       "      <td>1</td>\n",
       "      <td>1</td>\n",
       "      <td>0</td>\n",
       "      <td>0</td>\n",
       "      <td>星期二、11:40 到 14:30、17:10 到 20:30; 星期三...</td>\n",
       "      <td>https://www.facebook.com/HASUMENTEI</td>\n",
       "      <td>02 2898 2565</td>\n",
       "      <td>NaN</td>\n",
       "      <td>2022-11-22</td>\n",
       "      <td>4FMX+95</td>\n",
       "      <td>北投區</td>\n",
       "      <td>11:40 到 14:30,17:00 到 20:30</td>\n",
       "      <td>11:40 到 14:30,17:00 到 20:30</td>\n",
       "      <td>休息</td>\n",
       "      <td>11:40 到 14:30,17:00 到 20:30</td>\n",
       "      <td>11:40 到 14:30,17:00 到 20:30</td>\n",
       "      <td>11:40 到 14:30,17:00 到 20:30</td>\n",
       "      <td>11:40 到 14:30,17:10 到 20:30</td>\n",
       "    </tr>\n",
       "    <tr>\n",
       "      <th>4</th>\n",
       "      <td>https://www.google.com.tw/maps/place...</td>\n",
       "      <td>らあめん花月嵐 北投石牌店</td>\n",
       "      <td>3.3</td>\n",
       "      <td>拉麵店</td>\n",
       "      <td>328.0</td>\n",
       "      <td>$$</td>\n",
       "      <td>112台北市北投區石牌路二段122號</td>\n",
       "      <td>Plus Code: 4G98+4W 北投區 台北市</td>\n",
       "      <td>1</td>\n",
       "      <td>0</td>\n",
       "      <td>1</td>\n",
       "      <td>1</td>\n",
       "      <td>星期二、11:00 到 22:00; 星期三、11:00 到 22:00...</td>\n",
       "      <td>https://www.kagetsu.com.tw/</td>\n",
       "      <td>02 2822 0228</td>\n",
       "      <td>NaN</td>\n",
       "      <td>2022-11-22</td>\n",
       "      <td>4G98+4W</td>\n",
       "      <td>北投區</td>\n",
       "      <td>11:00 到 22:00</td>\n",
       "      <td>11:00 到 22:00</td>\n",
       "      <td>11:00 到 22:00</td>\n",
       "      <td>11:00 到 22:00</td>\n",
       "      <td>11:00 到 22:00</td>\n",
       "      <td>11:00 到 22:00</td>\n",
       "      <td>11:00 到 22:00</td>\n",
       "    </tr>\n",
       "  </tbody>\n",
       "</table>\n",
       "</div>"
      ],
      "text/plain": [
       "                                google_url         place_name  total_rating  \\\n",
       "0  https://www.google.com.tw/maps/place...               黑曜麵屋           4.1   \n",
       "1  https://www.google.com.tw/maps/place...             樂山窄巷拉麵           4.1   \n",
       "2  https://www.google.com.tw/maps/place...              日本拉麵屋           4.0   \n",
       "3  https://www.google.com.tw/maps/place...  荷麵亭Hasumentei 北投店           4.4   \n",
       "4  https://www.google.com.tw/maps/place...      らあめん花月嵐 北投石牌店           3.3   \n",
       "\n",
       "  place_category  total_reviews cost              address  \\\n",
       "0            拉麵店          379.0    $   112台北市北投區尊賢街206巷2號   \n",
       "1            拉麵店         1681.0   $$      112台北市北投區大同街27號   \n",
       "2            拉麵店          310.0    $     112台北市北投區中和街303號   \n",
       "3            拉麵店          245.0  NaN      112台北市北投區育仁路45號   \n",
       "4            拉麵店          328.0   $$   112台北市北投區石牌路二段122號   \n",
       "\n",
       "                     district  eat_in  to_go_1  to_go_2  delivery  \\\n",
       "0  Plus Code: 4G85+47 北投區 台北市       1        1        0         1   \n",
       "1  Plus Code: 4FMX+5J 北投區 台北市       1        1        0         0   \n",
       "2  Plus Code: 4FRX+7X 北投區 台北市       1        1        0         0   \n",
       "3  Plus Code: 4FMX+95 北投區 台北市       1        1        0         0   \n",
       "4  Plus Code: 4G98+4W 北投區 台北市       1        0        1         1   \n",
       "\n",
       "                             opening_hours  \\\n",
       "0  星期二、11:00 到 21:00; 星期三、11:00 到 21:00...   \n",
       "1  星期二、11:00 到 14:30、17:00 到 20:30; 星期三...   \n",
       "2  星期二、11:30 到 14:00、17:00 到 21:00; 星期三...   \n",
       "3  星期二、11:40 到 14:30、17:10 到 20:30; 星期三...   \n",
       "4  星期二、11:00 到 22:00; 星期三、11:00 到 22:00...   \n",
       "\n",
       "                                   website          phone  close  \\\n",
       "0  https://www.facebook.com/Obsidianhouse/   0979 047 907    NaN   \n",
       "1     https://www.facebook.com/rakuzan428/   02 2892 6265    NaN   \n",
       "2  http://keeat.pixnet.net/blog/post/44...   02 2893 4585    NaN   \n",
       "3      https://www.facebook.com/HASUMENTEI   02 2898 2565    NaN   \n",
       "4              https://www.kagetsu.com.tw/   02 2822 0228    NaN   \n",
       "\n",
       "  place_acquisition_date Plus Code districtC                      Tuesday  \\\n",
       "0             2022-11-22   4G85+47       北投區                11:00 到 21:00   \n",
       "1             2022-11-22   4FMX+5J       北投區  11:00 到 14:30,17:00 到 20:30   \n",
       "2             2022-11-22   4FRX+7X       北投區  11:30 到 14:00,17:00 到 20:30   \n",
       "3             2022-11-22   4FMX+95       北投區  11:40 到 14:30,17:00 到 20:30   \n",
       "4             2022-11-22   4G98+4W       北投區                11:00 到 22:00   \n",
       "\n",
       "                     Wednesday                     Thursday  \\\n",
       "0                11:00 到 21:00                11:00 到 21:00   \n",
       "1  11:00 到 14:30,17:00 到 20:30  11:00 到 14:30,17:00 到 20:30   \n",
       "2  11:30 到 14:00,17:00 到 20:30  11:30 到 14:00,17:00 到 20:30   \n",
       "3  11:40 到 14:30,17:00 到 20:30                           休息   \n",
       "4                11:00 到 22:00                11:00 到 22:00   \n",
       "\n",
       "                        Friday                     Saturday  \\\n",
       "0                11:00 到 21:00                11:00 到 21:00   \n",
       "1  11:00 到 14:30,17:00 到 20:30  11:00 到 14:15,17:00 到 20:30   \n",
       "2  11:30 到 14:00,17:00 到 20:30  11:30 到 14:00,17:00 到 20:30   \n",
       "3  11:40 到 14:30,17:00 到 20:30  11:40 到 14:30,17:00 到 20:30   \n",
       "4                11:00 到 22:00                11:00 到 22:00   \n",
       "\n",
       "                        Sunday                       Monday  \n",
       "0                11:00 到 21:00                11:00 到 21:00  \n",
       "1  11:00 到 14:15,17:00 到 20:30  11:00 到 14:30,17:00 到 20:30  \n",
       "2  11:30 到 14:00,17:00 到 20:30                           休息  \n",
       "3  11:40 到 14:30,17:00 到 20:30  11:40 到 14:30,17:10 到 20:30  \n",
       "4                11:00 到 22:00                11:00 到 22:00  "
      ]
     },
     "execution_count": 56,
     "metadata": {},
     "output_type": "execute_result"
    }
   ],
   "source": [
    "pd.set_option('display.max_colwidth',40)\n",
    "pd.set_option('display.max_columns',999)\n",
    "dfFilter.head(5)"
   ]
  },
  {
   "cell_type": "markdown",
   "id": "967c88c3",
   "metadata": {},
   "source": [
    "## 清整完存成csv"
   ]
  },
  {
   "cell_type": "code",
   "execution_count": 67,
   "id": "dce360bc",
   "metadata": {},
   "outputs": [],
   "source": [
    "dfFilter.to_csv('初步分析後的df/place_info_dataClean.csv')"
   ]
  },
  {
   "cell_type": "markdown",
   "id": "b11625f8",
   "metadata": {},
   "source": [
    "## columns 12 opening_hours\t 測試用"
   ]
  },
  {
   "cell_type": "code",
   "execution_count": null,
   "id": "c56031bd",
   "metadata": {
    "scrolled": true
   },
   "outputs": [],
   "source": [
    "list(df12_2)"
   ]
  },
  {
   "cell_type": "code",
   "execution_count": null,
   "id": "1ce6f161",
   "metadata": {},
   "outputs": [],
   "source": [
    "# 一一檢查 dfFilter[\"opening_hours\"] 哪rows格式錯誤\n",
    "tuesdayList = []\n",
    "for i in range(5993):\n",
    "    tuesdayList.append(list(df12_2)[i][0].split('、')[1])"
   ]
  },
  {
   "cell_type": "code",
   "execution_count": null,
   "id": "d8b2208a",
   "metadata": {},
   "outputs": [],
   "source": [
    "# 一一檢查 dfFilter[\"opening_hours\"] 哪rows格式錯誤\n",
    "for i in range(5994,14255):\n",
    "    tuesdayList.append(list(df12_2)[i][0].split('、')[1])"
   ]
  },
  {
   "cell_type": "code",
   "execution_count": null,
   "id": "01a7cf8b",
   "metadata": {},
   "outputs": [],
   "source": [
    "# 一一檢查 dfFilter[\"opening_hours\"] 哪rows格式錯誤\n",
    "for i in range(14256,15686):\n",
    "    tuesdayList.append(list(df12_2)[i][0].split('、')[1])"
   ]
  },
  {
   "cell_type": "code",
   "execution_count": null,
   "id": "c44c331b",
   "metadata": {},
   "outputs": [],
   "source": [
    "# 一一檢查 dfFilter[\"opening_hours\"] 哪rows格式錯誤\n",
    "for i in range(15687,22883):\n",
    "    tuesdayList.append(list(df12_2)[i][0].split('、')[1])"
   ]
  },
  {
   "cell_type": "code",
   "execution_count": null,
   "id": "3f0d8ef8",
   "metadata": {},
   "outputs": [],
   "source": [
    "# 為何不能用',' 分割 ? \n",
    "df12_3 = df12_2.str.split(\",\")"
   ]
  },
  {
   "cell_type": "code",
   "execution_count": null,
   "id": "bb533963",
   "metadata": {},
   "outputs": [],
   "source": [
    "dfFilter.columns"
   ]
  },
  {
   "cell_type": "code",
   "execution_count": null,
   "id": "44f1884d",
   "metadata": {},
   "outputs": [],
   "source": []
  }
 ],
 "metadata": {
  "kernelspec": {
   "display_name": "Python 3 (ipykernel)",
   "language": "python",
   "name": "python3"
  },
  "language_info": {
   "codemirror_mode": {
    "name": "ipython",
    "version": 3
   },
   "file_extension": ".py",
   "mimetype": "text/x-python",
   "name": "python",
   "nbconvert_exporter": "python",
   "pygments_lexer": "ipython3",
   "version": "3.9.13"
  }
 },
 "nbformat": 4,
 "nbformat_minor": 5
}
