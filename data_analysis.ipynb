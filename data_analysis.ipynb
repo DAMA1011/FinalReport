{
 "cells": [
  {
   "cell_type": "code",
   "execution_count": 4,
   "id": "58fcb8ed",
   "metadata": {},
   "outputs": [],
   "source": [
    "import pandas as pd"
   ]
  },
  {
   "cell_type": "code",
   "execution_count": 44,
   "id": "cc59fc2f",
   "metadata": {
    "collapsed": true
   },
   "outputs": [
    {
     "data": {
      "text/html": [
       "<div>\n",
       "<style scoped>\n",
       "    .dataframe tbody tr th:only-of-type {\n",
       "        vertical-align: middle;\n",
       "    }\n",
       "\n",
       "    .dataframe tbody tr th {\n",
       "        vertical-align: top;\n",
       "    }\n",
       "\n",
       "    .dataframe thead th {\n",
       "        text-align: right;\n",
       "    }\n",
       "</style>\n",
       "<table border=\"1\" class=\"dataframe\">\n",
       "  <thead>\n",
       "    <tr style=\"text-align: right;\">\n",
       "      <th></th>\n",
       "      <th>google_url</th>\n",
       "      <th>place_name</th>\n",
       "      <th>total_rating</th>\n",
       "      <th>place_category</th>\n",
       "      <th>total_reviews</th>\n",
       "      <th>cost</th>\n",
       "      <th>address</th>\n",
       "      <th>district</th>\n",
       "      <th>eat_in</th>\n",
       "      <th>to_go_1</th>\n",
       "      <th>to_go_2</th>\n",
       "      <th>delivery</th>\n",
       "      <th>opening_hours</th>\n",
       "      <th>website</th>\n",
       "      <th>phone</th>\n",
       "      <th>close</th>\n",
       "      <th>place_acquisition_date</th>\n",
       "    </tr>\n",
       "  </thead>\n",
       "  <tbody>\n",
       "    <tr>\n",
       "      <th>0</th>\n",
       "      <td>https://www.google.com.tw/maps/place/%E9%BB%91...</td>\n",
       "      <td>黑曜麵屋</td>\n",
       "      <td>4.1</td>\n",
       "      <td>拉麵店</td>\n",
       "      <td>379.0</td>\n",
       "      <td>$</td>\n",
       "      <td>112台北市北投區尊賢街206巷2號</td>\n",
       "      <td>Plus Code: 4G85+47 北投區 台北市</td>\n",
       "      <td>1</td>\n",
       "      <td>1</td>\n",
       "      <td>0</td>\n",
       "      <td>1</td>\n",
       "      <td>星期二、11:00 到 21:00; 星期三、11:00 到 21:00; 星期四、11:0...</td>\n",
       "      <td>https://www.facebook.com/Obsidianhouse/</td>\n",
       "      <td>0979 047 907</td>\n",
       "      <td>NaN</td>\n",
       "      <td>2022-11-22</td>\n",
       "    </tr>\n",
       "    <tr>\n",
       "      <th>0</th>\n",
       "      <td>https://www.google.com.tw/maps/place/%E6%A8%82...</td>\n",
       "      <td>樂山窄巷拉麵</td>\n",
       "      <td>4.1</td>\n",
       "      <td>拉麵店</td>\n",
       "      <td>1681.0</td>\n",
       "      <td>$$</td>\n",
       "      <td>112台北市北投區大同街27號</td>\n",
       "      <td>Plus Code: 4FMX+5J 北投區 台北市</td>\n",
       "      <td>1</td>\n",
       "      <td>1</td>\n",
       "      <td>0</td>\n",
       "      <td>0</td>\n",
       "      <td>星期二、11:00 到 14:30、17:00 到 20:30; 星期三、11:00 到 1...</td>\n",
       "      <td>https://www.facebook.com/rakuzan428/</td>\n",
       "      <td>02 2892 6265</td>\n",
       "      <td>NaN</td>\n",
       "      <td>2022-11-22</td>\n",
       "    </tr>\n",
       "    <tr>\n",
       "      <th>0</th>\n",
       "      <td>https://www.google.com.tw/maps/place/%E6%97%A5...</td>\n",
       "      <td>日本拉麵屋</td>\n",
       "      <td>4.0</td>\n",
       "      <td>拉麵店</td>\n",
       "      <td>310.0</td>\n",
       "      <td>$</td>\n",
       "      <td>112台北市北投區中和街303號</td>\n",
       "      <td>Plus Code: 4FRX+7X 北投區 台北市</td>\n",
       "      <td>1</td>\n",
       "      <td>1</td>\n",
       "      <td>0</td>\n",
       "      <td>0</td>\n",
       "      <td>星期二、11:30 到 14:00、17:00 到 21:00; 星期三、11:30 到 1...</td>\n",
       "      <td>http://keeat.pixnet.net/blog/post/443310128</td>\n",
       "      <td>02 2893 4585</td>\n",
       "      <td>NaN</td>\n",
       "      <td>2022-11-22</td>\n",
       "    </tr>\n",
       "    <tr>\n",
       "      <th>0</th>\n",
       "      <td>https://www.google.com.tw/maps/place/%E8%8D%B7...</td>\n",
       "      <td>荷麵亭Hasumentei 北投店</td>\n",
       "      <td>4.4</td>\n",
       "      <td>拉麵店</td>\n",
       "      <td>245.0</td>\n",
       "      <td>NaN</td>\n",
       "      <td>112台北市北投區育仁路45號</td>\n",
       "      <td>Plus Code: 4FMX+95 北投區 台北市</td>\n",
       "      <td>1</td>\n",
       "      <td>1</td>\n",
       "      <td>0</td>\n",
       "      <td>0</td>\n",
       "      <td>星期二、11:40 到 14:30、17:10 到 20:30; 星期三、11:40 到 1...</td>\n",
       "      <td>https://www.facebook.com/HASUMENTEI</td>\n",
       "      <td>02 2898 2565</td>\n",
       "      <td>NaN</td>\n",
       "      <td>2022-11-22</td>\n",
       "    </tr>\n",
       "    <tr>\n",
       "      <th>0</th>\n",
       "      <td>https://www.google.com.tw/maps/place/%E3%82%89...</td>\n",
       "      <td>らあめん花月嵐 北投石牌店</td>\n",
       "      <td>3.3</td>\n",
       "      <td>拉麵店</td>\n",
       "      <td>328.0</td>\n",
       "      <td>$$</td>\n",
       "      <td>112台北市北投區石牌路二段122號</td>\n",
       "      <td>Plus Code: 4G98+4W 北投區 台北市</td>\n",
       "      <td>1</td>\n",
       "      <td>0</td>\n",
       "      <td>1</td>\n",
       "      <td>1</td>\n",
       "      <td>星期二、11:00 到 22:00; 星期三、11:00 到 22:00; 星期四、11:0...</td>\n",
       "      <td>https://www.kagetsu.com.tw/</td>\n",
       "      <td>02 2822 0228</td>\n",
       "      <td>NaN</td>\n",
       "      <td>2022-11-22</td>\n",
       "    </tr>\n",
       "  </tbody>\n",
       "</table>\n",
       "</div>"
      ],
      "text/plain": [
       "                                          google_url         place_name  \\\n",
       "0  https://www.google.com.tw/maps/place/%E9%BB%91...               黑曜麵屋   \n",
       "0  https://www.google.com.tw/maps/place/%E6%A8%82...             樂山窄巷拉麵   \n",
       "0  https://www.google.com.tw/maps/place/%E6%97%A5...              日本拉麵屋   \n",
       "0  https://www.google.com.tw/maps/place/%E8%8D%B7...  荷麵亭Hasumentei 北投店   \n",
       "0  https://www.google.com.tw/maps/place/%E3%82%89...      らあめん花月嵐 北投石牌店   \n",
       "\n",
       "  total_rating place_category  total_reviews cost              address  \\\n",
       "0          4.1            拉麵店          379.0    $   112台北市北投區尊賢街206巷2號   \n",
       "0          4.1            拉麵店         1681.0   $$      112台北市北投區大同街27號   \n",
       "0          4.0            拉麵店          310.0    $     112台北市北投區中和街303號   \n",
       "0          4.4            拉麵店          245.0  NaN      112台北市北投區育仁路45號   \n",
       "0          3.3            拉麵店          328.0   $$   112台北市北投區石牌路二段122號   \n",
       "\n",
       "                     district  eat_in  to_go_1  to_go_2  delivery  \\\n",
       "0  Plus Code: 4G85+47 北投區 台北市       1        1        0         1   \n",
       "0  Plus Code: 4FMX+5J 北投區 台北市       1        1        0         0   \n",
       "0  Plus Code: 4FRX+7X 北投區 台北市       1        1        0         0   \n",
       "0  Plus Code: 4FMX+95 北投區 台北市       1        1        0         0   \n",
       "0  Plus Code: 4G98+4W 北投區 台北市       1        0        1         1   \n",
       "\n",
       "                                       opening_hours  \\\n",
       "0  星期二、11:00 到 21:00; 星期三、11:00 到 21:00; 星期四、11:0...   \n",
       "0  星期二、11:00 到 14:30、17:00 到 20:30; 星期三、11:00 到 1...   \n",
       "0  星期二、11:30 到 14:00、17:00 到 21:00; 星期三、11:30 到 1...   \n",
       "0  星期二、11:40 到 14:30、17:10 到 20:30; 星期三、11:40 到 1...   \n",
       "0  星期二、11:00 到 22:00; 星期三、11:00 到 22:00; 星期四、11:0...   \n",
       "\n",
       "                                       website          phone close  \\\n",
       "0      https://www.facebook.com/Obsidianhouse/   0979 047 907   NaN   \n",
       "0         https://www.facebook.com/rakuzan428/   02 2892 6265   NaN   \n",
       "0  http://keeat.pixnet.net/blog/post/443310128   02 2893 4585   NaN   \n",
       "0          https://www.facebook.com/HASUMENTEI   02 2898 2565   NaN   \n",
       "0                  https://www.kagetsu.com.tw/   02 2822 0228   NaN   \n",
       "\n",
       "  place_acquisition_date  \n",
       "0             2022-11-22  \n",
       "0             2022-11-22  \n",
       "0             2022-11-22  \n",
       "0             2022-11-22  \n",
       "0             2022-11-22  "
      ]
     },
     "execution_count": 44,
     "metadata": {},
     "output_type": "execute_result"
    }
   ],
   "source": [
    "header=['google_url', 'place_name', 'total_rating', 'place_category', 'total_reviews', 'cost', 'address', 'district', 'eat_in', 'to_go_1', 'to_go_2', 'delivery', 'opening_hours', 'website', 'phone', 'close', 'place_acquisition_date']\n",
    "df_01 = pd.read_csv('C:/Users/student/FinalReport/data/info/place_info_1.csv', header=None, names=header)\n",
    "df_02 = pd.read_csv('C:/Users/student/FinalReport/data/info/place_info_2.csv', header=None, names=header)\n",
    "df_03 = pd.read_csv('C:/Users/student/FinalReport/data/info/place_info_3.csv', header=None, names=header)\n",
    "df_04 = pd.read_csv('C:/Users/student/FinalReport/data/info/place_info_4.csv', header=None, names=header)\n",
    "df_05 = pd.read_csv('C:/Users/student/FinalReport/data/info/place_info_5.csv', header=None, names=header)\n",
    "df_06 = pd.read_csv('C:/Users/student/FinalReport/data/info/place_info_6.csv', header=None, names=header)\n",
    "df_total = pd.concat([df_01, df_02, df_03, df_04, df_05, df_06])\n",
    "df_total.head()"
   ]
  },
  {
   "cell_type": "markdown",
   "id": "a5216f04",
   "metadata": {},
   "source": [
    "### 原始餐廳地點資料筆數"
   ]
  },
  {
   "cell_type": "code",
   "execution_count": 25,
   "id": "f3e48645",
   "metadata": {},
   "outputs": [
    {
     "data": {
      "text/plain": [
       "58588"
      ]
     },
     "execution_count": 25,
     "metadata": {},
     "output_type": "execute_result"
    }
   ],
   "source": [
    "df_total.shape[0]"
   ]
  },
  {
   "cell_type": "markdown",
   "id": "1db91170",
   "metadata": {},
   "source": [
    "### 查看欄位null數量"
   ]
  },
  {
   "cell_type": "code",
   "execution_count": 32,
   "id": "1716dcb4",
   "metadata": {},
   "outputs": [
    {
     "data": {
      "text/plain": [
       "google_url                    0\n",
       "place_name                   26\n",
       "total_rating               2986\n",
       "place_category             2708\n",
       "total_reviews             11960\n",
       "cost                      39331\n",
       "address                     276\n",
       "district                    281\n",
       "eat_in                        0\n",
       "to_go_1                       0\n",
       "to_go_2                       0\n",
       "delivery                      0\n",
       "opening_hours              9217\n",
       "website                   23143\n",
       "phone                      7794\n",
       "close                     56038\n",
       "place_acquisition_date        0\n",
       "dtype: int64"
      ]
     },
     "execution_count": 32,
     "metadata": {},
     "output_type": "execute_result"
    }
   ],
   "source": [
    "df_total.isnull().sum()"
   ]
  },
  {
   "cell_type": "markdown",
   "id": "8f7ecf8a",
   "metadata": {},
   "source": [
    "### 刪除重複url"
   ]
  },
  {
   "cell_type": "code",
   "execution_count": 37,
   "id": "02634671",
   "metadata": {},
   "outputs": [
    {
     "data": {
      "text/plain": [
       "57622"
      ]
     },
     "execution_count": 37,
     "metadata": {},
     "output_type": "execute_result"
    }
   ],
   "source": [
    "df_drop_url = df_total.drop_duplicates(subset='google_url', keep='last')\n",
    "df_drop_url.shape[0]"
   ]
  },
  {
   "cell_type": "markdown",
   "id": "9587376a",
   "metadata": {},
   "source": [
    "### 刪除永久關閉、暫時停業"
   ]
  },
  {
   "cell_type": "code",
   "execution_count": 46,
   "id": "33b6ebae",
   "metadata": {
    "scrolled": true
   },
   "outputs": [
    {
     "data": {
      "text/plain": [
       "55111"
      ]
     },
     "execution_count": 46,
     "metadata": {},
     "output_type": "execute_result"
    }
   ],
   "source": [
    "df_drop_close = df_drop_url[df_drop_url['close'].isnull()]\n",
    "df_drop_close.shape[0]"
   ]
  },
  {
   "cell_type": "markdown",
   "id": "40ab9c8e",
   "metadata": {},
   "source": [
    "### 刪除沒有地點名稱"
   ]
  },
  {
   "cell_type": "code",
   "execution_count": 48,
   "id": "ecda8fa5",
   "metadata": {},
   "outputs": [
    {
     "data": {
      "text/plain": [
       "55085"
      ]
     },
     "execution_count": 48,
     "metadata": {},
     "output_type": "execute_result"
    }
   ],
   "source": [
    "df_drop_name = df_drop_close.dropna(subset='place_name')\n",
    "df_drop_name.shape[0]"
   ]
  },
  {
   "cell_type": "markdown",
   "id": "afaec8aa",
   "metadata": {},
   "source": [
    "### 刪除沒有評論"
   ]
  },
  {
   "cell_type": "code",
   "execution_count": 49,
   "id": "2c0711df",
   "metadata": {},
   "outputs": [
    {
     "data": {
      "text/plain": [
       "44378"
      ]
     },
     "execution_count": 49,
     "metadata": {},
     "output_type": "execute_result"
    }
   ],
   "source": [
    "df_drop_reviews = df_drop_name.dropna(subset='total_reviews')\n",
    "df_drop_reviews.shape[0]"
   ]
  },
  {
   "cell_type": "markdown",
   "id": "8143c77f",
   "metadata": {},
   "source": [
    "### 刪除地址空值&非台北"
   ]
  },
  {
   "cell_type": "code",
   "execution_count": 53,
   "id": "468a29e6",
   "metadata": {},
   "outputs": [
    {
     "data": {
      "text/plain": [
       "32902"
      ]
     },
     "execution_count": 53,
     "metadata": {},
     "output_type": "execute_result"
    }
   ],
   "source": [
    "df_drop_address = df_drop_reviews.dropna(subset='address')\n",
    "df_taipei = df_drop_address[df_drop_address['address'].str.contains('台北市')]\n",
    "df_taipei.shape[0]"
   ]
  },
  {
   "cell_type": "markdown",
   "id": "a1f1a4cb",
   "metadata": {},
   "source": [
    "### 查看整理後空值"
   ]
  },
  {
   "cell_type": "code",
   "execution_count": 54,
   "id": "ac887198",
   "metadata": {
    "scrolled": true
   },
   "outputs": [
    {
     "data": {
      "text/plain": [
       "google_url                    0\n",
       "place_name                    0\n",
       "total_rating                  0\n",
       "place_category              602\n",
       "total_reviews                 0\n",
       "cost                      20830\n",
       "address                       0\n",
       "district                      2\n",
       "eat_in                        0\n",
       "to_go_1                       0\n",
       "to_go_2                       0\n",
       "delivery                      0\n",
       "opening_hours              2780\n",
       "website                   10218\n",
       "phone                      2578\n",
       "close                     32902\n",
       "place_acquisition_date        0\n",
       "dtype: int64"
      ]
     },
     "execution_count": 54,
     "metadata": {},
     "output_type": "execute_result"
    }
   ],
   "source": [
    "df_taipei.isnull().sum()"
   ]
  },
  {
   "cell_type": "markdown",
   "id": "27fc4ab7",
   "metadata": {},
   "source": [
    "### 查看place_category空值有包含誰"
   ]
  },
  {
   "cell_type": "code",
   "execution_count": 361,
   "id": "2639fcd4",
   "metadata": {
    "collapsed": true
   },
   "outputs": [
    {
     "data": {
      "text/html": [
       "<div>\n",
       "<style scoped>\n",
       "    .dataframe tbody tr th:only-of-type {\n",
       "        vertical-align: middle;\n",
       "    }\n",
       "\n",
       "    .dataframe tbody tr th {\n",
       "        vertical-align: top;\n",
       "    }\n",
       "\n",
       "    .dataframe thead th {\n",
       "        text-align: right;\n",
       "    }\n",
       "</style>\n",
       "<table border=\"1\" class=\"dataframe\">\n",
       "  <thead>\n",
       "    <tr style=\"text-align: right;\">\n",
       "      <th></th>\n",
       "      <th>google_url</th>\n",
       "      <th>place_name</th>\n",
       "      <th>total_rating</th>\n",
       "      <th>place_category</th>\n",
       "      <th>total_reviews</th>\n",
       "      <th>cost</th>\n",
       "      <th>address</th>\n",
       "      <th>district</th>\n",
       "      <th>eat_in</th>\n",
       "      <th>to_go_1</th>\n",
       "      <th>to_go_2</th>\n",
       "      <th>delivery</th>\n",
       "      <th>opening_hours</th>\n",
       "      <th>website</th>\n",
       "      <th>phone</th>\n",
       "      <th>close</th>\n",
       "      <th>place_acquisition_date</th>\n",
       "    </tr>\n",
       "  </thead>\n",
       "  <tbody>\n",
       "    <tr>\n",
       "      <th>0</th>\n",
       "      <td>https://www.google.com.tw/maps/place/%E5%A4%A7...</td>\n",
       "      <td>大地酒店</td>\n",
       "      <td>4.4</td>\n",
       "      <td>NaN</td>\n",
       "      <td>3142.0</td>\n",
       "      <td>NaN</td>\n",
       "      <td>112台北市北投區奇岩路1號</td>\n",
       "      <td>Plus Code: 4GP4+2Q 北投區 台北市</td>\n",
       "      <td>0</td>\n",
       "      <td>0</td>\n",
       "      <td>0</td>\n",
       "      <td>0</td>\n",
       "      <td>NaN</td>\n",
       "      <td>https://www.thegaiahotel.com/</td>\n",
       "      <td>02 5551 8888</td>\n",
       "      <td>NaN</td>\n",
       "      <td>2022-11-22</td>\n",
       "    </tr>\n",
       "    <tr>\n",
       "      <th>0</th>\n",
       "      <td>https://www.google.com.tw/maps/place/%E6%97%A5...</td>\n",
       "      <td>日勝生加賀屋國際溫泉飯店</td>\n",
       "      <td>4.3</td>\n",
       "      <td>NaN</td>\n",
       "      <td>3343.0</td>\n",
       "      <td>NaN</td>\n",
       "      <td>112台北市北投區光明路236號</td>\n",
       "      <td>Plus Code: 4GP4+CR 北投區 台北市</td>\n",
       "      <td>0</td>\n",
       "      <td>0</td>\n",
       "      <td>0</td>\n",
       "      <td>0</td>\n",
       "      <td>NaN</td>\n",
       "      <td>http://www.kagaya.com.tw/</td>\n",
       "      <td>02 2891 1111</td>\n",
       "      <td>NaN</td>\n",
       "      <td>2022-11-22</td>\n",
       "    </tr>\n",
       "    <tr>\n",
       "      <th>0</th>\n",
       "      <td>https://www.google.com.tw/maps/place/%E5%8C%97...</td>\n",
       "      <td>北投老爺酒店</td>\n",
       "      <td>4.3</td>\n",
       "      <td>NaN</td>\n",
       "      <td>2446.0</td>\n",
       "      <td>$$$</td>\n",
       "      <td>112台北市北投區中和街二號</td>\n",
       "      <td>Plus Code: 4GQ3+3G 北投區 台北市</td>\n",
       "      <td>0</td>\n",
       "      <td>0</td>\n",
       "      <td>0</td>\n",
       "      <td>0</td>\n",
       "      <td>NaN</td>\n",
       "      <td>https://www.hotelroyal.com.tw/zh-tw/beitou/</td>\n",
       "      <td>02 2896 9777</td>\n",
       "      <td>NaN</td>\n",
       "      <td>2022-11-22</td>\n",
       "    </tr>\n",
       "    <tr>\n",
       "      <th>0</th>\n",
       "      <td>https://www.google.com.tw/maps/place/%E5%A4%A7...</td>\n",
       "      <td>大地酒店</td>\n",
       "      <td>4.4</td>\n",
       "      <td>NaN</td>\n",
       "      <td>3142.0</td>\n",
       "      <td>NaN</td>\n",
       "      <td>112台北市北投區奇岩路1號</td>\n",
       "      <td>Plus Code: 4GP4+2Q 北投區 台北市</td>\n",
       "      <td>0</td>\n",
       "      <td>0</td>\n",
       "      <td>0</td>\n",
       "      <td>0</td>\n",
       "      <td>NaN</td>\n",
       "      <td>https://www.thegaiahotel.com/</td>\n",
       "      <td>02 5551 8888</td>\n",
       "      <td>NaN</td>\n",
       "      <td>2022-11-22</td>\n",
       "    </tr>\n",
       "    <tr>\n",
       "      <th>0</th>\n",
       "      <td>https://www.google.com.tw/maps/place/%E5%8C%97...</td>\n",
       "      <td>北投水美溫泉會館</td>\n",
       "      <td>4.0</td>\n",
       "      <td>NaN</td>\n",
       "      <td>2246.0</td>\n",
       "      <td>NaN</td>\n",
       "      <td>112台北市北投區光明路224號</td>\n",
       "      <td>Plus Code: 4GP4+F2 北投區 台北市</td>\n",
       "      <td>0</td>\n",
       "      <td>0</td>\n",
       "      <td>0</td>\n",
       "      <td>0</td>\n",
       "      <td>NaN</td>\n",
       "      <td>http://www.sweetme.com.tw/</td>\n",
       "      <td>02 2898 3838</td>\n",
       "      <td>NaN</td>\n",
       "      <td>2022-11-22</td>\n",
       "    </tr>\n",
       "    <tr>\n",
       "      <th>...</th>\n",
       "      <td>...</td>\n",
       "      <td>...</td>\n",
       "      <td>...</td>\n",
       "      <td>...</td>\n",
       "      <td>...</td>\n",
       "      <td>...</td>\n",
       "      <td>...</td>\n",
       "      <td>...</td>\n",
       "      <td>...</td>\n",
       "      <td>...</td>\n",
       "      <td>...</td>\n",
       "      <td>...</td>\n",
       "      <td>...</td>\n",
       "      <td>...</td>\n",
       "      <td>...</td>\n",
       "      <td>...</td>\n",
       "      <td>...</td>\n",
       "    </tr>\n",
       "    <tr>\n",
       "      <th>0</th>\n",
       "      <td>https://www.google.com.tw/maps/place/%E5%BF%83...</td>\n",
       "      <td>心滿憶足 養身館（無分店）</td>\n",
       "      <td>4.1</td>\n",
       "      <td>NaN</td>\n",
       "      <td>105.0</td>\n",
       "      <td>NaN</td>\n",
       "      <td>110台北市信義區松山路407號</td>\n",
       "      <td>Plus Code: 2HRH+H6 信義區 台北市</td>\n",
       "      <td>0</td>\n",
       "      <td>0</td>\n",
       "      <td>0</td>\n",
       "      <td>0</td>\n",
       "      <td>星期二、10:00 到 00:00; 星期三、10:00 到 00:00; 星期四、10:0...</td>\n",
       "      <td>NaN</td>\n",
       "      <td>02 8787 1066</td>\n",
       "      <td>NaN</td>\n",
       "      <td>2022-11-22</td>\n",
       "    </tr>\n",
       "    <tr>\n",
       "      <th>0</th>\n",
       "      <td>https://www.google.com.tw/maps/place/%E5%AF%92...</td>\n",
       "      <td>寒舍艾麗酒店</td>\n",
       "      <td>4.1</td>\n",
       "      <td>NaN</td>\n",
       "      <td>1750.0</td>\n",
       "      <td>NaN</td>\n",
       "      <td>110台北市信義區松高路18號</td>\n",
       "      <td>Plus Code: 2HQ8+FW 信義區 台北市</td>\n",
       "      <td>0</td>\n",
       "      <td>0</td>\n",
       "      <td>0</td>\n",
       "      <td>0</td>\n",
       "      <td>NaN</td>\n",
       "      <td>http://www.humblehousehotels.com/</td>\n",
       "      <td>02 6631 8000</td>\n",
       "      <td>NaN</td>\n",
       "      <td>2022-11-22</td>\n",
       "    </tr>\n",
       "    <tr>\n",
       "      <th>0</th>\n",
       "      <td>https://www.google.com.tw/maps/place/%E8%AA%A0...</td>\n",
       "      <td>誠品行旅</td>\n",
       "      <td>4.5</td>\n",
       "      <td>NaN</td>\n",
       "      <td>1477.0</td>\n",
       "      <td>$$$</td>\n",
       "      <td>110台北市信義區菸廠路98號</td>\n",
       "      <td>Plus Code: 2HV6+RR 信義區 台北市</td>\n",
       "      <td>0</td>\n",
       "      <td>0</td>\n",
       "      <td>0</td>\n",
       "      <td>0</td>\n",
       "      <td>NaN</td>\n",
       "      <td>http://www.eslitehotel.com/</td>\n",
       "      <td>02 6626 2888</td>\n",
       "      <td>NaN</td>\n",
       "      <td>2022-11-22</td>\n",
       "    </tr>\n",
       "    <tr>\n",
       "      <th>0</th>\n",
       "      <td>https://www.google.com.tw/maps/place/%E8%AA%A0...</td>\n",
       "      <td>誠品行旅</td>\n",
       "      <td>4.5</td>\n",
       "      <td>NaN</td>\n",
       "      <td>1477.0</td>\n",
       "      <td>$$$</td>\n",
       "      <td>110台北市信義區菸廠路98號</td>\n",
       "      <td>Plus Code: 2HV6+RR 信義區 台北市</td>\n",
       "      <td>0</td>\n",
       "      <td>0</td>\n",
       "      <td>0</td>\n",
       "      <td>0</td>\n",
       "      <td>NaN</td>\n",
       "      <td>http://www.eslitehotel.com/</td>\n",
       "      <td>02 6626 2888</td>\n",
       "      <td>NaN</td>\n",
       "      <td>2022-11-22</td>\n",
       "    </tr>\n",
       "    <tr>\n",
       "      <th>0</th>\n",
       "      <td>https://www.google.com.tw/maps/place/%E8%AC%99...</td>\n",
       "      <td>謙匯普樂室行旅 PLACE X HOTEL</td>\n",
       "      <td>4.5</td>\n",
       "      <td>NaN</td>\n",
       "      <td>1206.0</td>\n",
       "      <td>NaN</td>\n",
       "      <td>110台北市信義區信義路五段109號B1</td>\n",
       "      <td>Plus Code: 2HMF+86 信義區 台北市</td>\n",
       "      <td>0</td>\n",
       "      <td>0</td>\n",
       "      <td>0</td>\n",
       "      <td>0</td>\n",
       "      <td>NaN</td>\n",
       "      <td>https://placex109.com/</td>\n",
       "      <td>02 8786 4188</td>\n",
       "      <td>NaN</td>\n",
       "      <td>2022-11-22</td>\n",
       "    </tr>\n",
       "  </tbody>\n",
       "</table>\n",
       "<p>602 rows × 17 columns</p>\n",
       "</div>"
      ],
      "text/plain": [
       "                                           google_url             place_name  \\\n",
       "0   https://www.google.com.tw/maps/place/%E5%A4%A7...                   大地酒店   \n",
       "0   https://www.google.com.tw/maps/place/%E6%97%A5...           日勝生加賀屋國際溫泉飯店   \n",
       "0   https://www.google.com.tw/maps/place/%E5%8C%97...                 北投老爺酒店   \n",
       "0   https://www.google.com.tw/maps/place/%E5%A4%A7...                   大地酒店   \n",
       "0   https://www.google.com.tw/maps/place/%E5%8C%97...               北投水美溫泉會館   \n",
       "..                                                ...                    ...   \n",
       "0   https://www.google.com.tw/maps/place/%E5%BF%83...          心滿憶足 養身館（無分店）   \n",
       "0   https://www.google.com.tw/maps/place/%E5%AF%92...                 寒舍艾麗酒店   \n",
       "0   https://www.google.com.tw/maps/place/%E8%AA%A0...                   誠品行旅   \n",
       "0   https://www.google.com.tw/maps/place/%E8%AA%A0...                   誠品行旅   \n",
       "0   https://www.google.com.tw/maps/place/%E8%AC%99...  謙匯普樂室行旅 PLACE X HOTEL   \n",
       "\n",
       "   total_rating place_category  total_reviews cost                address  \\\n",
       "0           4.4            NaN         3142.0  NaN         112台北市北投區奇岩路1號   \n",
       "0           4.3            NaN         3343.0  NaN       112台北市北投區光明路236號   \n",
       "0           4.3            NaN         2446.0  $$$         112台北市北投區中和街二號   \n",
       "0           4.4            NaN         3142.0  NaN         112台北市北投區奇岩路1號   \n",
       "0           4.0            NaN         2246.0  NaN       112台北市北投區光明路224號   \n",
       "..          ...            ...            ...  ...                    ...   \n",
       "0           4.1            NaN          105.0  NaN       110台北市信義區松山路407號   \n",
       "0           4.1            NaN         1750.0  NaN        110台北市信義區松高路18號   \n",
       "0           4.5            NaN         1477.0  $$$        110台北市信義區菸廠路98號   \n",
       "0           4.5            NaN         1477.0  $$$        110台北市信義區菸廠路98號   \n",
       "0           4.5            NaN         1206.0  NaN   110台北市信義區信義路五段109號B1   \n",
       "\n",
       "                      district  eat_in  to_go_1  to_go_2  delivery  \\\n",
       "0   Plus Code: 4GP4+2Q 北投區 台北市       0        0        0         0   \n",
       "0   Plus Code: 4GP4+CR 北投區 台北市       0        0        0         0   \n",
       "0   Plus Code: 4GQ3+3G 北投區 台北市       0        0        0         0   \n",
       "0   Plus Code: 4GP4+2Q 北投區 台北市       0        0        0         0   \n",
       "0   Plus Code: 4GP4+F2 北投區 台北市       0        0        0         0   \n",
       "..                         ...     ...      ...      ...       ...   \n",
       "0   Plus Code: 2HRH+H6 信義區 台北市       0        0        0         0   \n",
       "0   Plus Code: 2HQ8+FW 信義區 台北市       0        0        0         0   \n",
       "0   Plus Code: 2HV6+RR 信義區 台北市       0        0        0         0   \n",
       "0   Plus Code: 2HV6+RR 信義區 台北市       0        0        0         0   \n",
       "0   Plus Code: 2HMF+86 信義區 台北市       0        0        0         0   \n",
       "\n",
       "                                        opening_hours  \\\n",
       "0                                                 NaN   \n",
       "0                                                 NaN   \n",
       "0                                                 NaN   \n",
       "0                                                 NaN   \n",
       "0                                                 NaN   \n",
       "..                                                ...   \n",
       "0   星期二、10:00 到 00:00; 星期三、10:00 到 00:00; 星期四、10:0...   \n",
       "0                                                 NaN   \n",
       "0                                                 NaN   \n",
       "0                                                 NaN   \n",
       "0                                                 NaN   \n",
       "\n",
       "                                        website          phone close  \\\n",
       "0                 https://www.thegaiahotel.com/   02 5551 8888   NaN   \n",
       "0                     http://www.kagaya.com.tw/   02 2891 1111   NaN   \n",
       "0   https://www.hotelroyal.com.tw/zh-tw/beitou/   02 2896 9777   NaN   \n",
       "0                 https://www.thegaiahotel.com/   02 5551 8888   NaN   \n",
       "0                    http://www.sweetme.com.tw/   02 2898 3838   NaN   \n",
       "..                                          ...            ...   ...   \n",
       "0                                           NaN   02 8787 1066   NaN   \n",
       "0             http://www.humblehousehotels.com/   02 6631 8000   NaN   \n",
       "0                   http://www.eslitehotel.com/   02 6626 2888   NaN   \n",
       "0                   http://www.eslitehotel.com/   02 6626 2888   NaN   \n",
       "0                        https://placex109.com/   02 8786 4188   NaN   \n",
       "\n",
       "   place_acquisition_date  \n",
       "0              2022-11-22  \n",
       "0              2022-11-22  \n",
       "0              2022-11-22  \n",
       "0              2022-11-22  \n",
       "0              2022-11-22  \n",
       "..                    ...  \n",
       "0              2022-11-22  \n",
       "0              2022-11-22  \n",
       "0              2022-11-22  \n",
       "0              2022-11-22  \n",
       "0              2022-11-22  \n",
       "\n",
       "[602 rows x 17 columns]"
      ]
     },
     "execution_count": 361,
     "metadata": {},
     "output_type": "execute_result"
    }
   ],
   "source": [
    "df_place_null = df_taipei[df_taipei['place_category'].isnull()]\n",
    "df_place_null"
   ]
  },
  {
   "cell_type": "markdown",
   "id": "d739585a",
   "metadata": {},
   "source": [
    "### 篩選pikao版"
   ]
  },
  {
   "cell_type": "code",
   "execution_count": 341,
   "id": "d3609d0a",
   "metadata": {},
   "outputs": [
    {
     "data": {
      "text/html": [
       "<div>\n",
       "<style scoped>\n",
       "    .dataframe tbody tr th:only-of-type {\n",
       "        vertical-align: middle;\n",
       "    }\n",
       "\n",
       "    .dataframe tbody tr th {\n",
       "        vertical-align: top;\n",
       "    }\n",
       "\n",
       "    .dataframe thead th {\n",
       "        text-align: right;\n",
       "    }\n",
       "</style>\n",
       "<table border=\"1\" class=\"dataframe\">\n",
       "  <thead>\n",
       "    <tr style=\"text-align: right;\">\n",
       "      <th></th>\n",
       "      <th>0</th>\n",
       "    </tr>\n",
       "  </thead>\n",
       "  <tbody>\n",
       "  </tbody>\n",
       "</table>\n",
       "</div>"
      ],
      "text/plain": [
       "Empty DataFrame\n",
       "Columns: [0]\n",
       "Index: []"
      ]
     },
     "execution_count": 341,
     "metadata": {},
     "output_type": "execute_result"
    }
   ],
   "source": [
    "category_pikao = pd.read_csv('category_pikao.csv', header=None)"
   ]
  },
  {
   "cell_type": "markdown",
   "id": "854577d8",
   "metadata": {},
   "source": [
    "### 篩選place_category類別"
   ]
  },
  {
   "cell_type": "code",
   "execution_count": 363,
   "id": "8d3dbbc1",
   "metadata": {},
   "outputs": [],
   "source": [
    "df_category = df_taipei[df_taipei['place_category'].isin(category_pikao[0])]\n",
    "df_category.to_csv('place_info_classification.csv', index=None)"
   ]
  },
  {
   "cell_type": "markdown",
   "id": "bfb485e4",
   "metadata": {},
   "source": [
    "### 篩選評論數>100"
   ]
  },
  {
   "cell_type": "code",
   "execution_count": 355,
   "id": "ea9e3190",
   "metadata": {},
   "outputs": [
    {
     "data": {
      "text/plain": [
       "14787"
      ]
     },
     "execution_count": 355,
     "metadata": {},
     "output_type": "execute_result"
    }
   ],
   "source": [
    "df_100 = df_category[df_category['total_reviews']>=100]\n",
    "df_100.shape[0]"
   ]
  },
  {
   "cell_type": "code",
   "execution_count": 358,
   "id": "2da37476",
   "metadata": {},
   "outputs": [
    {
     "data": {
      "text/plain": [
       "10072880.0"
      ]
     },
     "execution_count": 358,
     "metadata": {},
     "output_type": "execute_result"
    }
   ],
   "source": [
    "df_100['total_reviews'].sum()"
   ]
  },
  {
   "cell_type": "code",
   "execution_count": 357,
   "id": "93ec6d72",
   "metadata": {
    "collapsed": true
   },
   "outputs": [
    {
     "data": {
      "text/plain": [
       "(array([1.0758e+04, 2.0860e+03, 8.1200e+02, 4.3000e+02, 2.2300e+02,\n",
       "        1.1800e+02, 1.0700e+02, 5.6000e+01, 5.8000e+01, 2.3000e+01,\n",
       "        1.7000e+01, 1.6000e+01, 1.8000e+01, 1.1000e+01, 8.0000e+00,\n",
       "        3.0000e+00, 9.0000e+00, 5.0000e+00, 4.0000e+00, 2.0000e+00,\n",
       "        3.0000e+00, 0.0000e+00, 3.0000e+00, 1.0000e+00, 0.0000e+00,\n",
       "        0.0000e+00, 1.0000e+00, 2.0000e+00, 2.0000e+00, 0.0000e+00,\n",
       "        1.0000e+00, 2.0000e+00, 1.0000e+00, 1.0000e+00, 0.0000e+00,\n",
       "        0.0000e+00, 0.0000e+00, 1.0000e+00, 0.0000e+00, 1.0000e+00,\n",
       "        0.0000e+00, 0.0000e+00, 0.0000e+00, 0.0000e+00, 0.0000e+00,\n",
       "        0.0000e+00, 0.0000e+00, 1.0000e+00, 0.0000e+00, 0.0000e+00,\n",
       "        0.0000e+00, 0.0000e+00, 0.0000e+00, 0.0000e+00, 0.0000e+00,\n",
       "        0.0000e+00, 0.0000e+00, 0.0000e+00, 0.0000e+00, 0.0000e+00,\n",
       "        0.0000e+00, 0.0000e+00, 0.0000e+00, 0.0000e+00, 0.0000e+00,\n",
       "        0.0000e+00, 0.0000e+00, 0.0000e+00, 0.0000e+00, 0.0000e+00,\n",
       "        0.0000e+00, 0.0000e+00, 0.0000e+00, 0.0000e+00, 1.0000e+00,\n",
       "        0.0000e+00, 0.0000e+00, 0.0000e+00, 0.0000e+00, 0.0000e+00,\n",
       "        0.0000e+00, 0.0000e+00, 0.0000e+00, 0.0000e+00, 1.0000e+00,\n",
       "        0.0000e+00, 0.0000e+00, 0.0000e+00, 0.0000e+00, 0.0000e+00,\n",
       "        0.0000e+00, 0.0000e+00, 0.0000e+00, 0.0000e+00, 0.0000e+00,\n",
       "        0.0000e+00, 0.0000e+00, 0.0000e+00, 0.0000e+00, 1.0000e+00]),\n",
       " array([  100.  ,   658.91,  1217.82,  1776.73,  2335.64,  2894.55,\n",
       "         3453.46,  4012.37,  4571.28,  5130.19,  5689.1 ,  6248.01,\n",
       "         6806.92,  7365.83,  7924.74,  8483.65,  9042.56,  9601.47,\n",
       "        10160.38, 10719.29, 11278.2 , 11837.11, 12396.02, 12954.93,\n",
       "        13513.84, 14072.75, 14631.66, 15190.57, 15749.48, 16308.39,\n",
       "        16867.3 , 17426.21, 17985.12, 18544.03, 19102.94, 19661.85,\n",
       "        20220.76, 20779.67, 21338.58, 21897.49, 22456.4 , 23015.31,\n",
       "        23574.22, 24133.13, 24692.04, 25250.95, 25809.86, 26368.77,\n",
       "        26927.68, 27486.59, 28045.5 , 28604.41, 29163.32, 29722.23,\n",
       "        30281.14, 30840.05, 31398.96, 31957.87, 32516.78, 33075.69,\n",
       "        33634.6 , 34193.51, 34752.42, 35311.33, 35870.24, 36429.15,\n",
       "        36988.06, 37546.97, 38105.88, 38664.79, 39223.7 , 39782.61,\n",
       "        40341.52, 40900.43, 41459.34, 42018.25, 42577.16, 43136.07,\n",
       "        43694.98, 44253.89, 44812.8 , 45371.71, 45930.62, 46489.53,\n",
       "        47048.44, 47607.35, 48166.26, 48725.17, 49284.08, 49842.99,\n",
       "        50401.9 , 50960.81, 51519.72, 52078.63, 52637.54, 53196.45,\n",
       "        53755.36, 54314.27, 54873.18, 55432.09, 55991.  ]),\n",
       " <BarContainer object of 100 artists>)"
      ]
     },
     "execution_count": 357,
     "metadata": {},
     "output_type": "execute_result"
    },
    {
     "data": {
      "image/png": "[encoded data removed]",
      "text/plain": [
       "<Figure size 640x480 with 1 Axes>"
      ]
     },
     "metadata": {},
     "output_type": "display_data"
    }
   ],
   "source": [
    "import matplotlib.pyplot as plt\n",
    "axes = plt.axes()\n",
    "axes.set_xlim([100, 10000])\n",
    "axes.set_ylim([0, 1000])\n",
    "plt.hist(df_100['total_reviews'], bins=100, edgecolor=\"LightSteelBlue\")"
   ]
  },
  {
   "cell_type": "markdown",
   "id": "fc216654",
   "metadata": {},
   "source": [
    "# 備註: place_category = NaN的還沒處理"
   ]
  }
 ],
 "metadata": {
  "kernelspec": {
   "display_name": "Python 3 (ipykernel)",
   "language": "python",
   "name": "python3"
  },
  "language_info": {
   "codemirror_mode": {
    "name": "ipython",
    "version": 3
   },
   "file_extension": ".py",
   "mimetype": "text/x-python",
   "name": "python",
   "nbconvert_exporter": "python",
   "pygments_lexer": "ipython3",
   "version": "3.9.12"
  }
 },
 "nbformat": 4,
 "nbformat_minor": 5
}
