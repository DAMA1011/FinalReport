{
 "cells": [
  {
   "cell_type": "code",
   "execution_count": null,
   "id": "6779a62c",
   "metadata": {},
   "outputs": [],
   "source": [
    "# 操作 browser 的 API\n",
    "from selenium.webdriver.chrome.service import Service\n",
    "from selenium import webdriver\n",
    "from webdriver_manager.chrome import ChromeDriverManager\n",
    "\n",
    "# 處理逾時的例外工具\n",
    "from selenium.common.exceptions import TimeoutException\n",
    "\n",
    "# 等待某個元素的出現\n",
    "from selenium.webdriver.support.ui import WebDriverWait\n",
    "\n",
    "# 期待元素出現並執行下一個指令\n",
    "from selenium.webdriver.support import expected_conditions as EC\n",
    "\n",
    "# 透過什麼方式選取元素\n",
    "from selenium.webdriver.common.by import By\n",
    "from selenium.webdriver.support.ui import Select\n",
    "\n",
    "# 強制等待\n",
    "from time import sleep\n",
    "\n",
    "# 反爬蟲\n",
    "import undetected_chromedriver as uc\n",
    "\n",
    "# 執行 command 的時候用的\n",
    "import os\n",
    "\n",
    "# 整理 json 使用的工具\n",
    "import json\n",
    "\n",
    "from fake_useragent import UserAgent \n",
    "ua = UserAgent(cache= True)\n",
    "\n",
    "my_options = uc.ChromeOptions()\n",
    "\n",
    "my_options.add_argument(\"--start-maximized\") # 視窗最大化\n",
    "my_options.add_argument(\"--incognito\") # 無痕\n",
    "my_options.add_argument(\"--disable-popup-blocking\") # 禁用彈出攔截\n",
    "my_options.add_argument(\"--disable-notifiactions\") # 關閉推波通知\n",
    "my_options.add_argument(\"--lang=zh-TW\") # 設定為繁體中文\n",
    "# my_options.add_argument(\"--user-agent=\"+ua.random)\n",
    "\n",
    "# 自動取得Chrom driver 不用再額外取得 executable_path=\"chromedriver.exe\"\n",
    "driver = uc.Chrome(options=my_options)"
   ]
  },
  {
   "cell_type": "code",
   "execution_count": 44,
   "id": "ab83cece",
   "metadata": {},
   "outputs": [],
   "source": [
    "import requests as req\n",
    "from bs4 import BeautifulSoup as bs\n",
    "\n",
    "url = \"https://zip5.5432.tw/cityzip/%E8%87%BA%E5%8C%97%E5%B8%82/%E4%B8%AD%E6%AD%A3%E5%8D%80\"\n",
    "\n",
    "res = req.get(url)\n",
    "soup = bs(res.text,\"lxml\")\n",
    "\n",
    "road = soup.select(\"td.zip-road a\")\n",
    "\n",
    "for a in road:\n",
    "    with open(\"Zhongzheng_District_Name.txt\",\"a\",encoding=\"utf-8\") as f:\n",
    "        f.write(a.get_text())\n"
   ]
  },
  {
   "cell_type": "code",
   "execution_count": null,
   "id": "9dc1376e",
   "metadata": {},
   "outputs": [],
   "source": []
  }
 ],
 "metadata": {
  "kernelspec": {
   "display_name": "Python 3 (ipykernel)",
   "language": "python",
   "name": "python3"
  },
  "language_info": {
   "codemirror_mode": {
    "name": "ipython",
    "version": 3
   },
   "file_extension": ".py",
   "mimetype": "text/x-python",
   "name": "python",
   "nbconvert_exporter": "python",
   "pygments_lexer": "ipython3",
   "version": "3.9.13"
  }
 },
 "nbformat": 4,
 "nbformat_minor": 5
}
